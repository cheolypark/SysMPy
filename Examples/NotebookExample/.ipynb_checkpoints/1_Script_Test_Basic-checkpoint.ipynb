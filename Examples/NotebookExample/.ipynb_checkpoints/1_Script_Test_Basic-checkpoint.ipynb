{
 "cells": [
  {
   "cell_type": "code",
   "execution_count": 1,
   "metadata": {},
   "outputs": [],
   "source": [
    "import os\n",
    "import sys\n",
    "sys.path.insert(0, os.path.abspath('E:/SW-SETAI/SETAI-Component/6_UnifiedCode/Core/Meta'))\n",
    "from entity import *\n",
    "import asyncio"
   ]
  },
  {
   "cell_type": "markdown",
   "metadata": {},
   "source": [
    "# Step 1: Define Requirements"
   ]
  },
  {
   "cell_type": "code",
   "execution_count": null,
   "metadata": {},
   "outputs": [],
   "source": []
  },
  {
   "cell_type": "markdown",
   "metadata": {},
   "source": [
    "# Step 2: Define System Models"
   ]
  },
  {
   "cell_type": "code",
   "execution_count": 2,
   "metadata": {},
   "outputs": [],
   "source": [
    "p = Process(\"process\")\n",
    "act1 = p.Action(\"Action1\")\n",
    "act2 = p.Action(\"Action2\")\n",
    "act3 = p.Action(\"Action3\")"
   ]
  },
  {
   "cell_type": "markdown",
   "metadata": {},
   "source": [
    "# Step 3: Integrate External Tools"
   ]
  },
  {
   "cell_type": "markdown",
   "metadata": {},
   "source": [
    "# Step 3: Run Simulations"
   ]
  },
  {
   "cell_type": "code",
   "execution_count": 3,
   "metadata": {},
   "outputs": [
    {
     "name": "stdout",
     "output_type": "stream",
     "text": [
      "T: 0, N: Action1, E: Waiting\n",
      "T: 0, N: Action2, E: Waiting\n",
      "T: 0, N: Action3, E: Waiting\n",
      "T: 0, N: process_END, E: Waiting\n",
      "T: 0, N: process, E: Waiting\n",
      "T: 0, N: process, E: Activated, I: Fired from: process_END\n",
      "T: 0, N: process, E: Completed\n",
      "T: 0, N: process, E: Waiting\n",
      "T: 0, N: Action1, E: Activated, I: Fired from: process\n",
      "T: 1, N: Action1, E: Completed\n",
      "T: 1, N: Action1, E: Waiting\n",
      "T: 1, N: Action2, E: Activated, I: Fired from: Action1\n",
      "T: 2, N: Action2, E: Completed\n",
      "T: 2, N: Action2, E: Waiting\n",
      "T: 2, N: Action3, E: Activated, I: Fired from: Action2\n",
      "T: 3, N: Action3, E: Completed\n",
      "T: 3, N: Action3, E: Waiting\n",
      "T: 3, N: process_END, E: Activated, I: Fired from: Action3\n",
      "T: 3, N: process_END, E: Completed\n",
      "T: 3, N: process_END, E: Root Process Done\n",
      "################################################\n",
      "T: 3, N: process_END, E: Waiting\n",
      "T: 3, N: process, E: Activated, I: Fired from: process_END\n",
      "T: 3, N: process, E: Completed\n",
      "T: 3, N: process, E: Waiting\n",
      "T: 3, N: Action1, E: Activated, I: Fired from: process\n",
      "T: 4, N: Action1, E: Completed\n",
      "T: 4, N: Action1, E: Waiting\n",
      "T: 4, N: Action2, E: Activated, I: Fired from: Action1\n",
      "T: 5, N: Action2, E: Completed\n",
      "T: 5, N: Action2, E: Waiting\n",
      "T: 5, N: Action3, E: Activated, I: Fired from: Action2\n",
      "T: 6, N: Action3, E: Completed\n"
     ]
    }
   ],
   "source": [
    "await p.sim()"
   ]
  },
  {
   "cell_type": "markdown",
   "metadata": {},
   "source": [
    "# Step 5: Evaluate Simulation Results"
   ]
  },
  {
   "cell_type": "markdown",
   "metadata": {},
   "source": [
    "# Step 6: Reports Documents"
   ]
  },
  {
   "cell_type": "code",
   "execution_count": null,
   "metadata": {},
   "outputs": [],
   "source": []
  }
 ],
 "metadata": {
  "kernelspec": {
   "display_name": "Python 3",
   "language": "python",
   "name": "python3"
  },
  "language_info": {
   "codemirror_mode": {
    "name": "ipython",
    "version": 3
   },
   "file_extension": ".py",
   "mimetype": "text/x-python",
   "name": "python",
   "nbconvert_exporter": "python",
   "pygments_lexer": "ipython3",
   "version": "3.7.4"
  },
  "latex_envs": {
   "LaTeX_envs_menu_present": true,
   "autoclose": false,
   "autocomplete": true,
   "bibliofile": "biblio.bib",
   "cite_by": "apalike",
   "current_citInitial": 1,
   "eqLabelWithNumbers": true,
   "eqNumInitial": 1,
   "hotkeys": {
    "equation": "Ctrl-E",
    "itemize": "Ctrl-I"
   },
   "labels_anchors": false,
   "latex_user_defs": false,
   "report_style_numbering": false,
   "user_envs_cfg": false
  }
 },
 "nbformat": 4,
 "nbformat_minor": 2
}
