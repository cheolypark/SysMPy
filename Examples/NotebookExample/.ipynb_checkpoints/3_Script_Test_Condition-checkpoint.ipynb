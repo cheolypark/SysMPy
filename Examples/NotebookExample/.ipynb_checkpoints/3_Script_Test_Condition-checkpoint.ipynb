{
 "cells": [
  {
   "cell_type": "code",
   "execution_count": 1,
   "metadata": {},
   "outputs": [],
   "source": [
    "import os\n",
    "import sys\n",
    "sys.path.insert(0, os.path.abspath('E:/SW-SETAI/SETAI-Component/6_UnifiedCode/Core/Meta'))\n",
    "from entity import *\n",
    "import asyncio"
   ]
  },
  {
   "cell_type": "markdown",
   "metadata": {},
   "source": [
    "# Step 1: Define Requirements"
   ]
  },
  {
   "cell_type": "code",
   "execution_count": 2,
   "metadata": {},
   "outputs": [
    {
     "name": "stdout",
     "output_type": "stream",
     "text": [
      "REQ_1.1 has [REQ_1.1.1, REQ_1.1.2]\n"
     ]
    }
   ],
   "source": [
    "r1_1_1 = Requirement(id=\"1.1.1\",\n",
    "                 des=\"The system shall fit into a volume not exceeding 1.0 m^3\",\n",
    "                 verb=\"fit into\",\n",
    "                 attribute=\"volume\",\n",
    "                 relation=\"<\",\n",
    "                 value=\"1\",\n",
    "                 unit=\"m^3\"\n",
    "                 )\n",
    "\n",
    "r1_1_2 = Requirement(id=\"1.1.2\",\n",
    "                 des=\"The system2 shall fit into a volume not exceeding 4.0 m^3\",\n",
    "                 verb=\"fit into\",\n",
    "                 attribute=\"volume\",\n",
    "                 relation=\"<\",\n",
    "                 value=\"4\",\n",
    "                 unit=\"m^3\"\n",
    "                 )\n",
    " \n",
    "\n",
    "r1 = Requirement(id=\"1.1\",\n",
    "                 des=\"The system shall fit into a volume not exceeding 1.0 m^3\",\n",
    "                 verb=\"fit into\",\n",
    "                 attribute=\"volume\",\n",
    "                 relation=\"<\",\n",
    "                 value=\"1\",\n",
    "                 unit=\"m^3\"\n",
    "                 )  \n",
    "\n",
    "\n",
    "r1.has(r1_1_1)\n",
    "r1.has(r1_1_2)\n",
    "\n",
    "print(r1)"
   ]
  },
  {
   "cell_type": "markdown",
   "metadata": {},
   "source": [
    "# Step 2: Define System Models"
   ]
  },
  {
   "cell_type": "code",
   "execution_count": 3,
   "metadata": {},
   "outputs": [],
   "source": [
    "p = Process(\"process\")\n",
    "act1 = p.Action(\"Action1\")\n",
    "act2 = p.Action(\"Action2\")\n",
    "act3 = p.Action(\"Action3\")"
   ]
  },
  {
   "cell_type": "markdown",
   "metadata": {},
   "source": [
    "# Step 3: Integrate External Tools"
   ]
  },
  {
   "cell_type": "markdown",
   "metadata": {},
   "source": [
    "# Step 3: Run Simulations"
   ]
  },
  {
   "cell_type": "code",
   "execution_count": 4,
   "metadata": {},
   "outputs": [
    {
     "name": "stdout",
     "output_type": "stream",
     "text": [
      "At Time 0, Action1 was Activated.\n",
      "At Time 1, Action1 was Completed.\n",
      "At Time 1, Action2 was Activated.\n",
      "At Time 2, Action2 was Completed.\n",
      "At Time 2, Action3 was Activated.\n",
      "At Time 3, Action3 was Completed.\n",
      "################################################\n",
      "At Time 3, Action1 was Activated.\n",
      "At Time 4, Action1 was Completed.\n",
      "At Time 4, Action2 was Activated.\n",
      "At Time 5, Action2 was Completed.\n",
      "At Time 5, Action3 was Activated.\n",
      "At Time 6, Action3 was Completed.\n"
     ]
    }
   ],
   "source": [
    "await p.sim()"
   ]
  },
  {
   "cell_type": "markdown",
   "metadata": {},
   "source": [
    "# Step 5: Evaluate Simulation Results"
   ]
  },
  {
   "cell_type": "markdown",
   "metadata": {},
   "source": [
    "# Step 6: Reports Documents"
   ]
  },
  {
   "cell_type": "code",
   "execution_count": null,
   "metadata": {},
   "outputs": [],
   "source": []
  }
 ],
 "metadata": {
  "kernelspec": {
   "display_name": "Python 3",
   "language": "python",
   "name": "python3"
  },
  "language_info": {
   "codemirror_mode": {
    "name": "ipython",
    "version": 3
   },
   "file_extension": ".py",
   "mimetype": "text/x-python",
   "name": "python",
   "nbconvert_exporter": "python",
   "pygments_lexer": "ipython3",
   "version": "3.7.4"
  },
  "latex_envs": {
   "LaTeX_envs_menu_present": true,
   "autoclose": false,
   "autocomplete": true,
   "bibliofile": "biblio.bib",
   "cite_by": "apalike",
   "current_citInitial": 1,
   "eqLabelWithNumbers": true,
   "eqNumInitial": 1,
   "hotkeys": {
    "equation": "Ctrl-E",
    "itemize": "Ctrl-I"
   },
   "labels_anchors": false,
   "latex_user_defs": false,
   "report_style_numbering": false,
   "user_envs_cfg": false
  }
 },
 "nbformat": 4,
 "nbformat_minor": 4
}
