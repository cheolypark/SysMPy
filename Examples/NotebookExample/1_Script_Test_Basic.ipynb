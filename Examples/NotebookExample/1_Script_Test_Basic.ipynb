{
 "cells": [
  {
   "cell_type": "code",
   "execution_count": 3,
   "metadata": {},
   "outputs": [],
   "source": [
    "%reset -f\n",
    "\n",
    "import os\n",
    "import sys\n",
    "sys.path.insert(0, os.path.abspath('E:\\SW-SysMPy\\SysMPy\\Core'))\n",
    "from entity import *\n",
    "import asyncio"
   ]
  },
  {
   "cell_type": "code",
   "execution_count": null,
   "metadata": {},
   "outputs": [],
   "source": []
  },
  {
   "cell_type": "code",
   "execution_count": 4,
   "metadata": {},
   "outputs": [
    {
     "name": "stdout",
     "output_type": "stream",
     "text": [
      "At Time 0, Action0_0 waiting.\n",
      "At Time 0, Action0_1 waiting.\n",
      "At Time 0, Action1_0 waiting.\n",
      "At Time 0, Action1_1 waiting.\n",
      "At Time 0, Action2_0 waiting.\n",
      "At Time 0, Action2_1 waiting.\n",
      "At Time 0, Action2_0 activated.\n",
      "At Time 1, Action2_0 completed.\n",
      "At Time 1, Action2_0 waiting.\n",
      "At Time 1, Action2_1 activated.\n",
      "At Time 2, Action2_1 completed.\n",
      "At Time 2, Action2_1 waiting.\n",
      "At Time 2, process_END simulation 0.\n",
      "At Time 2, Action0_0 activated.\n",
      "At Time 3, Action0_0 completed.\n",
      "At Time 3, Action0_0 waiting.\n",
      "At Time 3, Action0_1 activated.\n",
      "At Time 4, Action0_1 completed.\n",
      "At Time 4, Action0_1 waiting.\n",
      "At Time 4, process_END simulation 1.\n",
      "At Time 4, Action0_0 activated.\n",
      "At Time 5, Action0_0 completed.\n",
      "At Time 5, Action0_0 waiting.\n",
      "At Time 5, Action0_1 activated.\n",
      "At Time 6, Action0_1 completed.\n"
     ]
    }
   ],
   "source": [
    "\n",
    "p = Process(\"process\")\n",
    "\n",
    "p_con1 = p.And()\n",
    "\n",
    "for i in range(3):\n",
    "    p2 = p_con1.Process(f\"P{i}\")\n",
    "\n",
    "    p_con2 = p2.Condition(f\"condition{i}_2\")\n",
    "    p21 = p_con2.Process(f\"P{i}_1\")\n",
    "    p22 = p_con2.Process(f\"P{i}_2\")  \n",
    "    \n",
    "    for j in range(2):\n",
    "        p21.Action(f\"Action{i}_{j}\") \n",
    "    \n",
    "await p.sim()\n"
   ]
  },
  {
   "cell_type": "markdown",
   "metadata": {},
   "source": [
    "# Step 1: Define Requirements"
   ]
  },
  {
   "cell_type": "code",
   "execution_count": 2,
   "metadata": {},
   "outputs": [
    {
     "ename": "TypeError",
     "evalue": "__init__() missing 1 required positional argument: 'name'",
     "output_type": "error",
     "traceback": [
      "\u001b[1;31m---------------------------------------------------------------------------\u001b[0m",
      "\u001b[1;31mTypeError\u001b[0m                                 Traceback (most recent call last)",
      "\u001b[1;32m<ipython-input-2-eb90eb724a70>\u001b[0m in \u001b[0;36m<module>\u001b[1;34m\u001b[0m\n\u001b[0;32m      5\u001b[0m                  \u001b[0mrelation\u001b[0m\u001b[1;33m=\u001b[0m\u001b[1;34m\"<\"\u001b[0m\u001b[1;33m,\u001b[0m\u001b[1;33m\u001b[0m\u001b[1;33m\u001b[0m\u001b[0m\n\u001b[0;32m      6\u001b[0m                  \u001b[0mvalue\u001b[0m\u001b[1;33m=\u001b[0m\u001b[1;34m\"1\"\u001b[0m\u001b[1;33m,\u001b[0m\u001b[1;33m\u001b[0m\u001b[1;33m\u001b[0m\u001b[0m\n\u001b[1;32m----> 7\u001b[1;33m                  \u001b[0munit\u001b[0m\u001b[1;33m=\u001b[0m\u001b[1;34m\"m^3\"\u001b[0m\u001b[1;33m\u001b[0m\u001b[1;33m\u001b[0m\u001b[0m\n\u001b[0m\u001b[0;32m      8\u001b[0m                  )\n\u001b[0;32m      9\u001b[0m \u001b[1;33m\u001b[0m\u001b[0m\n",
      "\u001b[1;31mTypeError\u001b[0m: __init__() missing 1 required positional argument: 'name'"
     ]
    }
   ],
   "source": [
    "r1_1_1 = Requirement(id=\"1.1.1\",\n",
    "                 des=\"The system shall fit into a volume not exceeding 1.0 m^3\",\n",
    "                 verb=\"fit into\",\n",
    "                 attribute=\"volume\",\n",
    "                 relation=\"<\",\n",
    "                 value=\"1\",\n",
    "                 unit=\"m^3\"\n",
    "                 )\n",
    "\n",
    "r1_1_2 = Requirement(id=\"1.1.2\",\n",
    "                 des=\"The system2 shall fit into a volume not exceeding 4.0 m^3\",\n",
    "                 verb=\"fit into\",\n",
    "                 attribute=\"volume\",\n",
    "                 relation=\"<\",\n",
    "                 value=\"4\",\n",
    "                 unit=\"m^3\"\n",
    "                 )\n",
    " \n",
    "\n",
    "r1 = Requirement(id=\"1.1\",\n",
    "                 des=\"The system shall fit into a volume not exceeding 1.0 m^3\",\n",
    "                 verb=\"fit into\",\n",
    "                 attribute=\"volume\",\n",
    "                 relation=\"<\",\n",
    "                 value=\"1\",\n",
    "                 unit=\"m^3\"\n",
    "                 )  \n",
    "\n",
    "\n",
    "r1.has(r1_1_1)\n",
    "r1.has(r1_1_2)\n",
    "\n",
    "print(r1)"
   ]
  },
  {
   "cell_type": "markdown",
   "metadata": {},
   "source": [
    "# Step 2: Define System Models"
   ]
  },
  {
   "cell_type": "code",
   "execution_count": 3,
   "metadata": {},
   "outputs": [],
   "source": [
    "p = Process(\"process\")\n",
    "act1 = p.Action(\"Action1\")\n",
    "act2 = p.Action(\"Action2\")\n",
    "act3 = p.Action(\"Action3\")"
   ]
  },
  {
   "cell_type": "markdown",
   "metadata": {},
   "source": [
    "# Step 3: Integrate External Tools"
   ]
  },
  {
   "cell_type": "markdown",
   "metadata": {},
   "source": [
    "# Step 3: Run Simulations"
   ]
  },
  {
   "cell_type": "code",
   "execution_count": 4,
   "metadata": {},
   "outputs": [
    {
     "name": "stdout",
     "output_type": "stream",
     "text": [
      "At Time 0, Action1 waiting.\n",
      "At Time 0, Action2 waiting.\n",
      "At Time 0, Action3 waiting.\n",
      "At Time 0, Action1 activated.\n",
      "At Time 1, Action1 completed.\n",
      "At Time 1, Action1 waiting.\n",
      "At Time 1, Action2 activated.\n",
      "At Time 2, Action2 completed.\n",
      "At Time 2, Action2 waiting.\n",
      "At Time 2, Action3 activated.\n",
      "At Time 3, Action3 completed.\n",
      "At Time 3, Action3 waiting.\n",
      "At Time 3, process_END simulation 0.\n",
      "At Time 3, Action1 activated.\n",
      "At Time 4, Action1 completed.\n",
      "At Time 4, Action1 waiting.\n",
      "At Time 4, Action2 activated.\n",
      "At Time 5, Action2 completed.\n",
      "At Time 5, Action2 waiting.\n",
      "At Time 5, Action3 activated.\n",
      "At Time 6, Action3 completed.\n"
     ]
    }
   ],
   "source": [
    "await p.sim()"
   ]
  },
  {
   "cell_type": "markdown",
   "metadata": {},
   "source": [
    "# Step 5: Evaluate Simulation Results"
   ]
  },
  {
   "cell_type": "markdown",
   "metadata": {},
   "source": [
    "# Step 6: Reports Documents"
   ]
  },
  {
   "cell_type": "code",
   "execution_count": null,
   "metadata": {},
   "outputs": [],
   "source": []
  }
 ],
 "metadata": {
  "kernelspec": {
   "display_name": "Python 3",
   "language": "python",
   "name": "python3"
  },
  "language_info": {
   "codemirror_mode": {
    "name": "ipython",
    "version": 3
   },
   "file_extension": ".py",
   "mimetype": "text/x-python",
   "name": "python",
   "nbconvert_exporter": "python",
   "pygments_lexer": "ipython3",
   "version": "3.7.4"
  },
  "latex_envs": {
   "LaTeX_envs_menu_present": true,
   "autoclose": false,
   "autocomplete": true,
   "bibliofile": "biblio.bib",
   "cite_by": "apalike",
   "current_citInitial": 1,
   "eqLabelWithNumbers": true,
   "eqNumInitial": 1,
   "hotkeys": {
    "equation": "Ctrl-E",
    "itemize": "Ctrl-I"
   },
   "labels_anchors": false,
   "latex_user_defs": false,
   "report_style_numbering": false,
   "user_envs_cfg": false
  }
 },
 "nbformat": 4,
 "nbformat_minor": 4
}
