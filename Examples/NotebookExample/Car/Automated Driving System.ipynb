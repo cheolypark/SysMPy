{
 "cells": [
  {
   "cell_type": "code",
   "execution_count": 3,
   "metadata": {},
   "outputs": [],
   "source": [
    "%reset -f\n",
    "\n",
    "import os\n",
    "import sys\n",
    "sys.path.insert(0, os.path.abspath('E:\\SW-SysMPy\\SysMPy\\Core'))\n",
    "from entity import *\n",
    "import asyncio\n",
    "\n",
    "from IPython.core.display import HTML\n",
    "from IPython.display import IFrame\n",
    "import requests\n",
    "import urllib\n",
    "\n",
    "# Reference: https://www.nhtsa.gov/sites/nhtsa.dot.gov/files/documents/13882-automateddrivingsystems_092618_v1a_tag.pdf"
   ]
  },
  {
   "cell_type": "code",
   "execution_count": 9,
   "metadata": {},
   "outputs": [
    {
     "data": {
      "text/html": [
       "\n",
       "        <iframe\n",
       "            width=\"300\"\n",
       "            height=\"400\"\n",
       "            src=\"http://localhost:8080/?g=var Automated_Driving_System_Test_and_Evaluation_Method_Development_Process = graph.insertVertex(parent, 'Automated Driving System Test and Evaluation Method Development Process', '', 105.0, 42.0, 30, 30, 'Process') /n Automated_Driving_System_Test_and_Evaluation_Method_Development_Process.geometry.alternateBounds = new mxRectangle(0, 0, 60, 30) /n var Identify_appropriate_test_framework = graph.insertVertex(parent, 'Identify appropriate test framework', 'Identify appropriate test framework', 80.0, 84.0, 80, 30, 'Action') /n Identify_appropriate_test_framework.geometry.alternateBounds = new mxRectangle(0, 0, 60, 30) /n var Automated_Driving_System_Test_and_Evaluation_Method_Development_Process_Identify_appropriate_test_framework = graph.insertEdge(parent, null, '', Automated_Driving_System_Test_and_Evaluation_Method_Development_Process, Identify_appropriate_test_framework, 'Arrow_Edge_Process' ) /n var Identify_new_and_modified_test_tools = graph.insertVertex(parent, 'Identify new and modified test tools', 'Identify new and modified test tools', 80.0, 126.0, 80, 30, 'Action') /n Identify_new_and_modified_test_tools.geometry.alternateBounds = new mxRectangle(0, 0, 60, 30) /n var Identify_appropriate_test_framework_Identify_new_and_modified_test_tools = graph.insertEdge(parent, null, '', Identify_appropriate_test_framework, Identify_new_and_modified_test_tools ) /n var Identify_and_develop_test_scenario_framework = graph.insertVertex(parent, 'Identify and develop test scenario framework', 'Identify and develop test scenario framework', 80.0, 168.0, 80, 30, 'Action') /n Identify_and_develop_test_scenario_framework.geometry.alternateBounds = new mxRectangle(0, 0, 60, 30) /n var Identify_new_and_modified_test_tools_Identify_and_develop_test_scenario_framework = graph.insertEdge(parent, null, '', Identify_new_and_modified_test_tools, Identify_and_develop_test_scenario_framework ) /n var Develop_test_scenario_procedures = graph.insertVertex(parent, 'Develop test scenario procedures', 'Develop test scenario procedures', 80.0, 210.0, 80, 30, 'Action') /n Develop_test_scenario_procedures.geometry.alternateBounds = new mxRectangle(0, 0, 60, 30) /n var Identify_and_develop_test_scenario_framework_Develop_test_scenario_procedures = graph.insertEdge(parent, null, '', Identify_and_develop_test_scenario_framework, Develop_test_scenario_procedures ) /n var Identify_testing_challenges = graph.insertVertex(parent, 'Identify testing challenges', 'Identify testing challenges', 80.0, 252.0, 80, 30, 'Action') /n Identify_testing_challenges.geometry.alternateBounds = new mxRectangle(0, 0, 60, 30) /n var Develop_test_scenario_procedures_Identify_testing_challenges = graph.insertEdge(parent, null, '', Develop_test_scenario_procedures, Identify_testing_challenges ) /n var Automated_Driving_System_Test_and_Evaluation_Method_Development_Process_END = graph.insertVertex(parent, 'Automated Driving System Test and Evaluation Method Development Process_END', '', 105.0, 294.0, 30, 30, 'Process_END') /n Automated_Driving_System_Test_and_Evaluation_Method_Development_Process_END.geometry.alternateBounds = new mxRectangle(0, 0, 60, 30) /n var Identify_testing_challenges_Automated_Driving_System_Test_and_Evaluation_Method_Development_Process_END = graph.insertEdge(parent, null, '', Identify_testing_challenges, Automated_Driving_System_Test_and_Evaluation_Method_Development_Process_END, 'Arrow_Edge_Process' ) /n \"\n",
       "            frameborder=\"0\"\n",
       "            allowfullscreen\n",
       "        ></iframe>\n",
       "        "
      ],
      "text/plain": [
       "<IPython.lib.display.IFrame at 0x27c2a0ca488>"
      ]
     },
     "execution_count": 9,
     "metadata": {},
     "output_type": "execute_result"
    }
   ],
   "source": [
    "# Test 1\n",
    "p = Process(\"Automated Driving System Test and Evaluation Method Development Process\")\n",
    "\n",
    "p.Action(\"Identify appropriate test framework\") \n",
    "p.Action(\"Identify new and modified test tools\") \n",
    "p.Action(\"Identify and develop test scenario framework\") \n",
    "p.Action(\"Develop test scenario procedures\") \n",
    "p.Action(\"Identify testing challenges\") \n",
    "\n",
    "\n",
    "IFrame(\"http://localhost:8080/?g=\" + p.get_mxgraph(), width=300, height=400)\n",
    "\n"
   ]
  },
  {
   "cell_type": "code",
   "execution_count": 16,
   "metadata": {},
   "outputs": [
    {
     "data": {
      "text/html": [
       "\n",
       "        <iframe\n",
       "            width=\"300\"\n",
       "            height=\"600\"\n",
       "            src=\"http://localhost:8080/?g=var Automated_Driving_System_Functions = graph.insertVertex(parent, 'Automated Driving System Functions', '', 185.0, 42.0, 30, 30, 'Process') /n Automated_Driving_System_Functions.geometry.alternateBounds = new mxRectangle(0, 0, 60, 30) /n var and = graph.insertVertex(parent, 'and', 'A', 185.0, 84.0, 30, 30, 'And') /n and.geometry.alternateBounds = new mxRectangle(0, 0, 60, 30) /n var Automated_Driving_System_Functions_and = graph.insertEdge(parent, null, '', Automated_Driving_System_Functions, and, 'Arrow_Edge_Process' ) /n var p1 = graph.insertVertex(parent, 'p1', '', 120.0, 141.0, 0, 0, 'Process') /n p1.geometry.alternateBounds = new mxRectangle(0, 0, 60, 30) /n var and_p1 = graph.insertEdge(parent, null, '', and, p1 ) /n var p2 = graph.insertVertex(parent, 'p2', '', 280.0, 141.0, 0, 0, 'Process') /n p2.geometry.alternateBounds = new mxRectangle(0, 0, 60, 30) /n var and_p2 = graph.insertEdge(parent, null, '', and, p2 ) /n var Perception_and_Mapping = graph.insertVertex(parent, 'Perception and Mapping', 'Perception and Mapping', 160.0, 294.0, 80, 30, 'Action') /n Perception_and_Mapping.geometry.alternateBounds = new mxRectangle(0, 0, 60, 30) /n var Develop_World_Model = graph.insertVertex(parent, 'Develop World Model', 'Develop World Model', 160.0, 336.0, 80, 30, 'Action') /n Develop_World_Model.geometry.alternateBounds = new mxRectangle(0, 0, 60, 30) /n var Perception_and_Mapping_Develop_World_Model = graph.insertEdge(parent, null, '', Perception_and_Mapping, Develop_World_Model ) /n var Navigation_and_Planning_Decisions = graph.insertVertex(parent, 'Navigation and Planning Decisions', 'Navigation and Planning Decisions', 160.0, 378.0, 80, 30, 'Action') /n Navigation_and_Planning_Decisions.geometry.alternateBounds = new mxRectangle(0, 0, 60, 30) /n var Develop_World_Model_Navigation_and_Planning_Decisions = graph.insertEdge(parent, null, '', Develop_World_Model, Navigation_and_Planning_Decisions ) /n var Vehicle_Dynamics_and_Control = graph.insertVertex(parent, 'Vehicle Dynamics and Control', 'Vehicle Dynamics and Control', 160.0, 420.0, 80, 30, 'Action') /n Vehicle_Dynamics_and_Control.geometry.alternateBounds = new mxRectangle(0, 0, 60, 30) /n var Navigation_and_Planning_Decisions_Vehicle_Dynamics_and_Control = graph.insertEdge(parent, null, '', Navigation_and_Planning_Decisions, Vehicle_Dynamics_and_Control ) /n var Automated_Driving_System_Functions_END = graph.insertVertex(parent, 'Automated Driving System Functions_END', '', 185.0, 462.0, 30, 30, 'Process_END') /n Automated_Driving_System_Functions_END.geometry.alternateBounds = new mxRectangle(0, 0, 60, 30) /n var Vehicle_Dynamics_and_Control_Automated_Driving_System_Functions_END = graph.insertEdge(parent, null, '', Vehicle_Dynamics_and_Control, Automated_Driving_System_Functions_END, 'Arrow_Edge_Process' ) /n var Sensing = graph.insertVertex(parent, 'Sensing', 'Sensing', 80.0, 168.0, 80, 30, 'Action') /n Sensing.geometry.alternateBounds = new mxRectangle(0, 0, 60, 30) /n var p1_Sensing = graph.insertEdge(parent, null, '', p1, Sensing ) /n var Communication = graph.insertVertex(parent, 'Communication', 'Communication', 240.0, 168.0, 80, 30, 'Action') /n Communication.geometry.alternateBounds = new mxRectangle(0, 0, 60, 30) /n var p2_Communication = graph.insertEdge(parent, null, '', p2, Communication ) /n var p1_END = graph.insertVertex(parent, 'p1_END', '', 120.0, 225.0, 0, 0, 'Process_END') /n p1_END.geometry.alternateBounds = new mxRectangle(0, 0, 60, 30) /n var Sensing_p1_END = graph.insertEdge(parent, null, '', Sensing, p1_END ) /n var and_END = graph.insertVertex(parent, 'and_END', 'OR', 185.0, 252.0, 30, 30, 'Or_END') /n and_END.geometry.alternateBounds = new mxRectangle(0, 0, 60, 30) /n var p1_END_and_END = graph.insertEdge(parent, null, '', p1_END, and_END ) /n var p2_END = graph.insertVertex(parent, 'p2_END', '', 280.0, 225.0, 0, 0, 'Process_END') /n p2_END.geometry.alternateBounds = new mxRectangle(0, 0, 60, 30) /n var Communication_p2_END = graph.insertEdge(parent, null, '', Communication, p2_END ) /n var p2_END_and_END = graph.insertEdge(parent, null, '', p2_END, and_END ) /n var and_END_Perception_and_Mapping = graph.insertEdge(parent, null, '', and_END, Perception_and_Mapping ) /n \"\n",
       "            frameborder=\"0\"\n",
       "            allowfullscreen\n",
       "        ></iframe>\n",
       "        "
      ],
      "text/plain": [
       "<IPython.lib.display.IFrame at 0x27c2a17c048>"
      ]
     },
     "execution_count": 16,
     "metadata": {},
     "output_type": "execute_result"
    }
   ],
   "source": [
    "# Test 1\n",
    "p = Process(\"Automated Driving System Functions\")\n",
    "\n",
    "And = p.And()\n",
    "p1 = And.Process('p1')\n",
    "p2 = And.Process('p2')\n",
    "\n",
    "p1.Action(\"Sensing\") \n",
    "p2.Action(\"Communication\") \n",
    "p.Action(\"Perception and Mapping\") \n",
    "p.Action(\"Develop World Model\") \n",
    "p.Action(\"Navigation and Planning Decisions\") \n",
    "p.Action(\"Vehicle Dynamics and Control\") \n",
    "\n",
    "IFrame(\"http://localhost:8080/?g=\" + p.get_mxgraph(), width=300, height=600)\n"
   ]
  },
  {
   "cell_type": "code",
   "execution_count": null,
   "metadata": {},
   "outputs": [],
   "source": []
  }
 ],
 "metadata": {
  "kernelspec": {
   "display_name": "Python 3",
   "language": "python",
   "name": "python3"
  },
  "language_info": {
   "codemirror_mode": {
    "name": "ipython",
    "version": 3
   },
   "file_extension": ".py",
   "mimetype": "text/x-python",
   "name": "python",
   "nbconvert_exporter": "python",
   "pygments_lexer": "ipython3",
   "version": "3.7.4"
  }
 },
 "nbformat": 4,
 "nbformat_minor": 4
}
