{
 "cells": [
  {
   "cell_type": "code",
   "execution_count": 1,
   "metadata": {},
   "outputs": [],
   "source": [
    "import os\n",
    "import sys \n",
    "sys.path.insert(0, os.path.abspath('..\\..\\..\\core')) \n",
    "sys.path.insert(0, os.path.abspath('..\\..\\..\\code_gui')) \n",
    "from gui_main import *"
   ]
  },
  {
   "cell_type": "code",
   "execution_count": 2,
   "metadata": {},
   "outputs": [
    {
     "data": {
      "text/html": [
       "\n",
       "           <iframe\n",
       "               width=\"960\"\n",
       "               height=\"750\"\n",
       "               src=\"http://localhost:8080/AD/?g=var A_process = graph.insertVertex(parent, 'A process', '', 285.0, 42.0, 30, 30, 'Process') /n var A_1_감염 = graph.insertVertex(parent, 'A.1 감염', '감염', 260.0, 84.0, 80, 30, 'Action') /n var A_process_A_1_감염 = graph.insertEdge(parent, null, '', A_process, A_1_감염, 'Arrow_Edge_Process' ) /n var A_2_or = graph.insertVertex(parent, 'A.2 or', 'OR', 285.0, 126.0, 30, 30, 'Or') /n var A_1_감염_A_2_or = graph.insertEdge(parent, null, '', A_1_감염, A_2_or ) /n var A_2_1_p1 = graph.insertVertex(parent, 'A.2.1 p1', '', 120.0, 183.0, 0, 0, 'Process') /n var A_2_or_A_2_1_p1 = graph.insertEdge(parent, null, '', A_2_or, A_2_1_p1 ) /n var A_2_2_p2 = graph.insertVertex(parent, 'A.2.2 p2', '', 400.0, 183.0, 0, 0, 'Process') /n var A_2_or_A_2_2_p2 = graph.insertEdge(parent, null, '', A_2_or, A_2_2_p2 ) /n var A_3_회복 = graph.insertVertex(parent, 'A.3 회복', '회복', 260.0, 756.0, 80, 30, 'Action') /n var A_process_END = graph.insertVertex(parent, 'A process_END', '', 285.0, 798.0, 30, 30, 'Process_END') /n var A_3_회복_A_process_END = graph.insertEdge(parent, null, '', A_3_회복, A_process_END, 'Arrow_Edge_Process' ) /n var A_2_1_1_회복 = graph.insertVertex(parent, 'A.2.1.1 회복', '회복', 80.0, 210.0, 80, 30, 'Action') /n var A_2_1_p1_A_2_1_1_회복 = graph.insertEdge(parent, null, '', A_2_1_p1, A_2_1_1_회복 ) /n var A_2_2_1_고위험군 = graph.insertVertex(parent, 'A.2.2.1 고위험군', '고위험군', 360.0, 210.0, 80, 30, 'Action') /n var A_2_2_p2_A_2_2_1_고위험군 = graph.insertEdge(parent, null, '', A_2_2_p2, A_2_2_1_고위험군 ) /n var A_2_1_p1_END = graph.insertVertex(parent, 'A.2.1 p1_END', '', 120.0, 687.0, 0, 0, 'Process_END') /n var A_2_1_1_회복_A_2_1_p1_END = graph.insertEdge(parent, null, '', A_2_1_1_회복, A_2_1_p1_END ) /n var A_2_or_END = graph.insertVertex(parent, 'A.2 or_END', 'OR', 285.0, 714.0, 30, 30, 'Or_END') /n var A_2_1_p1_END_A_2_or_END = graph.insertEdge(parent, null, '', A_2_1_p1_END, A_2_or_END ) /n var A_2_2_2_or = graph.insertVertex(parent, 'A.2.2.2 or', 'OR', 385.0, 252.0, 30, 30, 'Or') /n var A_2_2_1_고위험군_A_2_2_2_or = graph.insertEdge(parent, null, '', A_2_2_1_고위험군, A_2_2_2_or ) /n var A_2_2_2_1_p3 = graph.insertVertex(parent, 'A.2.2.2.1 p3', '', 280.0, 309.0, 0, 0, 'Process') /n var A_2_2_2_or_A_2_2_2_1_p3 = graph.insertEdge(parent, null, '', A_2_2_2_or, A_2_2_2_1_p3 ) /n var A_2_2_2_2_p4 = graph.insertVertex(parent, 'A.2.2.2.2 p4', '', 520.0, 309.0, 0, 0, 'Process') /n var A_2_2_2_or_A_2_2_2_2_p4 = graph.insertEdge(parent, null, '', A_2_2_2_or, A_2_2_2_2_p4 ) /n var A_2_2_2_1_1_자가격리 = graph.insertVertex(parent, 'A.2.2.2.1.1 자가격리', '자가격리', 240.0, 336.0, 80, 30, 'Action') /n var A_2_2_2_1_p3_A_2_2_2_1_1_자가격리 = graph.insertEdge(parent, null, '', A_2_2_2_1_p3, A_2_2_2_1_1_자가격리 ) /n var A_2_2_2_2_1_입원 = graph.insertVertex(parent, 'A.2.2.2.2.1 입원', '입원', 480.0, 336.0, 80, 30, 'Action') /n var A_2_2_2_2_p4_A_2_2_2_2_1_입원 = graph.insertEdge(parent, null, '', A_2_2_2_2_p4, A_2_2_2_2_1_입원 ) /n var A_2_2_2_1_p3_END = graph.insertVertex(parent, 'A.2.2.2.1 p3_END', '', 280.0, 603.0, 0, 0, 'Process_END') /n var A_2_2_2_1_1_자가격리_A_2_2_2_1_p3_END = graph.insertEdge(parent, null, '', A_2_2_2_1_1_자가격리, A_2_2_2_1_p3_END ) /n var A_2_2_2_or_END = graph.insertVertex(parent, 'A.2.2.2 or_END', 'OR', 385.0, 630.0, 30, 30, 'Or_END') /n var A_2_2_2_1_p3_END_A_2_2_2_or_END = graph.insertEdge(parent, null, '', A_2_2_2_1_p3_END, A_2_2_2_or_END ) /n var A_2_2_2_2_2_or = graph.insertVertex(parent, 'A.2.2.2.2.2 or', 'OR', 505.0, 378.0, 30, 30, 'Or') /n var A_2_2_2_2_1_입원_A_2_2_2_2_2_or = graph.insertEdge(parent, null, '', A_2_2_2_2_1_입원, A_2_2_2_2_2_or ) /n var A_2_2_2_2_2_1_p5 = graph.insertVertex(parent, 'A.2.2.2.2.2.1 p5', '', 440.0, 435.0, 0, 0, 'Process') /n var A_2_2_2_2_2_or_A_2_2_2_2_2_1_p5 = graph.insertEdge(parent, null, '', A_2_2_2_2_2_or, A_2_2_2_2_2_1_p5 ) /n var A_2_2_2_2_2_2_p6 = graph.insertVertex(parent, 'A.2.2.2.2.2.2 p6', '', 600.0, 435.0, 0, 0, 'Process') /n var A_2_2_2_2_2_or_A_2_2_2_2_2_2_p6 = graph.insertEdge(parent, null, '', A_2_2_2_2_2_or, A_2_2_2_2_2_2_p6 ) /n var A_2_2_2_2_2_1_1_회복 = graph.insertVertex(parent, 'A.2.2.2.2.2.1.1 회복', '회복', 400.0, 462.0, 80, 30, 'Action') /n var A_2_2_2_2_2_1_p5_A_2_2_2_2_2_1_1_회복 = graph.insertEdge(parent, null, '', A_2_2_2_2_2_1_p5, A_2_2_2_2_2_1_1_회복 ) /n var A_2_2_2_2_2_2_1_사망 = graph.insertVertex(parent, 'A.2.2.2.2.2.2.1 사망', '사망', 560.0, 462.0, 80, 30, 'Action') /n var A_2_2_2_2_2_2_p6_A_2_2_2_2_2_2_1_사망 = graph.insertEdge(parent, null, '', A_2_2_2_2_2_2_p6, A_2_2_2_2_2_2_1_사망 ) /n var A_2_2_2_2_2_1_p5_END = graph.insertVertex(parent, 'A.2.2.2.2.2.1 p5_END', '', 440.0, 519.0, 0, 0, 'Process_END') /n var A_2_2_2_2_2_1_1_회복_A_2_2_2_2_2_1_p5_END = graph.insertEdge(parent, null, '', A_2_2_2_2_2_1_1_회복, A_2_2_2_2_2_1_p5_END ) /n var A_2_2_2_2_2_or_END = graph.insertVertex(parent, 'A.2.2.2.2.2 or_END', 'OR', 505.0, 546.0, 30, 30, 'Or_END') /n var A_2_2_2_2_2_1_p5_END_A_2_2_2_2_2_or_END = graph.insertEdge(parent, null, '', A_2_2_2_2_2_1_p5_END, A_2_2_2_2_2_or_END ) /n var A_2_2_2_2_2_2_p6_END = graph.insertVertex(parent, 'A.2.2.2.2.2.2 p6_END', '', 600.0, 519.0, 0, 0, 'Process_END') /n var A_2_2_2_2_2_2_1_사망_A_2_2_2_2_2_2_p6_END = graph.insertEdge(parent, null, '', A_2_2_2_2_2_2_1_사망, A_2_2_2_2_2_2_p6_END ) /n var A_2_2_2_2_2_2_p6_END_A_2_2_2_2_2_or_END = graph.insertEdge(parent, null, '', A_2_2_2_2_2_2_p6_END, A_2_2_2_2_2_or_END ) /n var A_2_2_2_2_p4_END = graph.insertVertex(parent, 'A.2.2.2.2 p4_END', '', 520.0, 603.0, 0, 0, 'Process_END') /n var A_2_2_2_2_2_or_END_A_2_2_2_2_p4_END = graph.insertEdge(parent, null, '', A_2_2_2_2_2_or_END, A_2_2_2_2_p4_END ) /n var A_2_2_2_2_2_or_END_A_2_2_2_2_p4_END = graph.insertEdge(parent, null, '', A_2_2_2_2_2_or_END, A_2_2_2_2_p4_END ) /n var A_2_2_2_2_p4_END_A_2_2_2_or_END = graph.insertEdge(parent, null, '', A_2_2_2_2_p4_END, A_2_2_2_or_END ) /n var A_2_2_p2_END = graph.insertVertex(parent, 'A.2.2 p2_END', '', 400.0, 687.0, 0, 0, 'Process_END') /n var A_2_2_2_or_END_A_2_2_p2_END = graph.insertEdge(parent, null, '', A_2_2_2_or_END, A_2_2_p2_END ) /n var A_2_2_2_or_END_A_2_2_p2_END = graph.insertEdge(parent, null, '', A_2_2_2_or_END, A_2_2_p2_END ) /n var A_2_2_p2_END_A_2_or_END = graph.insertEdge(parent, null, '', A_2_2_p2_END, A_2_or_END ) /n var A_2_or_END_A_3_회복 = graph.insertEdge(parent, null, '', A_2_or_END, A_3_회복 ) /n var A_2_or_END_A_3_회복 = graph.insertEdge(parent, null, '', A_2_or_END, A_3_회복 ) /n \"\n",
       "               frameborder=\"0\"\n",
       "               allowfullscreen\n",
       "           ></iframe>\n",
       "           "
      ],
      "text/plain": [
       "<IPython.core.display.HTML object>"
      ]
     },
     "metadata": {},
     "output_type": "display_data"
    }
   ],
   "source": [
    "# Test 1\n",
    "p = Process(\"process\")\n",
    "\n",
    "p.Action(\"감염\") \n",
    "\n",
    "p1, p2 = p.Or('p1', 'p2')\n",
    "\n",
    "p1.Action(\"회복\") \n",
    "p2.Action(\"고위험군\") \n",
    "\n",
    "p3, p4 = p2.Or('p3', 'p4')\n",
    "\n",
    "p3.Action(\"자가격리\") \n",
    "p4.Action(\"입원\") \n",
    "\n",
    "p5, p6 = p4.Or('p5', 'p6')\n",
    "\n",
    "p5.Action(\"회복\") \n",
    "\n",
    "p6.Action(\"사망\") \n",
    "\n",
    "p.Action(\"회복\") \n",
    "\n",
    "show(p)"
   ]
  },
  {
   "cell_type": "code",
   "execution_count": 8,
   "metadata": {},
   "outputs": [
    {
     "name": "stdout",
     "output_type": "stream",
     "text": [
      "At Time 0, 감염 waiting.\n",
      "At Time 0, 회복 waiting.\n",
      "At Time 0, 회복 waiting.\n",
      "At Time 0, 고위험군 waiting.\n",
      "At Time 0, 자가격리 waiting.\n",
      "At Time 0, 입원 waiting.\n",
      "At Time 0, 회복 waiting.\n",
      "At Time 0, 사망 waiting.\n",
      "At Time 0, 감염 activated.\n",
      "At Time 1, 감염 completed.\n",
      "At Time 1, 감염 waiting.\n",
      "At Time 1, 고위험군 activated.\n",
      "At Time 2, 고위험군 completed.\n",
      "At Time 2, 고위험군 waiting.\n",
      "At Time 2, 자가격리 activated.\n",
      "At Time 3, 자가격리 completed.\n",
      "At Time 3, 자가격리 waiting.\n",
      "At Time 3, 회복 activated.\n",
      "At Time 4, 회복 completed.\n",
      "At Time 4, 회복 waiting.\n",
      "At Time 4, process_END simulation 0.\n",
      "At Time 4, 감염 activated.\n",
      "At Time 5, 감염 completed.\n",
      "At Time 5, 감염 waiting.\n",
      "--------- Simulation Completed ---------\n"
     ]
    }
   ],
   "source": [
    "await p.sim(until=5)"
   ]
  },
  {
   "cell_type": "code",
   "execution_count": null,
   "metadata": {},
   "outputs": [],
   "source": []
  }
 ],
 "metadata": {
  "kernelspec": {
   "display_name": "Python 3",
   "language": "python",
   "name": "python3"
  },
  "language_info": {
   "codemirror_mode": {
    "name": "ipython",
    "version": 3
   },
   "file_extension": ".py",
   "mimetype": "text/x-python",
   "name": "python",
   "nbconvert_exporter": "python",
   "pygments_lexer": "ipython3",
   "version": "3.7.4"
  }
 },
 "nbformat": 4,
 "nbformat_minor": 4
}
