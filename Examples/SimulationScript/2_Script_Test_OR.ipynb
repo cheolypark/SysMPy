{
 "cells": [
  {
   "cell_type": "code",
   "execution_count": 1,
   "metadata": {},
   "outputs": [],
   "source": [
    "%reset -f\n",
    "\n",
    "import os\n",
    "import sys\n",
    "sys.path.insert(0, os.path.abspath('E:/SW-SETAI/SETAI-Component/6_UnifiedCode/Core/Meta'))\n",
    "from entity import *\n",
    "import asyncio"
   ]
  },
  {
   "cell_type": "markdown",
   "metadata": {},
   "source": [
    "# Step 1: Define System Models"
   ]
  },
  {
   "cell_type": "code",
   "execution_count": 2,
   "metadata": {},
   "outputs": [],
   "source": [
    "p = Process(\"p0\")\n",
    "p_or = p.Or()\n",
    "p1 = p_or.Process(\"p1\")\n",
    "p2 = p_or.Process(\"p2\")\n",
    "p_act1 = p1.Action(\"Action1\")\n",
    "p_act2 = p2.Action(\"Action2\")"
   ]
  },
  {
   "cell_type": "markdown",
   "metadata": {},
   "source": [
    "# Step 2: Run Simulations"
   ]
  },
  {
   "cell_type": "code",
   "execution_count": 3,
   "metadata": {},
   "outputs": [
    {
     "name": "stdout",
     "output_type": "stream",
     "text": [
      "At Time 0, Action1 was activated.\n",
      "At Time 1, Action1 was completed.\n",
      "At Time 1, p0_END has done as the root process.\n",
      "At Time 1, Action1 was activated.\n",
      "At Time 2, Action1 was completed.\n",
      "At Time 2, p0_END has done as the root process.\n",
      "At Time 2, Action2 was activated.\n",
      "At Time 3, Action2 was completed.\n",
      "At Time 3, p0_END has done as the root process.\n",
      "At Time 3, Action2 was activated.\n",
      "At Time 4, Action2 was completed.\n",
      "At Time 4, p0_END has done as the root process.\n",
      "At Time 4, Action1 was activated.\n",
      "At Time 5, Action1 was completed.\n"
     ]
    }
   ],
   "source": [
    "await p.sim()"
   ]
  },
  {
   "cell_type": "markdown",
   "metadata": {},
   "source": [
    "# Step 3: Show Simulation Results"
   ]
  },
  {
   "cell_type": "code",
   "execution_count": 4,
   "metadata": {},
   "outputs": [
    {
     "name": "stdout",
     "output_type": "stream",
     "text": [
      "{'Action1': 3, 'Action2': 2}\n"
     ]
    }
   ],
   "source": [
    "actions = p.get_by_type(Action)\n",
    "e = {x.name:x.total_time for x in actions}\n",
    "print(e)"
   ]
  },
  {
   "cell_type": "code",
   "execution_count": null,
   "metadata": {},
   "outputs": [],
   "source": []
  }
 ],
 "metadata": {
  "kernelspec": {
   "display_name": "Python 3",
   "language": "python",
   "name": "python3"
  },
  "language_info": {
   "codemirror_mode": {
    "name": "ipython",
    "version": 3
   },
   "file_extension": ".py",
   "mimetype": "text/x-python",
   "name": "python",
   "nbconvert_exporter": "python",
   "pygments_lexer": "ipython3",
   "version": "3.7.4"
  },
  "latex_envs": {
   "LaTeX_envs_menu_present": true,
   "autoclose": false,
   "autocomplete": true,
   "bibliofile": "biblio.bib",
   "cite_by": "apalike",
   "current_citInitial": 1,
   "eqLabelWithNumbers": true,
   "eqNumInitial": 1,
   "hotkeys": {
    "equation": "Ctrl-E",
    "itemize": "Ctrl-I"
   },
   "labels_anchors": false,
   "latex_user_defs": false,
   "report_style_numbering": false,
   "user_envs_cfg": false
  }
 },
 "nbformat": 4,
 "nbformat_minor": 4
}
