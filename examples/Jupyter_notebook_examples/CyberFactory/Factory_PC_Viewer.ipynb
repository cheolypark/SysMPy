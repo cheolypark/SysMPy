{
 "cells": [
  {
   "cell_type": "code",
   "execution_count": 1,
   "metadata": {},
   "outputs": [],
   "source": [
    "import os\n",
    "import sys \n",
    "sys.path.insert(0, os.path.abspath('..\\..\\..\\..\\sysmpy'))  \n",
    "from sysmpy import *  \n",
    "from Factory import p"
   ]
  },
  {
   "cell_type": "code",
   "execution_count": 2,
   "metadata": {},
   "outputs": [
    {
     "data": {
      "text/html": [
       "\n",
       "           <iframe\n",
       "               width=\"750\"\n",
       "               height=\"700\"\n",
       "               src=\"http://127.0.0.1:9191/pc/?g={'Copper Cathode.Thickness':0, 'Copper Cathode.Width':0, 'Copper Cathode.Length':0, 'Copper Cathode.Temperature':0, 'Induction Furnace.Speed':0, 'Induction Furnace.Temperature':0, 'Slab.Thickness':0, 'Slab.Width':0, 'Slab.Length':0, 'Slab.Temperature':0, 'Heater.Speed':0, 'Heater.Temperature':0, 'Heated Slab.Thickness':0, 'Heated Slab.Width':0, 'Heated Slab.Length':0, 'Heated Slab.Temperature':0, 'Hot Rolling Mill.RG':0, 'Hot Rolling Mill.RF':0, 'Hot Strip Coil.Thickness':0, 'Hot Strip Coil.Width':0, 'Hot Strip Coil.Length':0, 'Hot Strip Coil.Temperature':0, 'Scalper.Gap':0, 'Scalped Strip Coil.Thickness':0, 'Scalped Strip Coil.Width':0, 'Scalped Strip Coil.Length':0, 'Scalped Strip Coil.Temperature':0, 'Cold Rolling Mill.RG':0, 'Cold Rolling Mill.RF':0, 'Cold Strip Coil.Thickness':0, 'Cold Strip Coil.Width':0, 'Cold Strip Coil.Length':0, 'Cold Strip Coil.Temperature':0, 'Annealing Line.Speed':0, 'Annealing Line.Temperature':0, 'Annealed Strip Coil.Thickness':0, 'Annealed Strip Coil.Width':0, 'Annealed Strip Coil.Length':0, 'Annealed Strip Coil.Temperature':0, 'Pickling Line.Speed':0, 'Cleaned Strip Coil.Thickness':0, 'Cleaned Strip Coil.Width':0, 'Cleaned Strip Coil.Length':0, 'Cleaned Strip Coil.Temperature':0, 'Finish Rolling Mill.RG':0, 'Finish Rolling Mill.RF':0, 'Finished Strip Coil.Thickness':0, 'Finished Strip Coil.Width':0, 'Finished Strip Coil.Length':0, 'Finished Strip Coil.Temperature':0, 'Slitting Line.Speed':0, 'Slitting Strip Coil.Thickness':0, 'Slitting Strip Coil.Width':0, 'Slitting Strip Coil.Length':0, 'Slitting Strip Coil.Temperature':0, 'Inspection Line.Speed':0, 'Final Strip Coil.Quality':0}\"\n",
       "               frameborder=\"0\"\n",
       "               allowfullscreen\n",
       "           ></iframe>\n",
       "           "
      ],
      "text/plain": [
       "<IPython.core.display.HTML object>"
      ]
     },
     "metadata": {},
     "output_type": "display_data"
    }
   ],
   "source": [
    "show(p, diagram='pc', width=750, height=700)"
   ]
  },
  {
   "cell_type": "code",
   "execution_count": null,
   "metadata": {},
   "outputs": [],
   "source": []
  }
 ],
 "metadata": {
  "kernelspec": {
   "display_name": "Python 3",
   "language": "python",
   "name": "python3"
  },
  "language_info": {
   "codemirror_mode": {
    "name": "ipython",
    "version": 3
   },
   "file_extension": ".py",
   "mimetype": "text/x-python",
   "name": "python",
   "nbconvert_exporter": "python",
   "pygments_lexer": "ipython3",
   "version": "3.7.4"
  }
 },
 "nbformat": 4,
 "nbformat_minor": 4
}
