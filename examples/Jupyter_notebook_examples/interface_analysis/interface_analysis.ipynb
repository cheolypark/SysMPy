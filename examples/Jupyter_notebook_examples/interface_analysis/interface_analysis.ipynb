{
 "cells": [
  {
   "cell_type": "code",
   "execution_count": 1,
   "metadata": {},
   "outputs": [],
   "source": [
    "import os\n",
    "import sys \n",
    "sys.path.insert(0, os.path.abspath('..\\..\\..\\..\\sysmpy'))  \n",
    "from sysmpy import *\n",
    "from sysmpy.gui.mxgraph.tornado_gui_server import * "
   ]
  },
  {
   "cell_type": "code",
   "execution_count": 2,
   "metadata": {},
   "outputs": [
    {
     "name": "stdout",
     "output_type": "stream",
     "text": [
      "E:\\SW-SysMPy\\SysMPy\\examples\\Jupyter_notebook_examples\\interface_analysis\\images\n",
      "[WinError 10048] Only one usage of each socket address (protocol/network address/port) is normally permitted\n",
      "We use the existing tornado server!\n"
     ]
    }
   ],
   "source": [
    "RunServer()"
   ]
  },
  {
   "cell_type": "markdown",
   "metadata": {},
   "source": [
    "# 1. Critical Elements   "
   ]
  },
  {
   "cell_type": "code",
   "execution_count": 3,
   "metadata": {},
   "outputs": [
    {
     "data": {
      "text/html": [
       "\n",
       "           <iframe\n",
       "               width=\"400\"\n",
       "               height=\"300\"\n",
       "               src=\"http://127.0.0.1:9191/ad/?g=var A_process_1 = graph.insertVertex(parent, 'A process 1', '', 105.0, 42.0, 30, 30, 'Process') /n var A_1_Action1 = graph.insertVertex(parent, 'A.1 Action1', 'Action1', 80.0, 84.0, 80, 30, 'Action') /n var A_process_1_A_1_Action1 = graph.insertEdge(parent, null, '', A_process_1, A_1_Action1, 'Arrow_Edge_Process' ) /n var A_2_Action2 = graph.insertVertex(parent, 'A.2 Action2', 'Action2', 80.0, 126.0, 80, 30, 'Action') /n var A_1_Action1_A_2_Action2 = graph.insertEdge(parent, null, '', A_1_Action1, A_2_Action2 ) /n var A_3_Action3 = graph.insertVertex(parent, 'A.3 Action3', 'Action3', 80.0, 168.0, 80, 30, 'Action') /n var A_2_Action2_A_3_Action3 = graph.insertEdge(parent, null, '', A_2_Action2, A_3_Action3 ) /n var A_4_Action4 = graph.insertVertex(parent, 'A.4 Action4', 'Action4', 80.0, 210.0, 80, 30, 'Action') /n var A_3_Action3_A_4_Action4 = graph.insertEdge(parent, null, '', A_3_Action3, A_4_Action4 ) /n var A_process_1_END = graph.insertVertex(parent, 'A process 1_END', '', 105.0, 252.0, 30, 30, 'Process_END') /n var A_4_Action4_A_process_1_END = graph.insertEdge(parent, null, '', A_4_Action4, A_process_1_END, 'Arrow_Edge_Process' ) /n var None_Item1 = graph.insertVertex(parent, 'None Item1', 'Item1', 9.0, 131.0, 62, 20, 'Item') /n var A_1_Action1_None_Item1 = graph.insertEdge(parent, null, '', A_1_Action1, None_Item1, 'Edge_Item' ) /n var None_Item1_A_2_Action2 = graph.insertEdge(parent, null, '', None_Item1, A_2_Action2, 'Arrow_Edge_Item' ) /n var None_Item2 = graph.insertVertex(parent, 'None Item2', 'Item2', 9.0, 89.0, 62, 20, 'Item') /n var A_2_Action2_None_Item2 = graph.insertEdge(parent, null, '', A_2_Action2, None_Item2, 'Edge_Item' ) /n var None_Item2_A_1_Action1 = graph.insertEdge(parent, null, '', None_Item2, A_1_Action1, 'Arrow_Edge_Item' ) /n var None_Item3 = graph.insertVertex(parent, 'None Item3', 'Item3', 9.0, 215.0, 62, 20, 'Item') /n var A_2_Action2_None_Item3 = graph.insertEdge(parent, null, '', A_2_Action2, None_Item3, 'Edge_Item' ) /n var None_Item3_A_4_Action4 = graph.insertEdge(parent, null, '', None_Item3, A_4_Action4, 'Arrow_Edge_Item' ) /n var None_Item4 = graph.insertVertex(parent, 'None Item4', 'Item4', 9.0, 131.0, 62, 20, 'Item') /n var A_4_Action4_None_Item4 = graph.insertEdge(parent, null, '', A_4_Action4, None_Item4, 'Edge_Item' ) /n var None_Item4_A_2_Action2 = graph.insertEdge(parent, null, '', None_Item4, A_2_Action2, 'Arrow_Edge_Item' ) /n \"\n",
       "               frameborder=\"0\"\n",
       "               allowfullscreen\n",
       "           ></iframe>\n",
       "           "
      ],
      "text/plain": [
       "<IPython.core.display.HTML object>"
      ]
     },
     "metadata": {},
     "output_type": "display_data"
    }
   ],
   "source": [
    "\n",
    "p = Process(\"process 1\")\n",
    "act1 = p.Action(\"Action1\")\n",
    "act2 = p.Action(\"Action2\")\n",
    "act3 = p.Action(\"Action3\")\n",
    "act4 = p.Action(\"Action4\")\n",
    "\n",
    "i1 = Item(\"Item1\")\n",
    "i2 = Item(\"Item2\")\n",
    "i3 = Item(\"Item3\")\n",
    "i4 = Item(\"Item4\")\n",
    "act1.sends(i1)\n",
    "act2.sends(i3)\n",
    "act2.sends(i2)\n",
    "act4.sends(i4)\n",
    "act1.receives(i2)\n",
    "act2.receives(i1)\n",
    "act2.receives(i4)\n",
    "act4.receives(i3)\n",
    "\n",
    "show(p, width=400, height=300)"
   ]
  },
  {
   "cell_type": "code",
   "execution_count": 4,
   "metadata": {},
   "outputs": [
    {
     "name": "stdout",
     "output_type": "stream",
     "text": [
      "critical_elements [Action2, Action1, Action4, Action3]\n",
      "sphere_of_influence {Action1: {Action2}, Action2: {Action4, Action1}, Action3: set(), Action4: {Action2}}\n",
      "feedback_elements [Action2, Action4, Action1, Action2]\n",
      "recursive_elements []\n",
      "absence_items [Action3]\n",
      "unused_items []\n"
     ]
    },
    {
     "data": {
      "text/plain": [
       "([Action2, Action1, Action4, Action3],\n",
       " {Action1: {Action2},\n",
       "  Action2: {Action1, Action4},\n",
       "  Action3: set(),\n",
       "  Action4: {Action2}},\n",
       " [Action2, Action4, Action1, Action2],\n",
       " [],\n",
       " [Action3],\n",
       " [])"
      ]
     },
     "execution_count": 4,
     "metadata": {},
     "output_type": "execute_result"
    }
   ],
   "source": [
    "p.evaluate_interfaces()"
   ]
  },
  {
   "cell_type": "markdown",
   "metadata": {},
   "source": [
    "# 2. Critical Sphere of Influence  "
   ]
  },
  {
   "cell_type": "code",
   "execution_count": 5,
   "metadata": {},
   "outputs": [
    {
     "data": {
      "text/html": [
       "\n",
       "           <iframe\n",
       "               width=\"400\"\n",
       "               height=\"300\"\n",
       "               src=\"http://127.0.0.1:9191/ad/?g=var A_process_2 = graph.insertVertex(parent, 'A process 2', '', 105.0, 42.0, 30, 30, 'Process') /n var A_1_Action1 = graph.insertVertex(parent, 'A.1 Action1', 'Action1', 80.0, 84.0, 80, 30, 'Action') /n var A_process_2_A_1_Action1 = graph.insertEdge(parent, null, '', A_process_2, A_1_Action1, 'Arrow_Edge_Process' ) /n var A_2_Action2 = graph.insertVertex(parent, 'A.2 Action2', 'Action2', 80.0, 126.0, 80, 30, 'Action') /n var A_1_Action1_A_2_Action2 = graph.insertEdge(parent, null, '', A_1_Action1, A_2_Action2 ) /n var A_3_Action3 = graph.insertVertex(parent, 'A.3 Action3', 'Action3', 80.0, 168.0, 80, 30, 'Action') /n var A_2_Action2_A_3_Action3 = graph.insertEdge(parent, null, '', A_2_Action2, A_3_Action3 ) /n var A_4_Action4 = graph.insertVertex(parent, 'A.4 Action4', 'Action4', 80.0, 210.0, 80, 30, 'Action') /n var A_3_Action3_A_4_Action4 = graph.insertEdge(parent, null, '', A_3_Action3, A_4_Action4 ) /n var A_process_2_END = graph.insertVertex(parent, 'A process 2_END', '', 105.0, 252.0, 30, 30, 'Process_END') /n var A_4_Action4_A_process_2_END = graph.insertEdge(parent, null, '', A_4_Action4, A_process_2_END, 'Arrow_Edge_Process' ) /n var None_Item21 = graph.insertVertex(parent, 'None Item21', 'Item21', 9.0, 131.0, 62, 20, 'Item') /n var A_1_Action1_None_Item21 = graph.insertEdge(parent, null, '', A_1_Action1, None_Item21, 'Edge_Item' ) /n var None_Item21_A_2_Action2 = graph.insertEdge(parent, null, '', None_Item21, A_2_Action2, 'Arrow_Edge_Item' ) /n var None_Item22 = graph.insertVertex(parent, 'None Item22', 'Item22', 9.0, 89.0, 62, 20, 'Item') /n var A_2_Action2_None_Item22 = graph.insertEdge(parent, null, '', A_2_Action2, None_Item22, 'Edge_Item' ) /n var None_Item22_A_1_Action1 = graph.insertEdge(parent, null, '', None_Item22, A_1_Action1, 'Arrow_Edge_Item' ) /n var None_Item23 = graph.insertVertex(parent, 'None Item23', 'Item23', 9.0, 215.0, 62, 20, 'Item') /n var A_2_Action2_None_Item23 = graph.insertEdge(parent, null, '', A_2_Action2, None_Item23, 'Edge_Item' ) /n var None_Item23_A_4_Action4 = graph.insertEdge(parent, null, '', None_Item23, A_4_Action4, 'Arrow_Edge_Item' ) /n var None_Item24 = graph.insertVertex(parent, 'None Item24', 'Item24', 9.0, 131.0, 62, 20, 'Item') /n var A_4_Action4_None_Item24 = graph.insertEdge(parent, null, '', A_4_Action4, None_Item24, 'Edge_Item' ) /n var None_Item24_A_2_Action2 = graph.insertEdge(parent, null, '', None_Item24, A_2_Action2, 'Arrow_Edge_Item' ) /n \"\n",
       "               frameborder=\"0\"\n",
       "               allowfullscreen\n",
       "           ></iframe>\n",
       "           "
      ],
      "text/plain": [
       "<IPython.core.display.HTML object>"
      ]
     },
     "metadata": {},
     "output_type": "display_data"
    }
   ],
   "source": [
    "p = Process(\"process 2\")\n",
    "act1 = p.Action(\"Action1\")\n",
    "act2 = p.Action(\"Action2\")\n",
    "act3 = p.Action(\"Action3\")\n",
    "act4 = p.Action(\"Action4\")\n",
    "\n",
    "i1 = Item(\"Item21\")\n",
    "i2 = Item(\"Item22\")\n",
    "i3 = Item(\"Item23\")\n",
    "i4 = Item(\"Item24\")\n",
    "act1.sends(i1)\n",
    "act2.sends(i3)\n",
    "act2.sends(i2)\n",
    "act4.sends(i4)\n",
    "act1.receives(i2)\n",
    "act2.receives(i1)\n",
    "act2.receives(i4)\n",
    "act4.receives(i3)\n",
    " \n",
    "show(p, width=400, height=300)"
   ]
  },
  {
   "cell_type": "code",
   "execution_count": 6,
   "metadata": {},
   "outputs": [
    {
     "name": "stdout",
     "output_type": "stream",
     "text": [
      "{'[ipython]': [process 1, Item1, Item2, Item3, Item4, process 2, Item21, Item22, Item23, Item24]}\n"
     ]
    }
   ],
   "source": [
    "print(edb.entity_database)\n"
   ]
  },
  {
   "cell_type": "code",
   "execution_count": 7,
   "metadata": {},
   "outputs": [
    {
     "name": "stdout",
     "output_type": "stream",
     "text": [
      "critical_elements [Action2, Action1, Action4, Action3]\n",
      "sphere_of_influence {Action1: {Action2}, Action2: {Action1, Action4}, Action3: set(), Action4: {Action2}}\n",
      "feedback_elements [Action2, Action4, Action1, Action2]\n",
      "recursive_elements []\n",
      "absence_items [Action3]\n",
      "unused_items []\n"
     ]
    },
    {
     "data": {
      "text/plain": [
       "([Action2, Action1, Action4, Action3],\n",
       " {Action1: {Action2},\n",
       "  Action2: {Action1, Action4},\n",
       "  Action3: set(),\n",
       "  Action4: {Action2}},\n",
       " [Action2, Action4, Action1, Action2],\n",
       " [],\n",
       " [Action3],\n",
       " [])"
      ]
     },
     "execution_count": 7,
     "metadata": {},
     "output_type": "execute_result"
    }
   ],
   "source": [
    "p.evaluate_interfaces()"
   ]
  },
  {
   "cell_type": "markdown",
   "metadata": {},
   "source": [
    "# 3. Feedback Loop  "
   ]
  },
  {
   "cell_type": "code",
   "execution_count": 8,
   "metadata": {},
   "outputs": [
    {
     "data": {
      "text/html": [
       "\n",
       "           <iframe\n",
       "               width=\"400\"\n",
       "               height=\"300\"\n",
       "               src=\"http://127.0.0.1:9191/ad/?g=var A_process_3 = graph.insertVertex(parent, 'A process 3', '', 105.0, 42.0, 30, 30, 'Process') /n var A_1_Action1 = graph.insertVertex(parent, 'A.1 Action1', 'Action1', 80.0, 84.0, 80, 30, 'Action') /n var A_process_3_A_1_Action1 = graph.insertEdge(parent, null, '', A_process_3, A_1_Action1, 'Arrow_Edge_Process' ) /n var A_2_Action2 = graph.insertVertex(parent, 'A.2 Action2', 'Action2', 80.0, 126.0, 80, 30, 'Action') /n var A_1_Action1_A_2_Action2 = graph.insertEdge(parent, null, '', A_1_Action1, A_2_Action2 ) /n var A_3_Action3 = graph.insertVertex(parent, 'A.3 Action3', 'Action3', 80.0, 168.0, 80, 30, 'Action') /n var A_2_Action2_A_3_Action3 = graph.insertEdge(parent, null, '', A_2_Action2, A_3_Action3 ) /n var A_4_Action4 = graph.insertVertex(parent, 'A.4 Action4', 'Action4', 80.0, 210.0, 80, 30, 'Action') /n var A_3_Action3_A_4_Action4 = graph.insertEdge(parent, null, '', A_3_Action3, A_4_Action4 ) /n var A_process_3_END = graph.insertVertex(parent, 'A process 3_END', '', 105.0, 252.0, 30, 30, 'Process_END') /n var A_4_Action4_A_process_3_END = graph.insertEdge(parent, null, '', A_4_Action4, A_process_3_END, 'Arrow_Edge_Process' ) /n var None_Item31 = graph.insertVertex(parent, 'None Item31', 'Item31', 9.0, 131.0, 62, 20, 'Item') /n var A_1_Action1_None_Item31 = graph.insertEdge(parent, null, '', A_1_Action1, None_Item31, 'Edge_Item' ) /n var None_Item31_A_2_Action2 = graph.insertEdge(parent, null, '', None_Item31, A_2_Action2, 'Arrow_Edge_Item' ) /n var None_Item32 = graph.insertVertex(parent, 'None Item32', 'Item32', 9.0, 89.0, 62, 20, 'Item') /n var A_2_Action2_None_Item32 = graph.insertEdge(parent, null, '', A_2_Action2, None_Item32, 'Edge_Item' ) /n var None_Item32_A_1_Action1 = graph.insertEdge(parent, null, '', None_Item32, A_1_Action1, 'Arrow_Edge_Item' ) /n \"\n",
       "               frameborder=\"0\"\n",
       "               allowfullscreen\n",
       "           ></iframe>\n",
       "           "
      ],
      "text/plain": [
       "<IPython.core.display.HTML object>"
      ]
     },
     "metadata": {},
     "output_type": "display_data"
    }
   ],
   "source": [
    "p = Process(\"process 3\")\n",
    "act1 = p.Action(\"Action1\")\n",
    "act2 = p.Action(\"Action2\")\n",
    "act3 = p.Action(\"Action3\")\n",
    "act4 = p.Action(\"Action4\")\n",
    "\n",
    "i1 = Item(\"Item31\")\n",
    "act1.sends(i1)\n",
    "act2.receives(i1)\n",
    "\n",
    "i2 = Item(\"Item32\")\n",
    "act2.sends(i2)\n",
    "act1.receives(i2)\n",
    "  \n",
    "show(p, width=400, height=300)\n"
   ]
  },
  {
   "cell_type": "code",
   "execution_count": 9,
   "metadata": {},
   "outputs": [
    {
     "name": "stdout",
     "output_type": "stream",
     "text": [
      "critical_elements [Action1, Action2, Action3, Action4]\n",
      "sphere_of_influence {Action1: {Action2}, Action2: {Action1}, Action3: set(), Action4: set()}\n",
      "feedback_elements [Action2, Action1]\n",
      "recursive_elements []\n",
      "absence_items [Action3, Action4]\n",
      "unused_items []\n"
     ]
    },
    {
     "data": {
      "text/plain": [
       "([Action1, Action2, Action3, Action4],\n",
       " {Action1: {Action2}, Action2: {Action1}, Action3: set(), Action4: set()},\n",
       " [Action2, Action1],\n",
       " [],\n",
       " [Action3, Action4],\n",
       " [])"
      ]
     },
     "execution_count": 9,
     "metadata": {},
     "output_type": "execute_result"
    }
   ],
   "source": [
    "p.evaluate_interfaces()"
   ]
  },
  {
   "cell_type": "markdown",
   "metadata": {},
   "source": [
    "# 4. Recursive Elements  "
   ]
  },
  {
   "cell_type": "code",
   "execution_count": 10,
   "metadata": {},
   "outputs": [
    {
     "data": {
      "text/html": [
       "\n",
       "           <iframe\n",
       "               width=\"400\"\n",
       "               height=\"300\"\n",
       "               src=\"http://127.0.0.1:9191/ad/?g=var A_process_4 = graph.insertVertex(parent, 'A process 4', '', 105.0, 42.0, 30, 30, 'Process') /n var A_1_Action1 = graph.insertVertex(parent, 'A.1 Action1', 'Action1', 80.0, 84.0, 80, 30, 'Action') /n var A_process_4_A_1_Action1 = graph.insertEdge(parent, null, '', A_process_4, A_1_Action1, 'Arrow_Edge_Process' ) /n var A_2_Action2 = graph.insertVertex(parent, 'A.2 Action2', 'Action2', 80.0, 126.0, 80, 30, 'Action') /n var A_1_Action1_A_2_Action2 = graph.insertEdge(parent, null, '', A_1_Action1, A_2_Action2 ) /n var A_process_4_END = graph.insertVertex(parent, 'A process 4_END', '', 105.0, 168.0, 30, 30, 'Process_END') /n var A_2_Action2_A_process_4_END = graph.insertEdge(parent, null, '', A_2_Action2, A_process_4_END, 'Arrow_Edge_Process' ) /n var None_Item41 = graph.insertVertex(parent, 'None Item41', 'Item41', 9.0, 89.0, 62, 20, 'Item') /n var A_1_Action1_None_Item41 = graph.insertEdge(parent, null, '', A_1_Action1, None_Item41, 'Edge_Item' ) /n var None_Item41_A_1_Action1 = graph.insertEdge(parent, null, '', None_Item41, A_1_Action1, 'Arrow_Edge_Item' ) /n var None_Item42 = graph.insertVertex(parent, 'None Item42', 'Item42', 9.0, 131.0, 62, 20, 'Item') /n var A_2_Action2_None_Item42 = graph.insertEdge(parent, null, '', A_2_Action2, None_Item42, 'Edge_Item' ) /n var None_Item42_A_2_Action2 = graph.insertEdge(parent, null, '', None_Item42, A_2_Action2, 'Arrow_Edge_Item' ) /n \"\n",
       "               frameborder=\"0\"\n",
       "               allowfullscreen\n",
       "           ></iframe>\n",
       "           "
      ],
      "text/plain": [
       "<IPython.core.display.HTML object>"
      ]
     },
     "metadata": {},
     "output_type": "display_data"
    }
   ],
   "source": [
    "\n",
    "p = Process(\"process 4\")\n",
    "act1 = p.Action(\"Action1\")\n",
    "act2 = p.Action(\"Action2\")\n",
    "\n",
    "i1 = Item(\"Item41\")\n",
    "act1.sends(i1)\n",
    "act1.receives(i1)\n",
    "\n",
    "i2 = Item(\"Item42\")\n",
    "act2.sends(i2)\n",
    "act2.receives(i2)\n",
    "\n",
    "show(p, width=400, height=300)\n"
   ]
  },
  {
   "cell_type": "code",
   "execution_count": 11,
   "metadata": {},
   "outputs": [
    {
     "name": "stdout",
     "output_type": "stream",
     "text": [
      "critical_elements [Action1, Action2]\n",
      "sphere_of_influence {Action1: {Action1}, Action2: {Action2}}\n",
      "feedback_elements []\n",
      "recursive_elements [Item41, Item42]\n",
      "absence_items []\n",
      "unused_items []\n"
     ]
    },
    {
     "data": {
      "text/plain": [
       "([Action1, Action2],\n",
       " {Action1: {Action1}, Action2: {Action2}},\n",
       " [],\n",
       " [Item41, Item42],\n",
       " [],\n",
       " [])"
      ]
     },
     "execution_count": 11,
     "metadata": {},
     "output_type": "execute_result"
    }
   ],
   "source": [
    "p.evaluate_interfaces()"
   ]
  },
  {
   "cell_type": "markdown",
   "metadata": {},
   "source": [
    "# 5. Absence of Items"
   ]
  },
  {
   "cell_type": "code",
   "execution_count": 12,
   "metadata": {},
   "outputs": [
    {
     "data": {
      "text/html": [
       "\n",
       "           <iframe\n",
       "               width=\"400\"\n",
       "               height=\"300\"\n",
       "               src=\"http://127.0.0.1:9191/ad/?g=var A_process_5 = graph.insertVertex(parent, 'A process 5', '', 105.0, 42.0, 30, 30, 'Process') /n var A_1_Action1 = graph.insertVertex(parent, 'A.1 Action1', 'Action1', 80.0, 84.0, 80, 30, 'Action') /n var A_process_5_A_1_Action1 = graph.insertEdge(parent, null, '', A_process_5, A_1_Action1, 'Arrow_Edge_Process' ) /n var A_2_Action2 = graph.insertVertex(parent, 'A.2 Action2', 'Action2', 80.0, 126.0, 80, 30, 'Action') /n var A_1_Action1_A_2_Action2 = graph.insertEdge(parent, null, '', A_1_Action1, A_2_Action2 ) /n var A_process_5_END = graph.insertVertex(parent, 'A process 5_END', '', 105.0, 168.0, 30, 30, 'Process_END') /n var A_2_Action2_A_process_5_END = graph.insertEdge(parent, null, '', A_2_Action2, A_process_5_END, 'Arrow_Edge_Process' ) /n \"\n",
       "               frameborder=\"0\"\n",
       "               allowfullscreen\n",
       "           ></iframe>\n",
       "           "
      ],
      "text/plain": [
       "<IPython.core.display.HTML object>"
      ]
     },
     "metadata": {},
     "output_type": "display_data"
    }
   ],
   "source": [
    "\n",
    "p = Process(\"process 5\")\n",
    "act1 = p.Action(\"Action1\")\n",
    "act2 = p.Action(\"Action2\")\n",
    " \n",
    "show(p, width=400, height=300)\n",
    "\n"
   ]
  },
  {
   "cell_type": "code",
   "execution_count": 13,
   "metadata": {},
   "outputs": [
    {
     "name": "stdout",
     "output_type": "stream",
     "text": [
      "critical_elements [Action1, Action2]\n",
      "sphere_of_influence {Action1: set(), Action2: set()}\n",
      "feedback_elements []\n",
      "recursive_elements []\n",
      "absence_items [Action1, Action2]\n",
      "unused_items []\n"
     ]
    },
    {
     "data": {
      "text/plain": [
       "([Action1, Action2],\n",
       " {Action1: set(), Action2: set()},\n",
       " [],\n",
       " [],\n",
       " [Action1, Action2],\n",
       " [])"
      ]
     },
     "execution_count": 13,
     "metadata": {},
     "output_type": "execute_result"
    }
   ],
   "source": [
    "p.evaluate_interfaces()"
   ]
  },
  {
   "cell_type": "markdown",
   "metadata": {},
   "source": [
    "# 6. Unused Items"
   ]
  },
  {
   "cell_type": "code",
   "execution_count": 14,
   "metadata": {},
   "outputs": [
    {
     "data": {
      "text/html": [
       "\n",
       "           <iframe\n",
       "               width=\"400\"\n",
       "               height=\"300\"\n",
       "               src=\"http://127.0.0.1:9191/ad/?g=var A_process_6 = graph.insertVertex(parent, 'A process 6', '', 105.0, 42.0, 30, 30, 'Process') /n var A_1_Action1 = graph.insertVertex(parent, 'A.1 Action1', 'Action1', 80.0, 84.0, 80, 30, 'Action') /n var A_process_6_A_1_Action1 = graph.insertEdge(parent, null, '', A_process_6, A_1_Action1, 'Arrow_Edge_Process' ) /n var A_2_Action2 = graph.insertVertex(parent, 'A.2 Action2', 'Action2', 80.0, 126.0, 80, 30, 'Action') /n var A_1_Action1_A_2_Action2 = graph.insertEdge(parent, null, '', A_1_Action1, A_2_Action2 ) /n var A_process_6_END = graph.insertVertex(parent, 'A process 6_END', '', 105.0, 168.0, 30, 30, 'Process_END') /n var A_2_Action2_A_process_6_END = graph.insertEdge(parent, null, '', A_2_Action2, A_process_6_END, 'Arrow_Edge_Process' ) /n \"\n",
       "               frameborder=\"0\"\n",
       "               allowfullscreen\n",
       "           ></iframe>\n",
       "           "
      ],
      "text/plain": [
       "<IPython.core.display.HTML object>"
      ]
     },
     "metadata": {},
     "output_type": "display_data"
    }
   ],
   "source": [
    "\n",
    "p = Process(\"process 6\")\n",
    "act1 = p.Action(\"Action1\")\n",
    "act2 = p.Action(\"Action2\")\n",
    "\n",
    "i1 = Item(\"Item61\")\n",
    "i2 = Item(\"Item62\")\n",
    "\n",
    "\n",
    "show(p, width=400, height=300)"
   ]
  },
  {
   "cell_type": "code",
   "execution_count": 15,
   "metadata": {},
   "outputs": [
    {
     "name": "stdout",
     "output_type": "stream",
     "text": [
      "critical_elements [Action1, Action2]\n",
      "sphere_of_influence {Action1: set(), Action2: set()}\n",
      "feedback_elements []\n",
      "recursive_elements []\n",
      "absence_items [Action1, Action2]\n",
      "unused_items [Item62, Item61]\n"
     ]
    },
    {
     "data": {
      "text/plain": [
       "([Action1, Action2],\n",
       " {Action1: set(), Action2: set()},\n",
       " [],\n",
       " [],\n",
       " [Action1, Action2],\n",
       " [Item62, Item61])"
      ]
     },
     "execution_count": 15,
     "metadata": {},
     "output_type": "execute_result"
    }
   ],
   "source": [
    "p.evaluate_interfaces()"
   ]
  }
 ],
 "metadata": {
  "kernelspec": {
   "display_name": "Python 3",
   "language": "python",
   "name": "python3"
  },
  "language_info": {
   "codemirror_mode": {
    "name": "ipython",
    "version": 3
   },
   "file_extension": ".py",
   "mimetype": "text/x-python",
   "name": "python",
   "nbconvert_exporter": "python",
   "pygments_lexer": "ipython3",
   "version": "3.7.4"
  }
 },
 "nbformat": 4,
 "nbformat_minor": 4
}
