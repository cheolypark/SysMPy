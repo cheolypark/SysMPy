{
 "cells": [
  {
   "cell_type": "code",
   "execution_count": 1,
   "metadata": {},
   "outputs": [],
   "source": [
    "import os\n",
    "import sys \n",
    "sys.path.insert(0, os.path.abspath('..\\..\\..\\..\\sysmpy'))  \n",
    "from sysmpy import *\n",
    "from sysmpy.gui.mxgraph.tornado_gui_server import * "
   ]
  },
  {
   "cell_type": "code",
   "execution_count": 2,
   "metadata": {},
   "outputs": [
    {
     "name": "stdout",
     "output_type": "stream",
     "text": [
      "[WinError 10048] Only one usage of each socket address (protocol/network address/port) is normally permitted\n",
      "We use the existing tornado server!\n"
     ]
    }
   ],
   "source": [
    "RunServer()"
   ]
  },
  {
   "cell_type": "markdown",
   "metadata": {},
   "source": [
    "# 1. Critical Elements   "
   ]
  },
  {
   "cell_type": "code",
   "execution_count": 3,
   "metadata": {},
   "outputs": [
    {
     "data": {
      "text/html": [
       "\n",
       "           <iframe\n",
       "               width=\"400\"\n",
       "               height=\"300\"\n",
       "               src=\"http://127.0.0.1:9191/ad/?g=var A_process_1 = graph.insertVertex(parent, 'A process 1', '', 105.0, 42.0, 30, 30, 'Process') /n var A_1_Action1 = graph.insertVertex(parent, 'A.1 Action1', 'Action1', 80.0, 84.0, 80, 30, 'Action') /n var A_process_1_A_1_Action1 = graph.insertEdge(parent, null, '', A_process_1, A_1_Action1, 'Arrow_Edge_Process' ) /n var A_2_Action2 = graph.insertVertex(parent, 'A.2 Action2', 'Action2', 80.0, 126.0, 80, 30, 'Action') /n var A_1_Action1_A_2_Action2 = graph.insertEdge(parent, null, '', A_1_Action1, A_2_Action2 ) /n var A_3_Action3 = graph.insertVertex(parent, 'A.3 Action3', 'Action3', 80.0, 168.0, 80, 30, 'Action') /n var A_2_Action2_A_3_Action3 = graph.insertEdge(parent, null, '', A_2_Action2, A_3_Action3 ) /n var A_4_Action4 = graph.insertVertex(parent, 'A.4 Action4', 'Action4', 80.0, 210.0, 80, 30, 'Action') /n var A_3_Action3_A_4_Action4 = graph.insertEdge(parent, null, '', A_3_Action3, A_4_Action4 ) /n var A_process_1_END = graph.insertVertex(parent, 'A process 1_END', '', 105.0, 252.0, 30, 30, 'Process_END') /n var A_4_Action4_A_process_1_END = graph.insertEdge(parent, null, '', A_4_Action4, A_process_1_END, 'Arrow_Edge_Process' ) /n var None_Item1 = graph.insertVertex(parent, 'None Item1', 'Item1', 9.0, 131.0, 62, 20, 'Item') /n var A_1_Action1_None_Item1 = graph.insertEdge(parent, null, '', A_1_Action1, None_Item1, 'Edge_Item' ) /n var None_Item1_A_2_Action2 = graph.insertEdge(parent, null, '', None_Item1, A_2_Action2, 'Arrow_Edge_Item' ) /n var None_Item2 = graph.insertVertex(parent, 'None Item2', 'Item2', 9.0, 89.0, 62, 20, 'Item') /n var A_2_Action2_None_Item2 = graph.insertEdge(parent, null, '', A_2_Action2, None_Item2, 'Edge_Item' ) /n var None_Item2_A_1_Action1 = graph.insertEdge(parent, null, '', None_Item2, A_1_Action1, 'Arrow_Edge_Item' ) /n var None_Item3 = graph.insertVertex(parent, 'None Item3', 'Item3', 9.0, 215.0, 62, 20, 'Item') /n var A_2_Action2_None_Item3 = graph.insertEdge(parent, null, '', A_2_Action2, None_Item3, 'Edge_Item' ) /n var None_Item3_A_4_Action4 = graph.insertEdge(parent, null, '', None_Item3, A_4_Action4, 'Arrow_Edge_Item' ) /n var None_Item4 = graph.insertVertex(parent, 'None Item4', 'Item4', 9.0, 131.0, 62, 20, 'Item') /n var A_4_Action4_None_Item4 = graph.insertEdge(parent, null, '', A_4_Action4, None_Item4, 'Edge_Item' ) /n var None_Item4_A_2_Action2 = graph.insertEdge(parent, null, '', None_Item4, A_2_Action2, 'Arrow_Edge_Item' ) /n \"\n",
       "               frameborder=\"0\"\n",
       "               allowfullscreen\n",
       "           ></iframe>\n",
       "           "
      ],
      "text/plain": [
       "<IPython.core.display.HTML object>"
      ]
     },
     "metadata": {},
     "output_type": "display_data"
    }
   ],
   "source": [
    "\n",
    "p = Process(\"process 1\")\n",
    "act1 = p.Action(\"Action1\")\n",
    "act2 = p.Action(\"Action2\")\n",
    "act3 = p.Action(\"Action3\")\n",
    "act4 = p.Action(\"Action4\")\n",
    "\n",
    "i1 = Item(\"Item1\")\n",
    "i2 = Item(\"Item2\")\n",
    "i3 = Item(\"Item3\")\n",
    "i4 = Item(\"Item4\")\n",
    "act1.sends(i1)\n",
    "act2.sends(i3)\n",
    "act2.sends(i2)\n",
    "act4.sends(i4)\n",
    "act1.receives(i2)\n",
    "act2.receives(i1)\n",
    "act2.receives(i4)\n",
    "act4.receives(i3)\n",
    "\n",
    "show(p, width=400, height=300)"
   ]
  },
  {
   "cell_type": "code",
   "execution_count": 4,
   "metadata": {},
   "outputs": [
    {
     "name": "stdout",
     "output_type": "stream",
     "text": [
      "critical_elements [Action2, Action1, Action4, Action3]\n",
      "sphere_of_influence {Action1: {Action2}, Action2: {Action4, Action1}, Action3: set(), Action4: {Action2}}\n",
      "feedback_elements [Action2, Action4, Action1, Action2]\n",
      "recursive_elements []\n",
      "absence_items [Action3]\n"
     ]
    },
    {
     "ename": "TypeError",
     "evalue": "unsupported operand type(s) for +: 'NoneType' and 'NoneType'",
     "output_type": "error",
     "traceback": [
      "\u001b[1;31m---------------------------------------------------------------------------\u001b[0m",
      "\u001b[1;31mTypeError\u001b[0m                                 Traceback (most recent call last)",
      "\u001b[1;32m<ipython-input-4-015938649db0>\u001b[0m in \u001b[0;36m<module>\u001b[1;34m\u001b[0m\n\u001b[1;32m----> 1\u001b[1;33m \u001b[0mp\u001b[0m\u001b[1;33m.\u001b[0m\u001b[0mevaluate_interfaces\u001b[0m\u001b[1;33m(\u001b[0m\u001b[1;33m)\u001b[0m\u001b[1;33m\u001b[0m\u001b[1;33m\u001b[0m\u001b[0m\n\u001b[0m",
      "\u001b[1;32mE:\\SW-SysMPy\\sysmpy\\sysmpy\\entity.py\u001b[0m in \u001b[0;36mevaluate_interfaces\u001b[1;34m(self)\u001b[0m\n\u001b[0;32m   1460\u001b[0m                \u001b[0mia\u001b[0m\u001b[1;33m.\u001b[0m\u001b[0mget_recursive_elements\u001b[0m\u001b[1;33m(\u001b[0m\u001b[0mself\u001b[0m\u001b[1;33m)\u001b[0m\u001b[1;33m,\u001b[0m\u001b[0;31m \u001b[0m\u001b[0;31m\\\u001b[0m\u001b[1;33m\u001b[0m\u001b[1;33m\u001b[0m\u001b[0m\n\u001b[0;32m   1461\u001b[0m                \u001b[0mia\u001b[0m\u001b[1;33m.\u001b[0m\u001b[0mget_absence_items\u001b[0m\u001b[1;33m(\u001b[0m\u001b[0mself\u001b[0m\u001b[1;33m)\u001b[0m\u001b[1;33m,\u001b[0m\u001b[0;31m \u001b[0m\u001b[0;31m\\\u001b[0m\u001b[1;33m\u001b[0m\u001b[1;33m\u001b[0m\u001b[0m\n\u001b[1;32m-> 1462\u001b[1;33m                \u001b[0mia\u001b[0m\u001b[1;33m.\u001b[0m\u001b[0mget_unused_items\u001b[0m\u001b[1;33m(\u001b[0m\u001b[0mself\u001b[0m\u001b[1;33m)\u001b[0m\u001b[1;33m\u001b[0m\u001b[1;33m\u001b[0m\u001b[0m\n\u001b[0m\u001b[0;32m   1463\u001b[0m \u001b[1;33m\u001b[0m\u001b[0m\n\u001b[0;32m   1464\u001b[0m     \u001b[1;32mdef\u001b[0m \u001b[0mevaluate_requirements\u001b[0m\u001b[1;33m(\u001b[0m\u001b[0mself\u001b[0m\u001b[1;33m)\u001b[0m\u001b[1;33m:\u001b[0m\u001b[1;33m\u001b[0m\u001b[1;33m\u001b[0m\u001b[0m\n",
      "\u001b[1;32mE:\\SW-SysMPy\\sysmpy\\sysmpy\\interface_analyzer.py\u001b[0m in \u001b[0;36mget_unused_items\u001b[1;34m(self, entity)\u001b[0m\n\u001b[0;32m     93\u001b[0m         \u001b[0mlist_item\u001b[0m \u001b[1;33m=\u001b[0m \u001b[0medb\u001b[0m\u001b[1;33m.\u001b[0m\u001b[0mget\u001b[0m\u001b[1;33m(\u001b[0m\u001b[1;33m[\u001b[0m\u001b[0mItem\u001b[0m\u001b[1;33m]\u001b[0m\u001b[1;33m)\u001b[0m\u001b[1;33m\u001b[0m\u001b[1;33m\u001b[0m\u001b[0m\n\u001b[0;32m     94\u001b[0m         \u001b[0mlist_resource\u001b[0m \u001b[1;33m=\u001b[0m \u001b[0medb\u001b[0m\u001b[1;33m.\u001b[0m\u001b[0mget\u001b[0m\u001b[1;33m(\u001b[0m\u001b[1;33m[\u001b[0m\u001b[0mResource\u001b[0m\u001b[1;33m]\u001b[0m\u001b[1;33m)\u001b[0m\u001b[1;33m\u001b[0m\u001b[1;33m\u001b[0m\u001b[0m\n\u001b[1;32m---> 95\u001b[1;33m         \u001b[0mlist_item\u001b[0m \u001b[1;33m=\u001b[0m \u001b[0mlist_item\u001b[0m \u001b[1;33m+\u001b[0m \u001b[0mlist_resource\u001b[0m\u001b[1;33m\u001b[0m\u001b[1;33m\u001b[0m\u001b[0m\n\u001b[0m\u001b[0;32m     96\u001b[0m         \u001b[1;32mfor\u001b[0m \u001b[0mitem\u001b[0m \u001b[1;32min\u001b[0m \u001b[0mlist_item\u001b[0m\u001b[1;33m:\u001b[0m\u001b[1;33m\u001b[0m\u001b[1;33m\u001b[0m\u001b[0m\n\u001b[0;32m     97\u001b[0m             \u001b[0msenders\u001b[0m\u001b[1;33m,\u001b[0m \u001b[0mreceivers\u001b[0m \u001b[1;33m=\u001b[0m \u001b[1;33m[\u001b[0m\u001b[1;33m]\u001b[0m\u001b[1;33m,\u001b[0m \u001b[1;33m[\u001b[0m\u001b[1;33m]\u001b[0m\u001b[1;33m\u001b[0m\u001b[1;33m\u001b[0m\u001b[0m\n",
      "\u001b[1;31mTypeError\u001b[0m: unsupported operand type(s) for +: 'NoneType' and 'NoneType'"
     ]
    }
   ],
   "source": [
    "p.evaluate_interfaces()"
   ]
  },
  {
   "cell_type": "markdown",
   "metadata": {},
   "source": [
    "# 2. Critical Sphere of Influence  "
   ]
  },
  {
   "cell_type": "code",
   "execution_count": 29,
   "metadata": {},
   "outputs": [
    {
     "data": {
      "text/html": [
       "\n",
       "           <iframe\n",
       "               width=\"400\"\n",
       "               height=\"300\"\n",
       "               src=\"http://127.0.0.1:9191/ad/?g=var A_process_1 = graph.insertVertex(parent, 'A process 1', '', 105.0, 42.0, 30, 30, 'Process') /n var A_1_Action1 = graph.insertVertex(parent, 'A.1 Action1', 'Action1', 80.0, 84.0, 80, 30, 'Action') /n var A_process_1_A_1_Action1 = graph.insertEdge(parent, null, '', A_process_1, A_1_Action1, 'Arrow_Edge_Process' ) /n var A_2_Action2 = graph.insertVertex(parent, 'A.2 Action2', 'Action2', 80.0, 126.0, 80, 30, 'Action') /n var A_1_Action1_A_2_Action2 = graph.insertEdge(parent, null, '', A_1_Action1, A_2_Action2 ) /n var A_3_Action3 = graph.insertVertex(parent, 'A.3 Action3', 'Action3', 80.0, 168.0, 80, 30, 'Action') /n var A_2_Action2_A_3_Action3 = graph.insertEdge(parent, null, '', A_2_Action2, A_3_Action3 ) /n var A_4_Action4 = graph.insertVertex(parent, 'A.4 Action4', 'Action4', 80.0, 210.0, 80, 30, 'Action') /n var A_3_Action3_A_4_Action4 = graph.insertEdge(parent, null, '', A_3_Action3, A_4_Action4 ) /n var A_process_1_END = graph.insertVertex(parent, 'A process 1_END', '', 105.0, 252.0, 30, 30, 'Process_END') /n var A_4_Action4_A_process_1_END = graph.insertEdge(parent, null, '', A_4_Action4, A_process_1_END, 'Arrow_Edge_Process' ) /n var None_Item1 = graph.insertVertex(parent, 'None Item1', 'Item1', 9.0, 131.0, 62, 20, 'Item') /n var A_1_Action1_None_Item1 = graph.insertEdge(parent, null, '', A_1_Action1, None_Item1, 'Edge_Item' ) /n var None_Item1_A_2_Action2 = graph.insertEdge(parent, null, '', None_Item1, A_2_Action2, 'Arrow_Edge_Item' ) /n var None_Item2 = graph.insertVertex(parent, 'None Item2', 'Item2', 9.0, 89.0, 62, 20, 'Item') /n var A_2_Action2_None_Item2 = graph.insertEdge(parent, null, '', A_2_Action2, None_Item2, 'Edge_Item' ) /n var None_Item2_A_1_Action1 = graph.insertEdge(parent, null, '', None_Item2, A_1_Action1, 'Arrow_Edge_Item' ) /n var None_Item3 = graph.insertVertex(parent, 'None Item3', 'Item3', 9.0, 215.0, 62, 20, 'Item') /n var A_2_Action2_None_Item3 = graph.insertEdge(parent, null, '', A_2_Action2, None_Item3, 'Edge_Item' ) /n var None_Item3_A_4_Action4 = graph.insertEdge(parent, null, '', None_Item3, A_4_Action4, 'Arrow_Edge_Item' ) /n var None_Item4 = graph.insertVertex(parent, 'None Item4', 'Item4', 9.0, 131.0, 62, 20, 'Item') /n var A_4_Action4_None_Item4 = graph.insertEdge(parent, null, '', A_4_Action4, None_Item4, 'Edge_Item' ) /n var None_Item4_A_2_Action2 = graph.insertEdge(parent, null, '', None_Item4, A_2_Action2, 'Arrow_Edge_Item' ) /n \"\n",
       "               frameborder=\"0\"\n",
       "               allowfullscreen\n",
       "           ></iframe>\n",
       "           "
      ],
      "text/plain": [
       "<IPython.core.display.HTML object>"
      ]
     },
     "metadata": {},
     "output_type": "display_data"
    }
   ],
   "source": [
    "p = Process(\"process 1\")\n",
    "act1 = p.Action(\"Action1\")\n",
    "act2 = p.Action(\"Action2\")\n",
    "act3 = p.Action(\"Action3\")\n",
    "act4 = p.Action(\"Action4\")\n",
    "\n",
    "i1 = Item(\"Item1\")\n",
    "i2 = Item(\"Item2\")\n",
    "i3 = Item(\"Item3\")\n",
    "i4 = Item(\"Item4\")\n",
    "act1.sends(i1)\n",
    "act2.sends(i3)\n",
    "act2.sends(i2)\n",
    "act4.sends(i4)\n",
    "act1.receives(i2)\n",
    "act2.receives(i1)\n",
    "act2.receives(i4)\n",
    "act4.receives(i3)\n",
    " \n",
    "show(p, width=400, height=300)"
   ]
  },
  {
   "cell_type": "code",
   "execution_count": 30,
   "metadata": {},
   "outputs": [
    {
     "name": "stdout",
     "output_type": "stream",
     "text": [
      "critical_elements [Action2, Action1, Action4, Action3]\n",
      "sphere_of_influence {Action1: {Action2}, Action2: {Action4, Action1}, Action3: set(), Action4: {Action2}}\n",
      "feedback_elements [Action2, Action4, Action1, Action2]\n",
      "recursive_elements []\n",
      "absence_items [Action3]\n",
      "unused_items [Item1, Item2, Item1, Item2, Item1, Item2]\n"
     ]
    },
    {
     "data": {
      "text/plain": [
       "([Action2, Action1, Action4, Action3],\n",
       " {Action1: {Action2},\n",
       "  Action2: {Action1, Action4},\n",
       "  Action3: set(),\n",
       "  Action4: {Action2}},\n",
       " [Action2, Action4, Action1, Action2],\n",
       " [],\n",
       " [Action3],\n",
       " [Item1, Item2, Item1, Item2, Item1, Item2])"
      ]
     },
     "execution_count": 30,
     "metadata": {},
     "output_type": "execute_result"
    }
   ],
   "source": [
    "p.evaluate_interfaces()"
   ]
  },
  {
   "cell_type": "markdown",
   "metadata": {},
   "source": [
    "# 3. Feedback Loop  "
   ]
  },
  {
   "cell_type": "code",
   "execution_count": 31,
   "metadata": {},
   "outputs": [
    {
     "data": {
      "text/html": [
       "\n",
       "           <iframe\n",
       "               width=\"400\"\n",
       "               height=\"300\"\n",
       "               src=\"http://127.0.0.1:9191/ad/?g=var A_process_1 = graph.insertVertex(parent, 'A process 1', '', 105.0, 42.0, 30, 30, 'Process') /n var A_1_Action1 = graph.insertVertex(parent, 'A.1 Action1', 'Action1', 80.0, 84.0, 80, 30, 'Action') /n var A_process_1_A_1_Action1 = graph.insertEdge(parent, null, '', A_process_1, A_1_Action1, 'Arrow_Edge_Process' ) /n var A_2_Action2 = graph.insertVertex(parent, 'A.2 Action2', 'Action2', 80.0, 126.0, 80, 30, 'Action') /n var A_1_Action1_A_2_Action2 = graph.insertEdge(parent, null, '', A_1_Action1, A_2_Action2 ) /n var A_3_Action3 = graph.insertVertex(parent, 'A.3 Action3', 'Action3', 80.0, 168.0, 80, 30, 'Action') /n var A_2_Action2_A_3_Action3 = graph.insertEdge(parent, null, '', A_2_Action2, A_3_Action3 ) /n var A_4_Action4 = graph.insertVertex(parent, 'A.4 Action4', 'Action4', 80.0, 210.0, 80, 30, 'Action') /n var A_3_Action3_A_4_Action4 = graph.insertEdge(parent, null, '', A_3_Action3, A_4_Action4 ) /n var A_process_1_END = graph.insertVertex(parent, 'A process 1_END', '', 105.0, 252.0, 30, 30, 'Process_END') /n var A_4_Action4_A_process_1_END = graph.insertEdge(parent, null, '', A_4_Action4, A_process_1_END, 'Arrow_Edge_Process' ) /n var None_Item1 = graph.insertVertex(parent, 'None Item1', 'Item1', 9.0, 131.0, 62, 20, 'Item') /n var A_1_Action1_None_Item1 = graph.insertEdge(parent, null, '', A_1_Action1, None_Item1, 'Edge_Item' ) /n var None_Item1_A_2_Action2 = graph.insertEdge(parent, null, '', None_Item1, A_2_Action2, 'Arrow_Edge_Item' ) /n var None_Item2 = graph.insertVertex(parent, 'None Item2', 'Item2', 9.0, 89.0, 62, 20, 'Item') /n var A_2_Action2_None_Item2 = graph.insertEdge(parent, null, '', A_2_Action2, None_Item2, 'Edge_Item' ) /n var None_Item2_A_1_Action1 = graph.insertEdge(parent, null, '', None_Item2, A_1_Action1, 'Arrow_Edge_Item' ) /n \"\n",
       "               frameborder=\"0\"\n",
       "               allowfullscreen\n",
       "           ></iframe>\n",
       "           "
      ],
      "text/plain": [
       "<IPython.core.display.HTML object>"
      ]
     },
     "metadata": {},
     "output_type": "display_data"
    }
   ],
   "source": [
    "p = Process(\"process 1\")\n",
    "act1 = p.Action(\"Action1\")\n",
    "act2 = p.Action(\"Action2\")\n",
    "act3 = p.Action(\"Action3\")\n",
    "act4 = p.Action(\"Action4\")\n",
    "\n",
    "i1 = Item(\"Item1\")\n",
    "act1.sends(i1)\n",
    "act2.receives(i1)\n",
    "\n",
    "i2 = Item(\"Item2\")\n",
    "act2.sends(i2)\n",
    "act1.receives(i2)\n",
    "  \n",
    "show(p, width=400, height=300)\n"
   ]
  },
  {
   "cell_type": "code",
   "execution_count": 32,
   "metadata": {},
   "outputs": [
    {
     "name": "stdout",
     "output_type": "stream",
     "text": [
      "critical_elements [Action1, Action2, Action3, Action4]\n",
      "sphere_of_influence {Action1: {Action2}, Action2: {Action1}, Action3: set(), Action4: set()}\n",
      "feedback_elements [Action2, Action1]\n",
      "recursive_elements []\n",
      "absence_items [Action3, Action4]\n",
      "unused_items [Item1, Item2, Item1, Item2, Item1, Item2]\n"
     ]
    },
    {
     "data": {
      "text/plain": [
       "([Action1, Action2, Action3, Action4],\n",
       " {Action1: {Action2}, Action2: {Action1}, Action3: set(), Action4: set()},\n",
       " [Action2, Action1],\n",
       " [],\n",
       " [Action3, Action4],\n",
       " [Item1, Item2, Item1, Item2, Item1, Item2])"
      ]
     },
     "execution_count": 32,
     "metadata": {},
     "output_type": "execute_result"
    }
   ],
   "source": [
    "p.evaluate_interfaces()"
   ]
  },
  {
   "cell_type": "markdown",
   "metadata": {},
   "source": [
    "# 4. Recursive Elements  "
   ]
  },
  {
   "cell_type": "code",
   "execution_count": 33,
   "metadata": {},
   "outputs": [
    {
     "data": {
      "text/html": [
       "\n",
       "           <iframe\n",
       "               width=\"400\"\n",
       "               height=\"300\"\n",
       "               src=\"http://127.0.0.1:9191/ad/?g=var A_process_1 = graph.insertVertex(parent, 'A process 1', '', 105.0, 42.0, 30, 30, 'Process') /n var A_1_Action1 = graph.insertVertex(parent, 'A.1 Action1', 'Action1', 80.0, 84.0, 80, 30, 'Action') /n var A_process_1_A_1_Action1 = graph.insertEdge(parent, null, '', A_process_1, A_1_Action1, 'Arrow_Edge_Process' ) /n var A_2_Action2 = graph.insertVertex(parent, 'A.2 Action2', 'Action2', 80.0, 126.0, 80, 30, 'Action') /n var A_1_Action1_A_2_Action2 = graph.insertEdge(parent, null, '', A_1_Action1, A_2_Action2 ) /n var A_process_1_END = graph.insertVertex(parent, 'A process 1_END', '', 105.0, 168.0, 30, 30, 'Process_END') /n var A_2_Action2_A_process_1_END = graph.insertEdge(parent, null, '', A_2_Action2, A_process_1_END, 'Arrow_Edge_Process' ) /n var None_Item1 = graph.insertVertex(parent, 'None Item1', 'Item1', 9.0, 89.0, 62, 20, 'Item') /n var A_1_Action1_None_Item1 = graph.insertEdge(parent, null, '', A_1_Action1, None_Item1, 'Edge_Item' ) /n var None_Item1_A_1_Action1 = graph.insertEdge(parent, null, '', None_Item1, A_1_Action1, 'Arrow_Edge_Item' ) /n var None_Item2 = graph.insertVertex(parent, 'None Item2', 'Item2', 9.0, 131.0, 62, 20, 'Item') /n var A_2_Action2_None_Item2 = graph.insertEdge(parent, null, '', A_2_Action2, None_Item2, 'Edge_Item' ) /n var None_Item2_A_2_Action2 = graph.insertEdge(parent, null, '', None_Item2, A_2_Action2, 'Arrow_Edge_Item' ) /n \"\n",
       "               frameborder=\"0\"\n",
       "               allowfullscreen\n",
       "           ></iframe>\n",
       "           "
      ],
      "text/plain": [
       "<IPython.core.display.HTML object>"
      ]
     },
     "metadata": {},
     "output_type": "display_data"
    }
   ],
   "source": [
    "\n",
    "p = Process(\"process 1\")\n",
    "act1 = p.Action(\"Action1\")\n",
    "act2 = p.Action(\"Action2\")\n",
    "\n",
    "i1 = Item(\"Item1\")\n",
    "act1.sends(i1)\n",
    "act1.receives(i1)\n",
    "\n",
    "i2 = Item(\"Item2\")\n",
    "act2.sends(i2)\n",
    "act2.receives(i2)\n",
    "\n",
    "show(p, width=400, height=300)\n"
   ]
  },
  {
   "cell_type": "code",
   "execution_count": 34,
   "metadata": {},
   "outputs": [
    {
     "name": "stdout",
     "output_type": "stream",
     "text": [
      "critical_elements [Action1, Action2]\n",
      "sphere_of_influence {Action1: {Action1}, Action2: {Action2}}\n",
      "feedback_elements []\n",
      "recursive_elements [Item1, Item2]\n",
      "absence_items []\n",
      "unused_items [Item1, Item2, Item1, Item2, Item1, Item2]\n"
     ]
    },
    {
     "data": {
      "text/plain": [
       "([Action1, Action2],\n",
       " {Action1: {Action1}, Action2: {Action2}},\n",
       " [],\n",
       " [Item1, Item2],\n",
       " [],\n",
       " [Item1, Item2, Item1, Item2, Item1, Item2])"
      ]
     },
     "execution_count": 34,
     "metadata": {},
     "output_type": "execute_result"
    }
   ],
   "source": [
    "p.evaluate_interfaces()"
   ]
  },
  {
   "cell_type": "markdown",
   "metadata": {},
   "source": [
    "# 5. Absence of Items"
   ]
  },
  {
   "cell_type": "code",
   "execution_count": 35,
   "metadata": {},
   "outputs": [
    {
     "data": {
      "text/html": [
       "\n",
       "           <iframe\n",
       "               width=\"400\"\n",
       "               height=\"300\"\n",
       "               src=\"http://127.0.0.1:9191/ad/?g=var A_process_1 = graph.insertVertex(parent, 'A process 1', '', 105.0, 42.0, 30, 30, 'Process') /n var A_1_Action1 = graph.insertVertex(parent, 'A.1 Action1', 'Action1', 80.0, 84.0, 80, 30, 'Action') /n var A_process_1_A_1_Action1 = graph.insertEdge(parent, null, '', A_process_1, A_1_Action1, 'Arrow_Edge_Process' ) /n var A_2_Action2 = graph.insertVertex(parent, 'A.2 Action2', 'Action2', 80.0, 126.0, 80, 30, 'Action') /n var A_1_Action1_A_2_Action2 = graph.insertEdge(parent, null, '', A_1_Action1, A_2_Action2 ) /n var A_process_1_END = graph.insertVertex(parent, 'A process 1_END', '', 105.0, 168.0, 30, 30, 'Process_END') /n var A_2_Action2_A_process_1_END = graph.insertEdge(parent, null, '', A_2_Action2, A_process_1_END, 'Arrow_Edge_Process' ) /n \"\n",
       "               frameborder=\"0\"\n",
       "               allowfullscreen\n",
       "           ></iframe>\n",
       "           "
      ],
      "text/plain": [
       "<IPython.core.display.HTML object>"
      ]
     },
     "metadata": {},
     "output_type": "display_data"
    }
   ],
   "source": [
    "\n",
    "p = Process(\"process 1\")\n",
    "act1 = p.Action(\"Action1\")\n",
    "act2 = p.Action(\"Action2\")\n",
    " \n",
    "show(p, width=400, height=300)\n",
    "\n"
   ]
  },
  {
   "cell_type": "code",
   "execution_count": 36,
   "metadata": {},
   "outputs": [
    {
     "name": "stdout",
     "output_type": "stream",
     "text": [
      "critical_elements [Action1, Action2]\n",
      "sphere_of_influence {Action1: set(), Action2: set()}\n",
      "feedback_elements []\n",
      "recursive_elements []\n",
      "absence_items [Action1, Action2]\n",
      "unused_items [Item1, Item2, Item1, Item2, Item1, Item2]\n"
     ]
    },
    {
     "data": {
      "text/plain": [
       "([Action1, Action2],\n",
       " {Action1: set(), Action2: set()},\n",
       " [],\n",
       " [],\n",
       " [Action1, Action2],\n",
       " [Item1, Item2, Item1, Item2, Item1, Item2])"
      ]
     },
     "execution_count": 36,
     "metadata": {},
     "output_type": "execute_result"
    }
   ],
   "source": [
    "p.evaluate_interfaces()"
   ]
  },
  {
   "cell_type": "markdown",
   "metadata": {},
   "source": [
    "# 6. Unused Items"
   ]
  },
  {
   "cell_type": "code",
   "execution_count": 37,
   "metadata": {},
   "outputs": [
    {
     "data": {
      "text/html": [
       "\n",
       "           <iframe\n",
       "               width=\"400\"\n",
       "               height=\"300\"\n",
       "               src=\"http://127.0.0.1:9191/ad/?g=var A_process_1 = graph.insertVertex(parent, 'A process 1', '', 105.0, 42.0, 30, 30, 'Process') /n var A_1_Action1 = graph.insertVertex(parent, 'A.1 Action1', 'Action1', 80.0, 84.0, 80, 30, 'Action') /n var A_process_1_A_1_Action1 = graph.insertEdge(parent, null, '', A_process_1, A_1_Action1, 'Arrow_Edge_Process' ) /n var A_2_Action2 = graph.insertVertex(parent, 'A.2 Action2', 'Action2', 80.0, 126.0, 80, 30, 'Action') /n var A_1_Action1_A_2_Action2 = graph.insertEdge(parent, null, '', A_1_Action1, A_2_Action2 ) /n var A_process_1_END = graph.insertVertex(parent, 'A process 1_END', '', 105.0, 168.0, 30, 30, 'Process_END') /n var A_2_Action2_A_process_1_END = graph.insertEdge(parent, null, '', A_2_Action2, A_process_1_END, 'Arrow_Edge_Process' ) /n \"\n",
       "               frameborder=\"0\"\n",
       "               allowfullscreen\n",
       "           ></iframe>\n",
       "           "
      ],
      "text/plain": [
       "<IPython.core.display.HTML object>"
      ]
     },
     "metadata": {},
     "output_type": "display_data"
    }
   ],
   "source": [
    "\n",
    "p = Process(\"process 1\")\n",
    "act1 = p.Action(\"Action1\")\n",
    "act2 = p.Action(\"Action2\")\n",
    "\n",
    "i1 = Item(\"Item1\")\n",
    "i2 = Item(\"Item2\")\n",
    "\n",
    "\n",
    "show(p, width=400, height=300)"
   ]
  },
  {
   "cell_type": "code",
   "execution_count": 38,
   "metadata": {},
   "outputs": [
    {
     "name": "stdout",
     "output_type": "stream",
     "text": [
      "critical_elements [Action1, Action2]\n",
      "sphere_of_influence {Action1: set(), Action2: set()}\n",
      "feedback_elements []\n",
      "recursive_elements []\n",
      "absence_items [Action1, Action2]\n",
      "unused_items [Item1, Item2, Item1, Item2, Item1, Item2, Item1, Item2]\n"
     ]
    },
    {
     "data": {
      "text/plain": [
       "([Action1, Action2],\n",
       " {Action1: set(), Action2: set()},\n",
       " [],\n",
       " [],\n",
       " [Action1, Action2],\n",
       " [Item1, Item2, Item1, Item2, Item1, Item2, Item1, Item2])"
      ]
     },
     "execution_count": 38,
     "metadata": {},
     "output_type": "execute_result"
    }
   ],
   "source": [
    "p.evaluate_interfaces()"
   ]
  },
  {
   "cell_type": "code",
   "execution_count": null,
   "metadata": {},
   "outputs": [],
   "source": []
  }
 ],
 "metadata": {
  "kernelspec": {
   "display_name": "Python 3",
   "language": "python",
   "name": "python3"
  },
  "language_info": {
   "codemirror_mode": {
    "name": "ipython",
    "version": 3
   },
   "file_extension": ".py",
   "mimetype": "text/x-python",
   "name": "python",
   "nbconvert_exporter": "python",
   "pygments_lexer": "ipython3",
   "version": "3.7.4"
  }
 },
 "nbformat": 4,
 "nbformat_minor": 4
}
