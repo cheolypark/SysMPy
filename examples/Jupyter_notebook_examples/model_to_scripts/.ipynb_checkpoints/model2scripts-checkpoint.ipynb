{
 "cells": [
  {
   "cell_type": "code",
   "execution_count": 5,
   "metadata": {},
   "outputs": [],
   "source": [
    "import os\n",
    "import sys \n",
    "sys.path.insert(0, os.path.abspath('..\\..\\..\\..\\sysmpy'))  \n",
    "from sysmpy import *  "
   ]
  },
  {
   "cell_type": "code",
   "execution_count": 6,
   "metadata": {},
   "outputs": [],
   "source": [
    "# 1 Define actions\n",
    "p = Process(\"process\")\n",
    "p_con = p.Condition(\"Condition 1\")\n",
    "\n",
    "p1 = p_con.Process(\"process 1\")\n",
    "p2 = p_con.Process(\"process 2\")\n",
    "p_act1 = p1.Action(\"Action 1\")\n",
    "p_act2 = p2.Action(\"Action 2\")\n",
    "p_end = p1.End()\n",
    "\n",
    "p_act3 = p.Action(\"Action 3\")"
   ]
  },
  {
   "cell_type": "code",
   "execution_count": 7,
   "metadata": {},
   "outputs": [
    {
     "name": "stdout",
     "output_type": "stream",
     "text": [
      "ID1642330772232 = Process('process')\n",
      "ID1642330772168 = ID1642330772232.Condition('Condition 1')\n",
      "ID1642330772552 = ID1642330772168.Process('process 1')\n",
      "ID1642330773320 = ID1642330772552.Action('Action 1')\n",
      "ID1642330774600 = ID1642330772552.End()\n",
      "ID1642330773000 = ID1642330772168.Process('process 2')\n",
      "ID1642330774472 = ID1642330773000.Action('Action 2')\n",
      "ID1642330774920 = ID1642330772232.Action('Action 3')\n",
      "\n"
     ]
    }
   ],
   "source": [
    "sg = ScriptGenerator()\n",
    "sg.run(p)\n",
    "\n",
    "print(sg.script)"
   ]
  },
  {
   "cell_type": "code",
   "execution_count": null,
   "metadata": {},
   "outputs": [],
   "source": []
  }
 ],
 "metadata": {
  "kernelspec": {
   "display_name": "Python 3",
   "language": "python",
   "name": "python3"
  },
  "language_info": {
   "codemirror_mode": {
    "name": "ipython",
    "version": 3
   },
   "file_extension": ".py",
   "mimetype": "text/x-python",
   "name": "python",
   "nbconvert_exporter": "python",
   "pygments_lexer": "ipython3",
   "version": "3.7.4"
  }
 },
 "nbformat": 4,
 "nbformat_minor": 4
}
