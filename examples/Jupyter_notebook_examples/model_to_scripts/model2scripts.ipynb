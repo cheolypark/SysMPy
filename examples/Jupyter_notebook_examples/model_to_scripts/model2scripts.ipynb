{
 "cells": [
  {
   "cell_type": "code",
   "execution_count": 1,
   "metadata": {},
   "outputs": [],
   "source": [
    "import os\n",
    "import sys \n",
    "sys.path.insert(0, os.path.abspath('..\\..\\..\\..\\sysmpy'))  \n",
    "from sysmpy import *\n",
    "from sysmpy.gui.mxgraph.tornado_gui_server import * "
   ]
  },
  {
   "cell_type": "code",
   "execution_count": 2,
   "metadata": {},
   "outputs": [
    {
     "name": "stdout",
     "output_type": "stream",
     "text": [
      "E:\\SW-SysMPy\\SysMPy\\examples\\Jupyter_notebook_examples\\model_to_scripts\\images\n",
      "[WinError 10048] Only one usage of each socket address (protocol/network address/port) is normally permitted\n",
      "We use the existing tornado server!\n"
     ]
    }
   ],
   "source": [
    "RunServer()"
   ]
  },
  {
   "cell_type": "markdown",
   "metadata": {},
   "source": [
    "# 1. Define a model"
   ]
  },
  {
   "cell_type": "code",
   "execution_count": 3,
   "metadata": {},
   "outputs": [
    {
     "data": {
      "text/html": [
       "\n",
       "           <iframe\n",
       "               width=\"400\"\n",
       "               height=\"400\"\n",
       "               src=\"http://127.0.0.1:9191/ad/?g=var A_process = graph.insertVertex(parent, 'A process', '', 185.0, 42.0, 30, 30, 'Process') /n var A_1_Condition_1 = graph.insertVertex(parent, 'A.1 Condition 1', 'Condition 1', 160.0, 84.0, 80, 30, 'Condition') /n var A_process_A_1_Condition_1 = graph.insertEdge(parent, null, '', A_process, A_1_Condition_1, 'Arrow_Edge_Process' ) /n var A_1_1_process_1 = graph.insertVertex(parent, 'A.1.1 process 1', '', 120.0, 141.0, 0, 0, 'Process') /n var A_1_Condition_1_A_1_1_process_1 = graph.insertEdge(parent, null, '', A_1_Condition_1, A_1_1_process_1 ) /n var A_1_2_process_2 = graph.insertVertex(parent, 'A.1.2 process 2', '', 280.0, 141.0, 0, 0, 'Process') /n var A_1_Condition_1_A_1_2_process_2 = graph.insertEdge(parent, null, '', A_1_Condition_1, A_1_2_process_2 ) /n var A_2_Action_3 = graph.insertVertex(parent, 'A.2 Action 3', 'Action 3', 160.0, 294.0, 80, 30, 'Action') /n var A_process_END = graph.insertVertex(parent, 'A process_END', '', 185.0, 336.0, 30, 30, 'Process_END') /n var A_2_Action_3_A_process_END = graph.insertEdge(parent, null, '', A_2_Action_3, A_process_END, 'Arrow_Edge_Process' ) /n var A_1_1_1_Action_1 = graph.insertVertex(parent, 'A.1.1.1 Action 1', 'Action 1', 80.0, 168.0, 80, 30, 'Action') /n var A_1_1_process_1_A_1_1_1_Action_1 = graph.insertEdge(parent, null, '', A_1_1_process_1, A_1_1_1_Action_1 ) /n var A_1_2_1_Action_2 = graph.insertVertex(parent, 'A.1.2.1 Action 2', 'Action 2', 240.0, 168.0, 80, 30, 'Action') /n var A_1_2_process_2_A_1_2_1_Action_2 = graph.insertEdge(parent, null, '', A_1_2_process_2, A_1_2_1_Action_2 ) /n var A_1_1_process_1_END = graph.insertVertex(parent, 'A.1.1 process 1_END', '', 120.0, 225.0, 0, 0, 'Process_END') /n var A_1_1_1_Action_1_A_1_1_process_1_END = graph.insertEdge(parent, null, '', A_1_1_1_Action_1, A_1_1_process_1_END ) /n var A_1_Condition_1_END = graph.insertVertex(parent, 'A.1 Condition 1_END', 'OR', 185.0, 252.0, 30, 30, 'Condition_END') /n var A_1_1_process_1_END_A_1_Condition_1_END = graph.insertEdge(parent, null, '', A_1_1_process_1_END, A_1_Condition_1_END ) /n var A_1_2_process_2_END = graph.insertVertex(parent, 'A.1.2 process 2_END', '', 280.0, 225.0, 0, 0, 'Process_END') /n var A_1_2_1_Action_2_A_1_2_process_2_END = graph.insertEdge(parent, null, '', A_1_2_1_Action_2, A_1_2_process_2_END ) /n var A_1_2_process_2_END_A_1_Condition_1_END = graph.insertEdge(parent, null, '', A_1_2_process_2_END, A_1_Condition_1_END ) /n var A_1_Condition_1_END_A_2_Action_3 = graph.insertEdge(parent, null, '', A_1_Condition_1_END, A_2_Action_3 ) /n var A_1_Condition_1_END_A_2_Action_3 = graph.insertEdge(parent, null, '', A_1_Condition_1_END, A_2_Action_3 ) /n \"\n",
       "               frameborder=\"0\"\n",
       "               allowfullscreen\n",
       "           ></iframe>\n",
       "           "
      ],
      "text/plain": [
       "<IPython.core.display.HTML object>"
      ]
     },
     "metadata": {},
     "output_type": "display_data"
    }
   ],
   "source": [
    "\n",
    "p = Process(\"process\")\n",
    "p_con = p.Condition(\"Condition 1\")\n",
    "\n",
    "p1 = p_con.Process(\"process 1\")\n",
    "p2 = p_con.Process(\"process 2\")\n",
    "p_act1 = p1.Action(\"Action 1\")\n",
    "p_act2 = p2.Action(\"Action 2\") \n",
    "\n",
    "p_act3 = p.Action(\"Action 3\") \n",
    "\n",
    "show(p, width=400, height=400)"
   ]
  },
  {
   "cell_type": "markdown",
   "metadata": {},
   "source": [
    "# 2 Generatre a script from themodel"
   ]
  },
  {
   "cell_type": "code",
   "execution_count": 4,
   "metadata": {},
   "outputs": [
    {
     "name": "stdout",
     "output_type": "stream",
     "text": [
      "ID2014082256776 = Process('process')\n",
      "ID2014082256712 = ID2014082256776.Condition('Condition 1')\n",
      "ID2014082196360 = ID2014082256712.Process('process 1')\n",
      "ID2014083412872 = ID2014082196360.Action('Action 1')\n",
      "ID2014083412552 = ID2014082256712.Process('process 2')\n",
      "ID2014083413192 = ID2014083412552.Action('Action 2')\n",
      "ID2014083413448 = ID2014082256776.Action('Action 3')\n",
      "\n"
     ]
    }
   ],
   "source": [
    "sg = ScriptGenerator()\n",
    "sg.run(p)\n",
    "\n",
    "print(sg.script)"
   ]
  },
  {
   "cell_type": "code",
   "execution_count": null,
   "metadata": {},
   "outputs": [],
   "source": []
  }
 ],
 "metadata": {
  "kernelspec": {
   "display_name": "Python 3",
   "language": "python",
   "name": "python3"
  },
  "language_info": {
   "codemirror_mode": {
    "name": "ipython",
    "version": 3
   },
   "file_extension": ".py",
   "mimetype": "text/x-python",
   "name": "python",
   "nbconvert_exporter": "python",
   "pygments_lexer": "ipython3",
   "version": "3.7.4"
  }
 },
 "nbformat": 4,
 "nbformat_minor": 4
}
