{
 "cells": [
  {
   "cell_type": "code",
   "execution_count": 4,
   "metadata": {},
   "outputs": [],
   "source": [
    "import os\n",
    "import sys \n",
    "sys.path.insert(0, os.path.abspath('..\\..\\..\\..\\sysmpy'))  \n",
    "from sysmpy import *  "
   ]
  },
  {
   "cell_type": "markdown",
   "metadata": {},
   "source": [
    "# 1. Define a model"
   ]
  },
  {
   "cell_type": "code",
   "execution_count": 5,
   "metadata": {},
   "outputs": [],
   "source": [
    "\n",
    "p = Process(\"process\")\n",
    "p_con = p.Condition(\"Condition 1\")\n",
    "\n",
    "p1 = p_con.Process(\"process 1\")\n",
    "p2 = p_con.Process(\"process 2\")\n",
    "p_act1 = p1.Action(\"Action 1\")\n",
    "p_act2 = p2.Action(\"Action 2\")\n",
    "p_end = p1.End()\n",
    "\n",
    "p_act3 = p.Action(\"Action 3\")"
   ]
  },
  {
   "cell_type": "markdown",
   "metadata": {},
   "source": [
    "# 2 Generatre a script from themodel"
   ]
  },
  {
   "cell_type": "code",
   "execution_count": 6,
   "metadata": {},
   "outputs": [
    {
     "name": "stdout",
     "output_type": "stream",
     "text": [
      "ID2128794405960 = Process('process')\n",
      "ID2128794405896 = ID2128794405960.Condition('Condition 1')\n",
      "ID2128794406344 = ID2128794405896.Process('process 1')\n",
      "ID2128794387272 = ID2128794406344.Action('Action 1')\n",
      "ID2128794388744 = ID2128794406344.End()\n",
      "ID2128793197960 = ID2128794405896.Process('process 2')\n",
      "ID2128794388488 = ID2128793197960.Action('Action 2')\n",
      "ID2128794389064 = ID2128794405960.Action('Action 3')\n",
      "\n"
     ]
    }
   ],
   "source": [
    "sg = ScriptGenerator()\n",
    "sg.run(p)\n",
    "\n",
    "print(sg.script)"
   ]
  },
  {
   "cell_type": "code",
   "execution_count": null,
   "metadata": {},
   "outputs": [],
   "source": []
  }
 ],
 "metadata": {
  "kernelspec": {
   "display_name": "Python 3",
   "language": "python",
   "name": "python3"
  },
  "language_info": {
   "codemirror_mode": {
    "name": "ipython",
    "version": 3
   },
   "file_extension": ".py",
   "mimetype": "text/x-python",
   "name": "python",
   "nbconvert_exporter": "python",
   "pygments_lexer": "ipython3",
   "version": "3.7.4"
  }
 },
 "nbformat": 4,
 "nbformat_minor": 4
}
