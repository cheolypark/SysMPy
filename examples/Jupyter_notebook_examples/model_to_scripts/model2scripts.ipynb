{
 "cells": [
  {
   "cell_type": "code",
   "execution_count": 1,
   "metadata": {},
   "outputs": [],
   "source": [
    "import os\n",
    "import sys \n",
    "sys.path.insert(0, os.path.abspath('..\\..\\..\\..\\sysmpy'))  \n",
    "from sysmpy import *  "
   ]
  },
  {
   "cell_type": "markdown",
   "metadata": {},
   "source": [
    "# 1. Define a model"
   ]
  },
  {
   "cell_type": "code",
   "execution_count": 12,
   "metadata": {},
   "outputs": [],
   "source": [
    "\n",
    "p = Process(\"process\")\n",
    "p_con = p.Condition(\"Condition 1\")\n",
    "\n",
    "p1 = p_con.Process(\"process 1\")\n",
    "p2 = p_con.Process(\"process 2\")\n",
    "p_act1 = p1.Action(\"Action 1\")\n",
    "p_act2 = p2.Action(\"Action 2\")\n",
    "p_end = p1.End()\n",
    "\n",
    "p_act3 = p.Action(\"Action 3\")"
   ]
  },
  {
   "cell_type": "markdown",
   "metadata": {},
   "source": [
    "# 2 Generatre a script from themodel"
   ]
  },
  {
   "cell_type": "code",
   "execution_count": 13,
   "metadata": {},
   "outputs": [
    {
     "name": "stdout",
     "output_type": "stream",
     "text": [
      "ID1642330781640 = Process('process')\n",
      "ID1642330781896 = ID1642330781640.Condition('Condition 1')\n",
      "ID1642330782024 = ID1642330781896.Process('process 1')\n",
      "ID1642330780552 = ID1642330782024.Action('Action 1')\n",
      "ID1642330772424 = ID1642330782024.End()\n",
      "ID1642330780744 = ID1642330781896.Process('process 2')\n",
      "ID1642330772040 = ID1642330780744.Action('Action 2')\n",
      "ID1642330760392 = ID1642330781640.Action('Action 3')\n",
      "\n"
     ]
    }
   ],
   "source": [
    "sg = ScriptGenerator()\n",
    "sg.run(p)\n",
    "\n",
    "print(sg.script)"
   ]
  },
  {
   "cell_type": "code",
   "execution_count": null,
   "metadata": {},
   "outputs": [],
   "source": []
  }
 ],
 "metadata": {
  "kernelspec": {
   "display_name": "Python 3",
   "language": "python",
   "name": "python3"
  },
  "language_info": {
   "codemirror_mode": {
    "name": "ipython",
    "version": 3
   },
   "file_extension": ".py",
   "mimetype": "text/x-python",
   "name": "python",
   "nbconvert_exporter": "python",
   "pygments_lexer": "ipython3",
   "version": "3.7.4"
  }
 },
 "nbformat": 4,
 "nbformat_minor": 4
}
