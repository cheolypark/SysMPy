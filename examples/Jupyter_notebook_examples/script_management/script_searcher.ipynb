{
 "cells": [
  {
   "cell_type": "markdown",
   "metadata": {},
   "source": [
    "# Search Scripts"
   ]
  },
  {
   "cell_type": "code",
   "execution_count": 3,
   "metadata": {},
   "outputs": [],
   "source": [
    "import os\n",
    "import sys \n",
    "sys.path.insert(0, os.path.abspath('..\\..\\..\\..\\sysmpy'))  \n",
    "from sysmpy import *"
   ]
  },
  {
   "cell_type": "code",
   "execution_count": 4,
   "metadata": {},
   "outputs": [
    {
     "name": "stdout",
     "output_type": "stream",
     "text": [
      "Query: order 1\n",
      "[{'File': '..\\\\SteelIndustry\\\\Steelmaking.ipynb', 'Score': 0.16666667, 'Text': 'Production PlanningSteelmaking process Production Planning Prompt order processing Optimal load control Live update of furnace condition Maintaining precise temperature Ironmaking Linked information during blowing Meeting the target temperature Steelmaking and Continuous Casting Rolling Surface Treatment'}, {'File': '..\\\\SteelIndustry\\\\admodel.py', 'Score': 0.0, 'Text': 'Car p1 p2 Action1 Action2'}, {'File': '..\\\\SteelIndustry\\\\__init__.py', 'Score': 0.0, 'Text': ''}]\n"
     ]
    }
   ],
   "source": [
    "s = SMSSearcher('..\\SteelIndustry')\n",
    "print(s.search('order 1'))"
   ]
  },
  {
   "cell_type": "code",
   "execution_count": 5,
   "metadata": {},
   "outputs": [
    {
     "name": "stdout",
     "output_type": "stream",
     "text": [
      "Query: action2\n",
      "[{'File': '..\\\\project_example\\\\ad_system1.py', 'Score': 0.39223227, 'Text': ' \\n                            +---------------+\\n                            |               |\\n                            |     start     |\\n                            |               |\\n                            +---------------+\\n                                    | process\\n                        +---------(XO)----------+\\n                        | p1                    | p2\\n                +---------------+       +---------------+\\n                |               |       |               |\\n                |    Action1    |       |    Action2    |\\n                |               |       |               |\\n                +---------------+       +---------------+\\n                        |                       |\\n                        +---------(XO)----------+\\n                                    |\\n                            +---------------+\\n                            |               |\\n                            |      End      |\\n                            |               |\\n                            +---------------+\\n  process p1 p2 Action1 Action2'}, {'File': '..\\\\project_example\\\\rd_system1.py', 'Score': 0.0, 'Text': ' \\n+---------------------------------------------------------------------------+\\nR1.0 The system shall fit into a volume not exceeding 1.0 m^3\\n    R1.1 The system width shall be between 0.5m and 1.0m\\n    R1.2 The system height shall be between 0.5m and 1.0m\\n    R1.3 The system depth shall be between 0.5m and 1.0m\\n\\nR2.0 The system shall be made entirely from Aluminum 6060 alloy\\n    R2.1 The system shall not contain any internal voids or cavities\\n\\nR3.0 The shape of the system must be a cube\\n    R3.1 The angles between sides shall be 90 deg +/-1 deg\\n\\nR4.0 The mass of the system shall not exceed 2,700 kg\\n    R4.1 The center of mass of the system must be located at least 0.25\\n         meters from the edge of its volumetric envelope\\n    R4.2 The mass of the system must be verified using a Mettler-Toledo XYZ\\n         Bench Scale\\n+---------------------------------------------------------------------------+\\n  The system shall fit into a volume not exceeding 1.0 m^3 m^3 The system width shall be between 0.5m and 1.0m m The system shall be made entirely from Aluminum 6060 alloy alloy The system shall not contain any internal voids or cavities The shape of the system must be a cube cube The mass of the system shall not exceed 2,700 kg kg'}]\n"
     ]
    }
   ],
   "source": [
    "s = SMSSearcher('..\\project_example')\n",
    "print(s.search('Action2'))"
   ]
  },
  {
   "cell_type": "code",
   "execution_count": 6,
   "metadata": {},
   "outputs": [
    {
     "name": "stdout",
     "output_type": "stream",
     "text": [
      "Query: system weight\n",
      "[{'File': '..\\\\project_example\\\\rd_system1.py', 'Score': 0.5553681, 'Text': ' \\n+---------------------------------------------------------------------------+\\nR1.0 The system shall fit into a volume not exceeding 1.0 m^3\\n    R1.1 The system width shall be between 0.5m and 1.0m\\n    R1.2 The system height shall be between 0.5m and 1.0m\\n    R1.3 The system depth shall be between 0.5m and 1.0m\\n\\nR2.0 The system shall be made entirely from Aluminum 6060 alloy\\n    R2.1 The system shall not contain any internal voids or cavities\\n\\nR3.0 The shape of the system must be a cube\\n    R3.1 The angles between sides shall be 90 deg +/-1 deg\\n\\nR4.0 The mass of the system shall not exceed 2,700 kg\\n    R4.1 The center of mass of the system must be located at least 0.25\\n         meters from the edge of its volumetric envelope\\n    R4.2 The mass of the system must be verified using a Mettler-Toledo XYZ\\n         Bench Scale\\n+---------------------------------------------------------------------------+\\n  The system shall fit into a volume not exceeding 1.0 m^3 m^3 The system width shall be between 0.5m and 1.0m m The system shall be made entirely from Aluminum 6060 alloy alloy The system shall not contain any internal voids or cavities The shape of the system must be a cube cube The mass of the system shall not exceed 2,700 kg kg'}, {'File': '..\\\\project_example\\\\ad_system1.py', 'Score': 0.0, 'Text': ' \\n                            +---------------+\\n                            |               |\\n                            |     start     |\\n                            |               |\\n                            +---------------+\\n                                    | process\\n                        +---------(XO)----------+\\n                        | p1                    | p2\\n                +---------------+       +---------------+\\n                |               |       |               |\\n                |    Action1    |       |    Action2    |\\n                |               |       |               |\\n                +---------------+       +---------------+\\n                        |                       |\\n                        +---------(XO)----------+\\n                                    |\\n                            +---------------+\\n                            |               |\\n                            |      End      |\\n                            |               |\\n                            +---------------+\\n  process p1 p2 Action1 Action2'}]\n"
     ]
    }
   ],
   "source": [
    "print(s.search('System Weight'))"
   ]
  },
  {
   "cell_type": "code",
   "execution_count": null,
   "metadata": {},
   "outputs": [],
   "source": []
  }
 ],
 "metadata": {
  "kernelspec": {
   "display_name": "Python 3",
   "language": "python",
   "name": "python3"
  },
  "language_info": {
   "codemirror_mode": {
    "name": "ipython",
    "version": 3
   },
   "file_extension": ".py",
   "mimetype": "text/x-python",
   "name": "python",
   "nbconvert_exporter": "python",
   "pygments_lexer": "ipython3",
   "version": "3.7.4"
  }
 },
 "nbformat": 4,
 "nbformat_minor": 4
}
