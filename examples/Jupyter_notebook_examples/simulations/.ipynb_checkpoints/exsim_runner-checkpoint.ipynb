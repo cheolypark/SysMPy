{
 "cells": [
  {
   "cell_type": "code",
   "execution_count": 1,
   "metadata": {},
   "outputs": [],
   "source": [
    "import os\n",
    "import sys \n",
    "sys.path.insert(0, os.path.abspath('..\\..\\..\\..\\sysmpy'))  \n",
    "from sysmpy import *"
   ]
  },
  {
   "cell_type": "code",
   "execution_count": 2,
   "metadata": {},
   "outputs": [],
   "source": [
    "\n",
    "r1 = Requirement(\"Req 1_1\", des=\"The system shall fit into a size not exceeding 4\", range=[1, 2, 3, 4])\n",
    "p = Process(\"process\")\n",
    "act1 = p.Action(\"Action1\")\n",
    "act2 = p.Action(\"Action2\")\n",
    "act3 = p.Action(\"Action3\")\n",
    "# Define components\n",
    "c1 = Component(\"Com1\", des=\"This is a system\")\n",
    "c1_1 = c1.Component(\"Com1_1\", des=\"This is another component\")\n",
    "c1_2 = c1.Component(\"Com1_2\", des=\"This is another component\")\n",
    "\n",
    "# Make relationships between components and processes/actions\n",
    "c1.performs(p)\n",
    "c1_1.performs(act1)\n",
    "c1_2.performs(act2)\n",
    "\n",
    "# Make properties for components\n",
    "pro1 = c1.Property(\"Total size\")\n",
    "pro1_1 = c1_1.Property(\"Size\", range=[1, 2, 3])\n",
    "pro1_2 = c1_2.Property(\"Size\", range=[1, 2, 3])\n",
    "\n",
    "# Make relationships between components and requirements\n",
    "pro1.traced_from(r1)\n",
    "\n",
    "# Define processes and actions\n",
    "p_ex = Process(\"ExSim process 1\")\n",
    "act_ex = p_ex.Action('size calculator')\n",
    "\n",
    "act_ex.receives(pro1_1)\n",
    "act_ex.receives(pro1_2)\n",
    "act_ex.sends(pro1)\n",
    "\n",
    "\n",
    "# External simulations Script  \n",
    "def exsim_function1(io):\n",
    "    i1, i2, out = io.get(\"Com1.Com1_1.Size\"), io.get(\"Com1.Com1_2.Size\"), io.get(\"Com1.Total size\")\n",
    "    i1_value = i1.get_random_value()\n",
    "    i2_value = i2.get_random_value()\n",
    "    \n",
    "    print(f\"{i1.value}, {i2.value}\")\n",
    "\n",
    "    out.value = i1_value + i2_value\n",
    "\n",
    "    print(\"out: \" + str(out.value))\n",
    "    \n",
    "# Script end  \n",
    "act_ex.func(exsim_function1)"
   ]
  },
  {
   "cell_type": "code",
   "execution_count": 4,
   "metadata": {},
   "outputs": [
    {
     "name": "stdout",
     "output_type": "stream",
     "text": [
      "1, 3\n",
      "out: 4\n",
      "Req 1_1 Range is [1, 2, 3, 4]: {'Total size': 4} passed\n",
      "2, 1\n",
      "out: 3\n",
      "Req 1_1 Range is [1, 2, 3, 4]: {'Total size': 3} passed\n",
      "2, 1\n",
      "out: 3\n",
      "Req 1_1 Range is [1, 2, 3, 4]: {'Total size': 3} passed\n",
      "1, 1\n",
      "out: 2\n",
      "Req 1_1 Range is [1, 2, 3, 4]: {'Total size': 2} passed\n",
      "1, 1\n",
      "out: 2\n",
      "Req 1_1 Range is [1, 2, 3, 4]: {'Total size': 2} passed\n",
      "--------- Simulation Completed ---------\n"
     ]
    }
   ],
   "source": [
    "await p_ex.sim(use_web_distributor=True)"
   ]
  },
  {
   "cell_type": "code",
   "execution_count": null,
   "metadata": {},
   "outputs": [],
   "source": []
  }
 ],
 "metadata": {
  "kernelspec": {
   "display_name": "Python 3",
   "language": "python",
   "name": "python3"
  },
  "language_info": {
   "codemirror_mode": {
    "name": "ipython",
    "version": 3
   },
   "file_extension": ".py",
   "mimetype": "text/x-python",
   "name": "python",
   "nbconvert_exporter": "python",
   "pygments_lexer": "ipython3",
   "version": "3.7.4"
  }
 },
 "nbformat": 4,
 "nbformat_minor": 4
}
