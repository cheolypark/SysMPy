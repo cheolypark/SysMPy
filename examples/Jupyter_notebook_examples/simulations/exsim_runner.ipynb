{
 "cells": [
  {
   "cell_type": "code",
   "execution_count": 1,
   "metadata": {},
   "outputs": [],
   "source": [
    "import os\n",
    "import sys \n",
    "sys.path.insert(0, os.path.abspath('..\\..\\..\\..\\sysmpy'))  \n",
    "from sysmpy import *\n",
    "from system_model import p_ex"
   ]
  },
  {
   "cell_type": "code",
   "execution_count": 2,
   "metadata": {},
   "outputs": [
    {
     "name": "stdout",
     "output_type": "stream",
     "text": [
      "Req 1_1 Range is [1, 2, 3, 4]: {'Total size': 5} failed\n",
      "Req 1_1 Range is [1, 2, 3, 4]: {'Total size': 4} passed\n",
      "Req 1_1 Range is [1, 2, 3, 4]: {'Total size': 6} failed\n",
      "Req 1_1 Range is [1, 2, 3, 4]: {'Total size': 5} failed\n",
      "Req 1_1 Range is [1, 2, 3, 4]: {'Total size': 4} passed\n",
      "Req 1_1 Range is [1, 2, 3, 4]: {'Total size': 5} failed\n",
      "Req 1_1 Range is [1, 2, 3, 4]: {'Total size': 5} failed\n",
      "Req 1_1 Range is [1, 2, 3, 4]: {'Total size': 3} passed\n",
      "Req 1_1 Range is [1, 2, 3, 4]: {'Total size': 4} passed\n",
      "Req 1_1 Range is [1, 2, 3, 4]: {'Total size': 4} passed\n",
      "Req 1_1 Range is [1, 2, 3, 4]: {'Total size': 6} failed\n",
      "Req 1_1 Range is [1, 2, 3, 4]: {'Total size': 3} passed\n",
      "Req 1_1 Range is [1, 2, 3, 4]: {'Total size': 4} passed\n",
      "Req 1_1 Range is [1, 2, 3, 4]: {'Total size': 3} passed\n",
      "Req 1_1 Range is [1, 2, 3, 4]: {'Total size': 4} passed\n",
      "Req 1_1 Range is [1, 2, 3, 4]: {'Total size': 4} passed\n",
      "Req 1_1 Range is [1, 2, 3, 4]: {'Total size': 4} passed\n",
      "Req 1_1 Range is [1, 2, 3, 4]: {'Total size': 5} failed\n",
      "Req 1_1 Range is [1, 2, 3, 4]: {'Total size': 4} passed\n",
      "Req 1_1 Range is [1, 2, 3, 4]: {'Total size': 4} passed\n",
      "--------- Simulation Completed ---------\n"
     ]
    }
   ],
   "source": [
    "await p_ex.sim(until=20, use_web_distributor=True)"
   ]
  },
  {
   "cell_type": "code",
   "execution_count": null,
   "metadata": {},
   "outputs": [],
   "source": []
  }
 ],
 "metadata": {
  "kernelspec": {
   "display_name": "Python 3",
   "language": "python",
   "name": "python3"
  },
  "language_info": {
   "codemirror_mode": {
    "name": "ipython",
    "version": 3
   },
   "file_extension": ".py",
   "mimetype": "text/x-python",
   "name": "python",
   "nbconvert_exporter": "python",
   "pygments_lexer": "ipython3",
   "version": "3.7.4"
  }
 },
 "nbformat": 4,
 "nbformat_minor": 4
}
