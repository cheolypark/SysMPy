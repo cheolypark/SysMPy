{
 "cells": [
  {
   "cell_type": "code",
   "execution_count": 1,
   "metadata": {},
   "outputs": [],
   "source": [
    "import os\n",
    "import sys \n",
    "sys.path.insert(0, os.path.abspath('..\\..\\..\\..\\sysmpy'))  \n",
    "from sysmpy import *\n",
    "from sysmpy.gui.mxgraph.tornado_gui_server import * \n",
    "from system_model import p_ex"
   ]
  },
  {
   "cell_type": "code",
   "execution_count": 2,
   "metadata": {},
   "outputs": [
    {
     "name": "stdout",
     "output_type": "stream",
     "text": [
      "E:\\SW-SysMPy\\SysMPy\\examples\\Jupyter_notebook_examples\\simulations\\images\n",
      "[WinError 10048] Only one usage of each socket address (protocol/network address/port) is normally permitted\n",
      "We use the existing tornado server!\n"
     ]
    }
   ],
   "source": [
    "RunServer()"
   ]
  },
  {
   "cell_type": "code",
   "execution_count": 3,
   "metadata": {},
   "outputs": [
    {
     "data": {
      "text/html": [
       "\n",
       "           <iframe\n",
       "               width=\"750\"\n",
       "               height=\"500\"\n",
       "               src=\"http://127.0.0.1:9191/pt/?g={'Com1.Com1_1.Size':0, 'Com1.Com1_2.Size':0, 'Com1.Total size':0, 'Req 1_1':'Passed'}\"\n",
       "               frameborder=\"0\"\n",
       "               allowfullscreen\n",
       "           ></iframe>\n",
       "           "
      ],
      "text/plain": [
       "<IPython.core.display.HTML object>"
      ]
     },
     "metadata": {},
     "output_type": "display_data"
    }
   ],
   "source": [
    "show(p_ex, diagram='pt', width=750, height=500)"
   ]
  },
  {
   "cell_type": "code",
   "execution_count": null,
   "metadata": {},
   "outputs": [],
   "source": []
  }
 ],
 "metadata": {
  "kernelspec": {
   "display_name": "Python 3",
   "language": "python",
   "name": "python3"
  },
  "language_info": {
   "codemirror_mode": {
    "name": "ipython",
    "version": 3
   },
   "file_extension": ".py",
   "mimetype": "text/x-python",
   "name": "python",
   "nbconvert_exporter": "python",
   "pygments_lexer": "ipython3",
   "version": "3.7.4"
  }
 },
 "nbformat": 4,
 "nbformat_minor": 4
}
