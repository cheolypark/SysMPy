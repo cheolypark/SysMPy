{
 "cells": [
  {
   "cell_type": "code",
   "execution_count": 1,
   "metadata": {},
   "outputs": [],
   "source": [
    "import os\n",
    "import sys \n",
    "sys.path.insert(0, os.path.abspath('..\\..\\..\\..\\sysmpy'))  \n",
    "from sysmpy import *"
   ]
  },
  {
   "cell_type": "markdown",
   "metadata": {},
   "source": [
    "# 1. Define a simple system requirement "
   ]
  },
  {
   "cell_type": "code",
   "execution_count": 2,
   "metadata": {},
   "outputs": [],
   "source": [
    "r1 = Requirement(\"Req 1_1\", des=\"The system shall fit into a size not exceeding 4\", range=[1, 2, 3, 4])"
   ]
  },
  {
   "cell_type": "markdown",
   "metadata": {},
   "source": [
    "# 2. Define an action model\n",
    "\n",
    "                +---------------+\n",
    "                |               |\n",
    "                |     start     |\n",
    "                |               |\n",
    "                +---------------+\n",
    "                        | process 1\n",
    "                        |\n",
    "                +---------------+\n",
    "                |               |\n",
    "                |   Action1_1   |\n",
    "                |               |        \n",
    "                +---------------+        \n",
    "                        |\n",
    "                        |\n",
    "                +---------------+\n",
    "                |               |\n",
    "                |   Action1_2   |\n",
    "                |               |        \n",
    "                +---------------+        \n",
    "                        |\n",
    "                        | \n",
    "                +---------------+\n",
    "                |               |\n",
    "                |      End      |\n",
    "                |               |\n",
    "                +---------------+\n"
   ]
  },
  {
   "cell_type": "code",
   "execution_count": 3,
   "metadata": {},
   "outputs": [],
   "source": [
    "p = Process(\"process\")\n",
    "act1 = p.Action(\"Action1\")\n",
    "act2 = p.Action(\"Action2\")\n",
    "act3 = p.Action(\"Action3\")"
   ]
  },
  {
   "cell_type": "markdown",
   "metadata": {},
   "source": [
    "# 3. Define a physical model (i.e., Block Diagram)"
   ]
  },
  {
   "cell_type": "code",
   "execution_count": 4,
   "metadata": {},
   "outputs": [],
   "source": [
    "# Define components\n",
    "c1 = Component(\"Com1\", des=\"This is a system\")\n",
    "c1_1 = c1.Component(\"Com1_1\", des=\"This is another component\")\n",
    "c1_2 = c1.Component(\"Com1_2\", des=\"This is another component\")\n",
    "\n",
    "# Make relationships between components and processes/actions\n",
    "c1.performs(p)\n",
    "c1_1.performs(act1)\n",
    "c1_2.performs(act2)\n",
    "\n",
    "# Make properties for components\n",
    "pro1 = c1.Property(\"Total size\")\n",
    "pro1_1 = c1_1.Property(\"Size\", range=[1, 2, 3])\n",
    "pro1_2 = c1_2.Property(\"Size\", range=[1, 2, 3])"
   ]
  },
  {
   "cell_type": "markdown",
   "metadata": {},
   "source": [
    "# 4. Define a link between components and requirements\n",
    "\n",
    "                +---------------+\n",
    "                |               |\n",
    "                |     Com1      |\n",
    "                |               |\n",
    "                +---------------+\n",
    "                        O\n",
    "                        |  \n",
    "                        |                      \n",
    "                +---------------+        \n",
    "                |               |       \n",
    "                |    Req 1_1    |       \n",
    "                |               |        \n",
    "                +---------------+   \n",
    "                "
   ]
  },
  {
   "cell_type": "code",
   "execution_count": 5,
   "metadata": {},
   "outputs": [],
   "source": [
    "# Make relationships between components and requirements\n",
    "pro1.traced_from(r1)"
   ]
  },
  {
   "cell_type": "markdown",
   "metadata": {},
   "source": [
    "# 5. Perform ExSim (i.e., model center)\n",
    "                    +---------------+   \n",
    "                    |               |\n",
    "                    |    Com 1_1    |\n",
    "                    |               |\n",
    "                    +---------------+\n",
    "                    |     Size      |\n",
    "                    +---------------+          \n",
    "                                   \\\n",
    "                                    \\\n",
    "        +---------------+            +--------------------+            +---------------+\n",
    "        |               |            |       Action       |            |               |\n",
    "        |     Start     |----------->|        for         |----------->|      End      |\n",
    "        |               |            |  size calculation  |            |               |\n",
    "        +---------------+            +--------------------+            +---------------+\n",
    "                                    /                      \\   \n",
    "                                   /                        \\\n",
    "                    +---------------+                       +---------------+\n",
    "                    |               |                       |               |\n",
    "                    |    Com 1_2    |                       |     Com 1     |\n",
    "                    |               |                       |               |\n",
    "                    +---------------+                       +---------------+\n",
    "                    |     Size      |                       |   Total size  |\n",
    "                    +---------------+                       +---------------+"
   ]
  },
  {
   "cell_type": "code",
   "execution_count": 6,
   "metadata": {},
   "outputs": [
    {
     "name": "stdout",
     "output_type": "stream",
     "text": [
      "The simulation is connected to the web distributor.\n",
      "At Time 0, \"size calculator\" waiting.\n",
      "At Time 0, \"size calculator\" activated.\n",
      "3, 2\n",
      "out: 5\n",
      "At Time 1, \"size calculator\" completed.\n",
      "At Time 1, \"size calculator\" waiting.\n",
      "At Time 1, \"ExSim process 1_END\" simulation 0.\n",
      "At Time 1, \"size calculator\" activated.\n",
      "1, 1\n",
      "out: 2\n",
      "At Time 2, \"size calculator\" completed.\n",
      "At Time 2, \"size calculator\" waiting.\n",
      "At Time 2, \"ExSim process 1_END\" simulation 1.\n",
      "At Time 2, \"size calculator\" activated.\n",
      "1, 3\n",
      "out: 4\n",
      "At Time 3, \"size calculator\" completed.\n",
      "At Time 3, \"size calculator\" waiting.\n",
      "At Time 3, \"ExSim process 1_END\" simulation 2.\n",
      "At Time 3, \"size calculator\" activated.\n",
      "1, 1\n",
      "out: 2\n",
      "At Time 4, \"size calculator\" completed.\n",
      "At Time 4, \"size calculator\" waiting.\n",
      "At Time 4, \"ExSim process 1_END\" simulation 3.\n",
      "At Time 4, \"size calculator\" activated.\n",
      "2, 1\n",
      "out: 3\n",
      "At Time 5, \"size calculator\" completed.\n",
      "At Time 5, \"size calculator\" waiting.\n",
      "At Time 5, \"ExSim process 1_END\" simulation 4.\n",
      "--------- Simulation Completed ---------\n"
     ]
    }
   ],
   "source": [
    "# Define processes and actions\n",
    "p_ex = Process(\"ExSim process 1\")\n",
    "act_ex = p_ex.Action('size calculator')\n",
    "\n",
    "act_ex.receives(pro1_1)\n",
    "act_ex.receives(pro1_2)\n",
    "act_ex.sends(pro1)\n",
    "\n",
    "\n",
    "# External simulations Script  \n",
    "def exsim_function1(io):\n",
    "    i1, i2, out = io.get(\"Com1_1.Size\"), io.get(\"Com1_2.Size\"), io.get(\"Com1.Total size\")\n",
    "    i1_value = i1.get_random_value()\n",
    "    i2_value = i2.get_random_value()\n",
    "    \n",
    "    print(f\"{i1.value}, {i2.value}\")\n",
    "\n",
    "    out.value = i1_value + i2_value\n",
    "\n",
    "    print(\"out: \" + str(out.value))\n",
    "    \n",
    "# Script end  \n",
    "act_ex.func(exsim_function1)\n",
    "\n",
    "await p_ex.sim(print_out=True)"
   ]
  },
  {
   "cell_type": "markdown",
   "metadata": {},
   "source": [
    "# 6. Check requirements with the simulation results"
   ]
  },
  {
   "cell_type": "code",
   "execution_count": 7,
   "metadata": {},
   "outputs": [
    {
     "name": "stdout",
     "output_type": "stream",
     "text": [
      "Req 1_1 Range is [1, 2, 3, 4]: {'Total size': 3} passed\n"
     ]
    }
   ],
   "source": [
    "p_ex.evaluate_requirements()"
   ]
  },
  {
   "cell_type": "code",
   "execution_count": null,
   "metadata": {},
   "outputs": [],
   "source": []
  }
 ],
 "metadata": {
  "kernelspec": {
   "display_name": "Python 3",
   "language": "python",
   "name": "python3"
  },
  "language_info": {
   "codemirror_mode": {
    "name": "ipython",
    "version": 3
   },
   "file_extension": ".py",
   "mimetype": "text/x-python",
   "name": "python",
   "nbconvert_exporter": "python",
   "pygments_lexer": "ipython3",
   "version": "3.7.4"
  },
  "latex_envs": {
   "LaTeX_envs_menu_present": true,
   "autoclose": false,
   "autocomplete": true,
   "bibliofile": "biblio.bib",
   "cite_by": "apalike",
   "current_citInitial": 1,
   "eqLabelWithNumbers": true,
   "eqNumInitial": 1,
   "hotkeys": {
    "equation": "Ctrl-E",
    "itemize": "Ctrl-I"
   },
   "labels_anchors": false,
   "latex_user_defs": false,
   "report_style_numbering": false,
   "user_envs_cfg": false
  }
 },
 "nbformat": 4,
 "nbformat_minor": 4
}
