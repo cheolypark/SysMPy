{
 "cells": [
  {
   "cell_type": "markdown",
   "metadata": {},
   "source": [
    "# 1. Set Enviroments"
   ]
  },
  {
   "cell_type": "code",
   "execution_count": 1,
   "metadata": {},
   "outputs": [],
   "source": [
    "import os\n",
    "import sys \n",
    "sys.path.insert(0, os.path.abspath('..\\..\\..\\..\\sysmpy'))  \n",
    "from sysmpy import *\n",
    "from sysmpy.gui.mxgraph.tornado_gui_server import * "
   ]
  },
  {
   "cell_type": "code",
   "execution_count": 2,
   "metadata": {},
   "outputs": [
    {
     "name": "stdout",
     "output_type": "stream",
     "text": [
      "[WinError 10048] Only one usage of each socket address (protocol/network address/port) is normally permitted\n",
      "We use the existing tornado server!\n"
     ]
    }
   ],
   "source": [
    "RunServer()"
   ]
  },
  {
   "cell_type": "markdown",
   "metadata": {},
   "source": [
    "# 2. Create an Action Model"
   ]
  },
  {
   "cell_type": "code",
   "execution_count": 3,
   "metadata": {},
   "outputs": [],
   "source": [
    "p = Process(\"process\")\n",
    "\n",
    "p_con1 = p.And()\n",
    "\n",
    "for i in range(3):\n",
    "    p2 = p_con1.Process(f\"P{i}\")\n",
    "\n",
    "    p_con2 = p2.Condition(f\"condition{i}_2\")\n",
    "    p21 = p_con2.Process(f\"P{i}_1\")\n",
    "    p22 = p_con2.Process(f\"P{i}_2\")  \n",
    "    \n",
    "    for j in range(2):\n",
    "        p21.Action(f\"Action{i}_{j}\") \n",
    " "
   ]
  },
  {
   "cell_type": "markdown",
   "metadata": {},
   "source": [
    "# 3. Show the Action Model"
   ]
  },
  {
   "cell_type": "code",
   "execution_count": 4,
   "metadata": {},
   "outputs": [
    {
     "data": {
      "text/html": [
       "\n",
       "           <iframe\n",
       "               width=\"960\"\n",
       "               height=\"750\"\n",
       "               src=\"http://127.0.0.1:9191/ad/?g=var A_process = graph.insertVertex(parent, 'A process', '', 505.0, 42.0, 30, 30, 'Process') /n var A_1_and = graph.insertVertex(parent, 'A.1 and', 'A', 505.0, 84.0, 30, 30, 'And') /n var A_process_A_1_and = graph.insertEdge(parent, null, '', A_process, A_1_and, 'Arrow_Edge_Process' ) /n var A_1_1_P0 = graph.insertVertex(parent, 'A.1.1 P0', '', 200.0, 141.0, 0, 0, 'Process') /n var A_1_and_A_1_1_P0 = graph.insertEdge(parent, null, '', A_1_and, A_1_1_P0 ) /n var A_1_2_P1 = graph.insertVertex(parent, 'A.1.2 P1', '', 520.0, 141.0, 0, 0, 'Process') /n var A_1_and_A_1_2_P1 = graph.insertEdge(parent, null, '', A_1_and, A_1_2_P1 ) /n var A_1_3_P2 = graph.insertVertex(parent, 'A.1.3 P2', '', 840.0, 141.0, 0, 0, 'Process') /n var A_1_and_A_1_3_P2 = graph.insertEdge(parent, null, '', A_1_and, A_1_3_P2 ) /n var A_1_1_1_condition0_2 = graph.insertVertex(parent, 'A.1.1.1 condition0_2', 'condition0_2', 160.0, 168.0, 80, 30, 'Condition') /n var A_1_1_P0_A_1_1_1_condition0_2 = graph.insertEdge(parent, null, '', A_1_1_P0, A_1_1_1_condition0_2 ) /n var A_1_2_1_condition1_2 = graph.insertVertex(parent, 'A.1.2.1 condition1_2', 'condition1_2', 480.0, 168.0, 80, 30, 'Condition') /n var A_1_2_P1_A_1_2_1_condition1_2 = graph.insertEdge(parent, null, '', A_1_2_P1, A_1_2_1_condition1_2 ) /n var A_1_3_1_condition2_2 = graph.insertVertex(parent, 'A.1.3.1 condition2_2', 'condition2_2', 800.0, 168.0, 80, 30, 'Condition') /n var A_1_3_P2_A_1_3_1_condition2_2 = graph.insertEdge(parent, null, '', A_1_3_P2, A_1_3_1_condition2_2 ) /n var A_1_1_1_1_P0_1 = graph.insertVertex(parent, 'A.1.1.1.1 P0_1', '', 120.0, 225.0, 0, 0, 'Process') /n var A_1_1_1_condition0_2_A_1_1_1_1_P0_1 = graph.insertEdge(parent, null, '', A_1_1_1_condition0_2, A_1_1_1_1_P0_1 ) /n var A_1_1_1_2_P0_2 = graph.insertVertex(parent, 'A.1.1.1.2 P0_2', '', 280.0, 225.0, 0, 0, 'Process') /n var A_1_1_1_condition0_2_A_1_1_1_2_P0_2 = graph.insertEdge(parent, null, '', A_1_1_1_condition0_2, A_1_1_1_2_P0_2 ) /n var A_1_1_1_1_1_Action0_0 = graph.insertVertex(parent, 'A.1.1.1.1.1 Action0_0', 'Action0_0', 80.0, 252.0, 80, 30, 'Action') /n var A_1_1_1_1_P0_1_A_1_1_1_1_1_Action0_0 = graph.insertEdge(parent, null, '', A_1_1_1_1_P0_1, A_1_1_1_1_1_Action0_0 ) /n var A_1_1_1_2_P0_2_END = graph.insertVertex(parent, 'A.1.1.1.2 P0_2_END', '', 280.0, 351.0, 0, 0, 'Process_END') /n var A_1_1_1_2_P0_2_A_1_1_1_2_P0_2_END = graph.insertEdge(parent, null, '', A_1_1_1_2_P0_2, A_1_1_1_2_P0_2_END ) /n var A_1_1_1_1_2_Action0_1 = graph.insertVertex(parent, 'A.1.1.1.1.2 Action0_1', 'Action0_1', 80.0, 294.0, 80, 30, 'Action') /n var A_1_1_1_1_1_Action0_0_A_1_1_1_1_2_Action0_1 = graph.insertEdge(parent, null, '', A_1_1_1_1_1_Action0_0, A_1_1_1_1_2_Action0_1 ) /n var A_1_1_1_1_P0_1_END = graph.insertVertex(parent, 'A.1.1.1.1 P0_1_END', '', 120.0, 351.0, 0, 0, 'Process_END') /n var A_1_1_1_1_2_Action0_1_A_1_1_1_1_P0_1_END = graph.insertEdge(parent, null, '', A_1_1_1_1_2_Action0_1, A_1_1_1_1_P0_1_END ) /n var A_1_1_1_condition0_2_END = graph.insertVertex(parent, 'A.1.1.1 condition0_2_END', 'OR', 185.0, 378.0, 30, 30, 'Condition_END') /n var A_1_1_1_1_P0_1_END_A_1_1_1_condition0_2_END = graph.insertEdge(parent, null, '', A_1_1_1_1_P0_1_END, A_1_1_1_condition0_2_END ) /n var A_1_1_1_2_P0_2_END_A_1_1_1_condition0_2_END = graph.insertEdge(parent, null, '', A_1_1_1_2_P0_2_END, A_1_1_1_condition0_2_END ) /n var A_1_1_P0_END = graph.insertVertex(parent, 'A.1.1 P0_END', '', 200.0, 435.0, 0, 0, 'Process_END') /n var A_1_1_1_condition0_2_END_A_1_1_P0_END = graph.insertEdge(parent, null, '', A_1_1_1_condition0_2_END, A_1_1_P0_END ) /n var A_1_1_1_condition0_2_END_A_1_1_P0_END = graph.insertEdge(parent, null, '', A_1_1_1_condition0_2_END, A_1_1_P0_END ) /n var A_1_and_END = graph.insertVertex(parent, 'A.1 and_END', 'A', 505.0, 462.0, 30, 30, 'And_END') /n var A_1_1_P0_END_A_1_and_END = graph.insertEdge(parent, null, '', A_1_1_P0_END, A_1_and_END ) /n var A_1_2_1_1_P1_1 = graph.insertVertex(parent, 'A.1.2.1.1 P1_1', '', 440.0, 225.0, 0, 0, 'Process') /n var A_1_2_1_condition1_2_A_1_2_1_1_P1_1 = graph.insertEdge(parent, null, '', A_1_2_1_condition1_2, A_1_2_1_1_P1_1 ) /n var A_1_2_1_2_P1_2 = graph.insertVertex(parent, 'A.1.2.1.2 P1_2', '', 600.0, 225.0, 0, 0, 'Process') /n var A_1_2_1_condition1_2_A_1_2_1_2_P1_2 = graph.insertEdge(parent, null, '', A_1_2_1_condition1_2, A_1_2_1_2_P1_2 ) /n var A_1_2_1_1_1_Action1_0 = graph.insertVertex(parent, 'A.1.2.1.1.1 Action1_0', 'Action1_0', 400.0, 252.0, 80, 30, 'Action') /n var A_1_2_1_1_P1_1_A_1_2_1_1_1_Action1_0 = graph.insertEdge(parent, null, '', A_1_2_1_1_P1_1, A_1_2_1_1_1_Action1_0 ) /n var A_1_2_1_2_P1_2_END = graph.insertVertex(parent, 'A.1.2.1.2 P1_2_END', '', 600.0, 351.0, 0, 0, 'Process_END') /n var A_1_2_1_2_P1_2_A_1_2_1_2_P1_2_END = graph.insertEdge(parent, null, '', A_1_2_1_2_P1_2, A_1_2_1_2_P1_2_END ) /n var A_1_2_1_1_2_Action1_1 = graph.insertVertex(parent, 'A.1.2.1.1.2 Action1_1', 'Action1_1', 400.0, 294.0, 80, 30, 'Action') /n var A_1_2_1_1_1_Action1_0_A_1_2_1_1_2_Action1_1 = graph.insertEdge(parent, null, '', A_1_2_1_1_1_Action1_0, A_1_2_1_1_2_Action1_1 ) /n var A_1_2_1_1_P1_1_END = graph.insertVertex(parent, 'A.1.2.1.1 P1_1_END', '', 440.0, 351.0, 0, 0, 'Process_END') /n var A_1_2_1_1_2_Action1_1_A_1_2_1_1_P1_1_END = graph.insertEdge(parent, null, '', A_1_2_1_1_2_Action1_1, A_1_2_1_1_P1_1_END ) /n var A_1_2_1_condition1_2_END = graph.insertVertex(parent, 'A.1.2.1 condition1_2_END', 'OR', 505.0, 378.0, 30, 30, 'Condition_END') /n var A_1_2_1_1_P1_1_END_A_1_2_1_condition1_2_END = graph.insertEdge(parent, null, '', A_1_2_1_1_P1_1_END, A_1_2_1_condition1_2_END ) /n var A_1_2_1_2_P1_2_END_A_1_2_1_condition1_2_END = graph.insertEdge(parent, null, '', A_1_2_1_2_P1_2_END, A_1_2_1_condition1_2_END ) /n var A_1_2_P1_END = graph.insertVertex(parent, 'A.1.2 P1_END', '', 520.0, 435.0, 0, 0, 'Process_END') /n var A_1_2_1_condition1_2_END_A_1_2_P1_END = graph.insertEdge(parent, null, '', A_1_2_1_condition1_2_END, A_1_2_P1_END ) /n var A_1_2_1_condition1_2_END_A_1_2_P1_END = graph.insertEdge(parent, null, '', A_1_2_1_condition1_2_END, A_1_2_P1_END ) /n var A_1_2_P1_END_A_1_and_END = graph.insertEdge(parent, null, '', A_1_2_P1_END, A_1_and_END ) /n var A_1_3_1_1_P2_1 = graph.insertVertex(parent, 'A.1.3.1.1 P2_1', '', 760.0, 225.0, 0, 0, 'Process') /n var A_1_3_1_condition2_2_A_1_3_1_1_P2_1 = graph.insertEdge(parent, null, '', A_1_3_1_condition2_2, A_1_3_1_1_P2_1 ) /n var A_1_3_1_2_P2_2 = graph.insertVertex(parent, 'A.1.3.1.2 P2_2', '', 920.0, 225.0, 0, 0, 'Process') /n var A_1_3_1_condition2_2_A_1_3_1_2_P2_2 = graph.insertEdge(parent, null, '', A_1_3_1_condition2_2, A_1_3_1_2_P2_2 ) /n var A_1_3_1_1_1_Action2_0 = graph.insertVertex(parent, 'A.1.3.1.1.1 Action2_0', 'Action2_0', 720.0, 252.0, 80, 30, 'Action') /n var A_1_3_1_1_P2_1_A_1_3_1_1_1_Action2_0 = graph.insertEdge(parent, null, '', A_1_3_1_1_P2_1, A_1_3_1_1_1_Action2_0 ) /n var A_1_3_1_2_P2_2_END = graph.insertVertex(parent, 'A.1.3.1.2 P2_2_END', '', 920.0, 351.0, 0, 0, 'Process_END') /n var A_1_3_1_2_P2_2_A_1_3_1_2_P2_2_END = graph.insertEdge(parent, null, '', A_1_3_1_2_P2_2, A_1_3_1_2_P2_2_END ) /n var A_1_3_1_1_2_Action2_1 = graph.insertVertex(parent, 'A.1.3.1.1.2 Action2_1', 'Action2_1', 720.0, 294.0, 80, 30, 'Action') /n var A_1_3_1_1_1_Action2_0_A_1_3_1_1_2_Action2_1 = graph.insertEdge(parent, null, '', A_1_3_1_1_1_Action2_0, A_1_3_1_1_2_Action2_1 ) /n var A_1_3_1_1_P2_1_END = graph.insertVertex(parent, 'A.1.3.1.1 P2_1_END', '', 760.0, 351.0, 0, 0, 'Process_END') /n var A_1_3_1_1_2_Action2_1_A_1_3_1_1_P2_1_END = graph.insertEdge(parent, null, '', A_1_3_1_1_2_Action2_1, A_1_3_1_1_P2_1_END ) /n var A_1_3_1_condition2_2_END = graph.insertVertex(parent, 'A.1.3.1 condition2_2_END', 'OR', 825.0, 378.0, 30, 30, 'Condition_END') /n var A_1_3_1_1_P2_1_END_A_1_3_1_condition2_2_END = graph.insertEdge(parent, null, '', A_1_3_1_1_P2_1_END, A_1_3_1_condition2_2_END ) /n var A_1_3_1_2_P2_2_END_A_1_3_1_condition2_2_END = graph.insertEdge(parent, null, '', A_1_3_1_2_P2_2_END, A_1_3_1_condition2_2_END ) /n var A_1_3_P2_END = graph.insertVertex(parent, 'A.1.3 P2_END', '', 840.0, 435.0, 0, 0, 'Process_END') /n var A_1_3_1_condition2_2_END_A_1_3_P2_END = graph.insertEdge(parent, null, '', A_1_3_1_condition2_2_END, A_1_3_P2_END ) /n var A_1_3_1_condition2_2_END_A_1_3_P2_END = graph.insertEdge(parent, null, '', A_1_3_1_condition2_2_END, A_1_3_P2_END ) /n var A_1_3_P2_END_A_1_and_END = graph.insertEdge(parent, null, '', A_1_3_P2_END, A_1_and_END ) /n var A_process_END = graph.insertVertex(parent, 'A process_END', '', 505.0, 504.0, 30, 30, 'Process_END') /n var A_1_and_END_A_process_END = graph.insertEdge(parent, null, '', A_1_and_END, A_process_END, 'Arrow_Edge_Process' ) /n var A_1_and_END_A_process_END = graph.insertEdge(parent, null, '', A_1_and_END, A_process_END, 'Arrow_Edge_Process' ) /n var A_1_and_END_A_process_END = graph.insertEdge(parent, null, '', A_1_and_END, A_process_END, 'Arrow_Edge_Process' ) /n \"\n",
       "               frameborder=\"0\"\n",
       "               allowfullscreen\n",
       "           ></iframe>\n",
       "           "
      ],
      "text/plain": [
       "<IPython.core.display.HTML object>"
      ]
     },
     "metadata": {},
     "output_type": "display_data"
    }
   ],
   "source": [
    "show(p)"
   ]
  },
  {
   "cell_type": "markdown",
   "metadata": {},
   "source": [
    "# 4. Run the Simulation"
   ]
  },
  {
   "cell_type": "code",
   "execution_count": 5,
   "metadata": {},
   "outputs": [
    {
     "name": "stdout",
     "output_type": "stream",
     "text": [
      "At Time 0, \"Action0_0\" waiting.\n",
      "At Time 0, \"Action0_1\" waiting.\n",
      "At Time 0, \"Action1_0\" waiting.\n",
      "At Time 0, \"Action1_1\" waiting.\n",
      "At Time 0, \"Action2_0\" waiting.\n",
      "At Time 0, \"Action2_1\" waiting.\n",
      "At Time 0, \"Action0_0\" activated.\n",
      "At Time 1, \"Action0_0\" completed.\n",
      "At Time 1, \"Action0_0\" waiting.\n",
      "At Time 1, \"Action0_1\" activated.\n",
      "At Time 2, \"Action0_1\" completed.\n",
      "At Time 2, \"Action0_1\" waiting.\n",
      "At Time 2, \"process_END\" simulation 0.\n",
      "At Time 2, \"Action1_0\" activated.\n",
      "At Time 3, \"Action1_0\" completed.\n",
      "At Time 3, \"Action1_0\" waiting.\n",
      "At Time 3, \"Action1_1\" activated.\n",
      "At Time 4, \"Action1_1\" completed.\n",
      "At Time 4, \"Action1_1\" waiting.\n",
      "At Time 4, \"process_END\" simulation 1.\n",
      "At Time 4, \"Action0_0\" activated.\n",
      "At Time 5, \"Action0_0\" completed.\n",
      "At Time 5, \"Action0_0\" waiting.\n",
      "At Time 5, \"Action0_1\" activated.\n",
      "At Time 6, \"Action0_1\" completed.\n",
      "--------- Simulation Completed ---------\n"
     ]
    }
   ],
   "source": [
    "await p.sim(until=5, print_out=True)"
   ]
  },
  {
   "cell_type": "markdown",
   "metadata": {},
   "source": [
    "# 5. Show Action Time Results "
   ]
  },
  {
   "cell_type": "code",
   "execution_count": 7,
   "metadata": {},
   "outputs": [
    {
     "name": "stdout",
     "output_type": "stream",
     "text": [
      "{'Action1_0': 1, 'Action0_0': 2, 'Action2_1': 0, 'Action2_0': 0, 'Action1_1': 1, 'Action0_1': 2}\n"
     ]
    }
   ],
   "source": [
    "print(p.get_action_times())"
   ]
  },
  {
   "cell_type": "markdown",
   "metadata": {},
   "source": [
    "# 6.Get all Simulation Events"
   ]
  },
  {
   "cell_type": "code",
   "execution_count": 7,
   "metadata": {},
   "outputs": [
    {
     "name": "stdout",
     "output_type": "stream",
     "text": [
      "{'class': 'Action', 'name': 'Action0_0', 'time': 0, 'event': 'waiting'}\n",
      "{'class': 'Action', 'name': 'Action0_1', 'time': 0, 'event': 'waiting'}\n",
      "{'class': 'Action', 'name': 'Action1_0', 'time': 0, 'event': 'waiting'}\n",
      "{'class': 'Action', 'name': 'Action1_1', 'time': 0, 'event': 'waiting'}\n",
      "{'class': 'Action', 'name': 'Action2_0', 'time': 0, 'event': 'waiting'}\n",
      "{'class': 'Action', 'name': 'Action2_1', 'time': 0, 'event': 'waiting'}\n",
      "{'class': 'Action', 'name': 'Action0_0', 'time': 0, 'event': 'activated'}\n",
      "{'class': 'Action', 'name': 'Action0_0', 'time': 1, 'event': 'completed'}\n",
      "{'class': 'Action', 'name': 'Action0_0', 'time': 1, 'event': 'waiting'}\n",
      "{'class': 'Action', 'name': 'Action0_1', 'time': 1, 'event': 'activated'}\n",
      "{'class': 'Action', 'name': 'Action0_1', 'time': 2, 'event': 'completed'}\n",
      "{'class': 'Action', 'name': 'Action0_1', 'time': 2, 'event': 'waiting'}\n",
      "{'class': 'Action', 'name': 'Action1_0', 'time': 0, 'event': 'activated'}\n",
      "{'class': 'Action', 'name': 'Action1_0', 'time': 1, 'event': 'completed'}\n",
      "{'class': 'Action', 'name': 'Action1_0', 'time': 1, 'event': 'waiting'}\n",
      "{'class': 'Action', 'name': 'Action1_1', 'time': 1, 'event': 'activated'}\n",
      "{'class': 'Action', 'name': 'Action1_1', 'time': 2, 'event': 'completed'}\n",
      "{'class': 'Action', 'name': 'Action1_1', 'time': 2, 'event': 'waiting'}\n",
      "{'class': 'Process_END', 'name': 'process_END', 'time': 2, 'event': 'simulation 0'}\n",
      "{'class': 'Action', 'name': 'Action0_0', 'time': 2, 'event': 'activated'}\n",
      "{'class': 'Action', 'name': 'Action0_0', 'time': 3, 'event': 'completed'}\n",
      "{'class': 'Action', 'name': 'Action0_0', 'time': 3, 'event': 'waiting'}\n",
      "{'class': 'Action', 'name': 'Action0_1', 'time': 3, 'event': 'activated'}\n",
      "{'class': 'Action', 'name': 'Action0_1', 'time': 4, 'event': 'completed'}\n",
      "{'class': 'Action', 'name': 'Action0_1', 'time': 4, 'event': 'waiting'}\n",
      "{'class': 'Action', 'name': 'Action2_0', 'time': 2, 'event': 'activated'}\n",
      "{'class': 'Action', 'name': 'Action2_0', 'time': 3, 'event': 'completed'}\n",
      "{'class': 'Action', 'name': 'Action2_0', 'time': 3, 'event': 'waiting'}\n",
      "{'class': 'Action', 'name': 'Action2_1', 'time': 3, 'event': 'activated'}\n",
      "{'class': 'Action', 'name': 'Action2_1', 'time': 4, 'event': 'completed'}\n",
      "{'class': 'Action', 'name': 'Action2_1', 'time': 4, 'event': 'waiting'}\n",
      "{'class': 'Process_END', 'name': 'process_END', 'time': 4, 'event': 'simulation 1'}\n",
      "{'class': 'Action', 'name': 'Action0_0', 'time': 4, 'event': 'activated'}\n",
      "{'class': 'Action', 'name': 'Action0_0', 'time': 5, 'event': 'completed'}\n",
      "{'class': 'Action', 'name': 'Action0_0', 'time': 5, 'event': 'waiting'}\n",
      "{'class': 'Action', 'name': 'Action0_1', 'time': 5, 'event': 'activated'}\n",
      "{'class': 'Action', 'name': 'Action0_1', 'time': 6, 'event': 'completed'}\n"
     ]
    }
   ],
   "source": [
    "while True:\n",
    "    q = p.get_event()\n",
    "    if q is None:\n",
    "        break\n",
    "    else:\n",
    "        print(q)"
   ]
  },
  {
   "cell_type": "code",
   "execution_count": null,
   "metadata": {},
   "outputs": [],
   "source": []
  }
 ],
 "metadata": {
  "kernelspec": {
   "display_name": "Python 3",
   "language": "python",
   "name": "python3"
  },
  "language_info": {
   "codemirror_mode": {
    "name": "ipython",
    "version": 3
   },
   "file_extension": ".py",
   "mimetype": "text/x-python",
   "name": "python",
   "nbconvert_exporter": "python",
   "pygments_lexer": "ipython3",
   "version": "3.7.4"
  }
 },
 "nbformat": 4,
 "nbformat_minor": 4
}
