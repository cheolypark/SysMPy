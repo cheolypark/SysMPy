{
 "cells": [
  {
   "cell_type": "code",
   "execution_count": 1,
   "metadata": {},
   "outputs": [],
   "source": [
    "import os\n",
    "import sys \n",
    "sys.path.insert(0, os.path.abspath('..\\..\\..\\..\\sysmpy'))  \n",
    "from sysmpy import *\n"
   ]
  },
  {
   "cell_type": "markdown",
   "metadata": {},
   "source": [
    "# Requirement Generation"
   ]
  },
  {
   "cell_type": "code",
   "execution_count": 2,
   "metadata": {},
   "outputs": [
    {
     "name": "stdout",
     "output_type": "stream",
     "text": [
      "Input Text: SAI should automatically optimize the spatial box arrangement.\n",
      "Structed Text:  {'WHO': SAI, 'VERB': optimize, 'WHAT': the spatial box arrangement}\n",
      "Generated Requirement:  SAI {'des': 'SAI shall optimize the spatial box arrangement'}\n",
      "\n"
     ]
    }
   ],
   "source": [
    "text = \"SAI should automatically optimize the spatial box arrangement.\"\n",
    "\n",
    "# 1. Perform SystemModelExtractor\n",
    "sp = SystemModelExtractor(text)\n",
    "model_info = sp.run()\n",
    "\n",
    "\n",
    "# 2. Perform ModelGenerator for requirement\n",
    "mg = ModelGenerator()\n",
    "req = mg.to_requirement(model_info)\n",
    "print('Input Text: ' + text)\n",
    "print('Structed Text: ', model_info)\n",
    "print('Generated Requirement: ', req)"
   ]
  },
  {
   "cell_type": "code",
   "execution_count": null,
   "metadata": {},
   "outputs": [],
   "source": []
  }
 ],
 "metadata": {
  "kernelspec": {
   "display_name": "Python 3",
   "language": "python",
   "name": "python3"
  },
  "language_info": {
   "codemirror_mode": {
    "name": "ipython",
    "version": 3
   },
   "file_extension": ".py",
   "mimetype": "text/x-python",
   "name": "python",
   "nbconvert_exporter": "python",
   "pygments_lexer": "ipython3",
   "version": "3.7.4"
  }
 },
 "nbformat": 4,
 "nbformat_minor": 4
}
