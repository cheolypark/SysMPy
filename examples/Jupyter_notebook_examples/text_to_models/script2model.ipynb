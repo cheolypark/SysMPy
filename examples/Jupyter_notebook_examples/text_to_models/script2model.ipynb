{
 "cells": [
  {
   "cell_type": "code",
   "execution_count": 1,
   "metadata": {},
   "outputs": [],
   "source": [
    "import os\n",
    "import sys \n",
    "sys.path.insert(0, os.path.abspath('..\\..\\..\\..\\sysmpy'))  \n",
    "from sysmpy import *\n"
   ]
  },
  {
   "cell_type": "markdown",
   "metadata": {},
   "source": [
    "# Scripts to Models"
   ]
  },
  {
   "cell_type": "code",
   "execution_count": 2,
   "metadata": {},
   "outputs": [
    {
     "name": "stdout",
     "output_type": "stream",
     "text": [
      "{'WHO': The component, 'VERB': move, 'WHAT': the item, 'TOWHAT': the location A.}\n",
      "{'WHO': The component, 'VERB': send, 'WHAT': a big mail}\n",
      "{'WHO': The component, 'VERB': decompose, 'WHAT': the function, 'TOWHAT': the sub-functions}\n",
      "{'WHO': The component, 'VERB': rebuild, 'WHAT': the animal cell}\n",
      "{'WHO': The component, 'VERB': identify, 'WHAT': a correct target}\n",
      "{'WHO': The component, 'VERB': classify, 'WHAT': tree images}\n",
      "{'WHO': The system, 'VERB': optimize, 'WHAT': the spatial box arrangement}\n",
      "{'WHO': The system, 'VERB': deliver, 'WHAT': three small products, 'TOWHAT': each green level customer}\n",
      "{'WHO': The system, 'VERB': deliver, 'WHAT': two larger products, 'TOWHAT': each gold level customer}\n",
      "{'WHO': The system, 'VERB': complete, 'WHAT': all product deliveries}\n"
     ]
    }
   ],
   "source": [
    "texts = [\"The component shall move the item to the location A.\",\n",
    "         \"The component shall send a big mail.\",\n",
    "         \"The component shall decompose the function to the sub-functions.\",\n",
    "         \"The component shall rebuild the animal cell.\",\n",
    "         \"The component shall identify a correct target.\",\n",
    "         \"The component shall classify tree images.\",         \n",
    "         \"The system should automatically optimize the spatial box arrangement.\",\n",
    "         \"The system shall deliver three small products to each green level customer.\",\n",
    "         \"The system shall deliver two larger products to each gold level customer.\",\n",
    "         \"The system shall complete all product deliveries between 9PM Dec 24 and 6 AM Dec 25.\"]\n",
    "\n",
    "for t in texts:\n",
    "    sp = SystemModelExtractor(t)\n",
    "    model_info = sp.run()\n",
    "    print(model_info)"
   ]
  },
  {
   "cell_type": "code",
   "execution_count": null,
   "metadata": {},
   "outputs": [],
   "source": []
  }
 ],
 "metadata": {
  "kernelspec": {
   "display_name": "Python 3",
   "language": "python",
   "name": "python3"
  },
  "language_info": {
   "codemirror_mode": {
    "name": "ipython",
    "version": 3
   },
   "file_extension": ".py",
   "mimetype": "text/x-python",
   "name": "python",
   "nbconvert_exporter": "python",
   "pygments_lexer": "ipython3",
   "version": "3.7.4"
  }
 },
 "nbformat": 4,
 "nbformat_minor": 4
}
