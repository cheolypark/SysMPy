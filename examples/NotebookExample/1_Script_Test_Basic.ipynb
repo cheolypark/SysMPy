{
 "cells": [
  {
   "cell_type": "markdown",
   "metadata": {},
   "source": [
    "# Set Enviroments"
   ]
  },
  {
   "cell_type": "code",
   "execution_count": 1,
   "metadata": {},
   "outputs": [],
   "source": [
    "import os\n",
    "import sys \n",
    "sys.path.insert(0, os.path.abspath('..\\..\\..\\sysmpy'))  \n",
    "from sysmpy import *"
   ]
  },
  {
   "cell_type": "markdown",
   "metadata": {},
   "source": [
    "# Step 1: Define Requirements"
   ]
  },
  {
   "cell_type": "code",
   "execution_count": 2,
   "metadata": {},
   "outputs": [
    {
     "name": "stdout",
     "output_type": "stream",
     "text": [
      "<ipython-input-2-46ddaad6667c>\n"
     ]
    }
   ],
   "source": [
    "r_sys = Requirement('System Requirement')\n",
    "r_size = r_sys.Requirement('System Size',\n",
    "                 des=\"The system shall fit into a volume not exceeding 1.0 m^3\",\n",
    "                 range = [1, 2, 3, 4],\n",
    "                 unit=\"m^3\")\n",
    "\n",
    "r1_1 = r_size.Requirement('System Width',\n",
    "                       des=\"The system width shall be between 0.5m and 1.0m\",\n",
    "                       range = [1, 2, 3, 4],\n",
    "                       unit=\"m\" )\n",
    "\n",
    "r2 = r_sys.Requirement('System Material',\n",
    "                 des=\"The system shall be made entirely from Aluminum 6060 alloy\",\n",
    "                 type=\"alloy\")\n",
    "\n",
    "r2_1 = r2.Requirement('System Material Constraint',\n",
    "                      des=\"The system shall not contain any internal voids or cavities\")\n",
    "\n",
    "r3 = r_sys.Requirement('System Shape',\n",
    "                  des=\"The shape of the system must be a cube\",\n",
    "                  type=\"cube\")\n",
    "\n",
    "print(r_sys.module) "
   ]
  },
  {
   "cell_type": "markdown",
   "metadata": {},
   "source": [
    "# Step 2: Define an Action Model"
   ]
  },
  {
   "cell_type": "code",
   "execution_count": 9,
   "metadata": {},
   "outputs": [],
   "source": [
    "p = Process(\"process\")\n",
    "act1 = p.Action(\"Action1\")\n",
    "act2 = p.Action(\"Action2\")\n",
    "act3 = p.Action(\"Action3\")"
   ]
  },
  {
   "cell_type": "markdown",
   "metadata": {},
   "source": [
    "# Step 3: Integrate External Tools"
   ]
  },
  {
   "cell_type": "markdown",
   "metadata": {},
   "source": [
    "# Step 3: Run Simulations"
   ]
  },
  {
   "cell_type": "code",
   "execution_count": 10,
   "metadata": {},
   "outputs": [
    {
     "name": "stdout",
     "output_type": "stream",
     "text": [
      "At Time 0, Action1 waiting.\n",
      "At Time 0, Action2 waiting.\n",
      "At Time 0, Action3 waiting.\n",
      "At Time 0, Action1 activated.\n",
      "At Time 1, Action1 completed.\n",
      "At Time 1, Action1 waiting.\n",
      "At Time 1, Action2 activated.\n",
      "At Time 2, Action2 completed.\n",
      "At Time 2, Action2 waiting.\n",
      "At Time 2, Action3 activated.\n",
      "At Time 3, Action3 completed.\n",
      "At Time 3, Action3 waiting.\n",
      "At Time 3, process_END simulation 0.\n",
      "At Time 3, Action1 activated.\n",
      "At Time 4, Action1 completed.\n",
      "At Time 4, Action1 waiting.\n",
      "At Time 4, Action2 activated.\n",
      "At Time 5, Action2 completed.\n",
      "At Time 5, Action2 waiting.\n",
      "At Time 5, Action3 activated.\n",
      "At Time 6, Action3 completed.\n",
      "--------- Simulation Completed ---------\n"
     ]
    }
   ],
   "source": [
    "await p.sim()"
   ]
  },
  {
   "cell_type": "markdown",
   "metadata": {},
   "source": [
    "# Step 5: Evaluate Simulation Results"
   ]
  },
  {
   "cell_type": "markdown",
   "metadata": {},
   "source": [
    "# Step 6: Reports Documents"
   ]
  },
  {
   "cell_type": "code",
   "execution_count": null,
   "metadata": {},
   "outputs": [],
   "source": []
  }
 ],
 "metadata": {
  "kernelspec": {
   "display_name": "Python 3",
   "language": "python",
   "name": "python3"
  },
  "language_info": {
   "codemirror_mode": {
    "name": "ipython",
    "version": 3
   },
   "file_extension": ".py",
   "mimetype": "text/x-python",
   "name": "python",
   "nbconvert_exporter": "python",
   "pygments_lexer": "ipython3",
   "version": "3.7.4"
  },
  "latex_envs": {
   "LaTeX_envs_menu_present": true,
   "autoclose": false,
   "autocomplete": true,
   "bibliofile": "biblio.bib",
   "cite_by": "apalike",
   "current_citInitial": 1,
   "eqLabelWithNumbers": true,
   "eqNumInitial": 1,
   "hotkeys": {
    "equation": "Ctrl-E",
    "itemize": "Ctrl-I"
   },
   "labels_anchors": false,
   "latex_user_defs": false,
   "report_style_numbering": false,
   "user_envs_cfg": false
  }
 },
 "nbformat": 4,
 "nbformat_minor": 4
}
