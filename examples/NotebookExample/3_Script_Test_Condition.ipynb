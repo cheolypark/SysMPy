{
 "cells": [
  {
   "cell_type": "code",
   "execution_count": 1,
   "metadata": {},
   "outputs": [],
   "source": [
    "import os\n",
    "import sys \n",
    "sys.path.insert(0, os.path.abspath('..\\..\\..\\sysmpy'))  \n",
    "from sysmpy import *"
   ]
  },
  {
   "cell_type": "markdown",
   "metadata": {},
   "source": [
    "# Step 1: Define System Models"
   ]
  },
  {
   "cell_type": "code",
   "execution_count": 2,
   "metadata": {},
   "outputs": [],
   "source": [
    "p = Process(\"process0\")\n",
    "\n",
    "p_con = p.Condition(\"Condition 1\")\n",
    "\n",
    "p1 = p_con.Process(\"process 1\")\n",
    "p2 = p_con.Process(\"process 2\")\n",
    "p_act1 = p1.Action(\"Action 1\")\n",
    "p_act2 = p2.Action(\"Action 2\")\n",
    "\n",
    "# Condition Script ######################################\n",
    "def function1(io):\n",
    "    print(\"Condition\")\n",
    "    import random\n",
    "    # outputs\n",
    "    o1, o2 = io.get('process 1'), io.get('process 2')\n",
    "\n",
    "    if random.random() < 0.9:\n",
    "        return o1\n",
    "    else:\n",
    "        return o2\n",
    "\n",
    "# Script end ##################################\n",
    "\n",
    "p_con.func(function1)\n"
   ]
  },
  {
   "cell_type": "markdown",
   "metadata": {},
   "source": [
    "# Step 2: Run Simulations"
   ]
  },
  {
   "cell_type": "code",
   "execution_count": 3,
   "metadata": {},
   "outputs": [
    {
     "name": "stdout",
     "output_type": "stream",
     "text": [
      "At Time 0, Action 1 waiting.\n",
      "At Time 0, Action 2 waiting.\n",
      "Condition\n",
      "At Time 0, Action 1 activated.\n",
      "At Time 1, Action 1 completed.\n",
      "At Time 1, Action 1 waiting.\n",
      "At Time 1, process0_END simulation 0.\n",
      "Condition\n",
      "At Time 1, Action 1 activated.\n",
      "At Time 2, Action 1 completed.\n",
      "At Time 2, Action 1 waiting.\n",
      "At Time 2, process0_END simulation 1.\n",
      "Condition\n",
      "At Time 2, Action 1 activated.\n",
      "At Time 3, Action 1 completed.\n",
      "At Time 3, Action 1 waiting.\n",
      "At Time 3, process0_END simulation 2.\n",
      "Condition\n",
      "At Time 3, Action 1 activated.\n",
      "At Time 4, Action 1 completed.\n",
      "At Time 4, Action 1 waiting.\n",
      "At Time 4, process0_END simulation 3.\n",
      "Condition\n",
      "At Time 4, Action 1 activated.\n",
      "At Time 5, Action 1 completed.\n",
      "At Time 5, Action 1 waiting.\n",
      "--------- Simulation Completed ---------\n"
     ]
    }
   ],
   "source": [
    "await p.sim()"
   ]
  },
  {
   "cell_type": "code",
   "execution_count": null,
   "metadata": {},
   "outputs": [],
   "source": []
  },
  {
   "cell_type": "code",
   "execution_count": null,
   "metadata": {},
   "outputs": [],
   "source": []
  }
 ],
 "metadata": {
  "kernelspec": {
   "display_name": "Python 3",
   "language": "python",
   "name": "python3"
  },
  "language_info": {
   "codemirror_mode": {
    "name": "ipython",
    "version": 3
   },
   "file_extension": ".py",
   "mimetype": "text/x-python",
   "name": "python",
   "nbconvert_exporter": "python",
   "pygments_lexer": "ipython3",
   "version": "3.7.4"
  },
  "latex_envs": {
   "LaTeX_envs_menu_present": true,
   "autoclose": false,
   "autocomplete": true,
   "bibliofile": "biblio.bib",
   "cite_by": "apalike",
   "current_citInitial": 1,
   "eqLabelWithNumbers": true,
   "eqNumInitial": 1,
   "hotkeys": {
    "equation": "Ctrl-E",
    "itemize": "Ctrl-I"
   },
   "labels_anchors": false,
   "latex_user_defs": false,
   "report_style_numbering": false,
   "user_envs_cfg": false
  }
 },
 "nbformat": 4,
 "nbformat_minor": 4
}
