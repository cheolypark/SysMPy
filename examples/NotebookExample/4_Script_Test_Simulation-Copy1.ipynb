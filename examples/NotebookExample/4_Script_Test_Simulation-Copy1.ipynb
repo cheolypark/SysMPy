{
 "cells": [
  {
   "cell_type": "markdown",
   "metadata": {},
   "source": [
    "# 1. Set Enviroments"
   ]
  },
  {
   "cell_type": "code",
   "execution_count": 9,
   "metadata": {},
   "outputs": [],
   "source": [
    "import os\n",
    "import sys \n",
    "sys.path.insert(0, os.path.abspath('..\\..\\..\\sysmpy'))  \n",
    "from sysmpy import *"
   ]
  },
  {
   "cell_type": "markdown",
   "metadata": {},
   "source": [
    "# 2. Create an Action Model"
   ]
  },
  {
   "cell_type": "code",
   "execution_count": 13,
   "metadata": {},
   "outputs": [
    {
     "data": {
      "text/plain": [
       "d4"
      ]
     },
     "execution_count": 13,
     "metadata": {},
     "output_type": "execute_result"
    }
   ],
   "source": [
    "p = Process(\"process\")\n",
    "p.Action(\"d\")\n",
    "p.Action(\"d2\")\n",
    "p.Action(\"d3\")\n",
    "p.Action(\"d4\")\n",
    "\n",
    "\n",
    "# p_con1 = p.And()\n",
    "\n",
    "# for i in range(3):\n",
    "#     p2 = p_con1.Process(f\"P{i}\")\n",
    "\n",
    "#     p_con2 = p2.Condition(f\"condition{i}_2\")\n",
    "#     p21 = p_con2.Process(f\"P{i}_1\")\n",
    "#     p22 = p_con2.Process(f\"P{i}_2\")  \n",
    "    \n",
    "#     for j in range(2):\n",
    "#         p21.Action(f\"Action{i}_{j}\") \n",
    " "
   ]
  },
  {
   "cell_type": "markdown",
   "metadata": {},
   "source": [
    "# 3. Show the Action Model"
   ]
  },
  {
   "cell_type": "code",
   "execution_count": 11,
   "metadata": {},
   "outputs": [
    {
     "data": {
      "text/html": [
       "\n",
       "           <iframe\n",
       "               width=\"960\"\n",
       "               height=\"750\"\n",
       "               src=\"http://www.sysmpy.org/view/?g=var A_process = graph.insertVertex(parent, 'A process', '', 105.0, 42.0, 30, 30, 'Process') /n var A_1_d = graph.insertVertex(parent, 'A.1 d', 'd', 80.0, 84.0, 80, 30, 'Action') /n var A_process_A_1_d = graph.insertEdge(parent, null, '', A_process, A_1_d, 'Arrow_Edge_Process' ) /n var A_process_END = graph.insertVertex(parent, 'A process_END', '', 105.0, 126.0, 30, 30, 'Process_END') /n var A_1_d_A_process_END = graph.insertEdge(parent, null, '', A_1_d, A_process_END, 'Arrow_Edge_Process' ) /n \"\n",
       "               frameborder=\"0\"\n",
       "               allowfullscreen\n",
       "           ></iframe>\n",
       "           "
      ],
      "text/plain": [
       "<IPython.core.display.HTML object>"
      ]
     },
     "metadata": {},
     "output_type": "display_data"
    }
   ],
   "source": [
    "show2(p)"
   ]
  },
  {
   "cell_type": "markdown",
   "metadata": {},
   "source": [
    "# 4. Run the Simulation"
   ]
  },
  {
   "cell_type": "code",
   "execution_count": 15,
   "metadata": {},
   "outputs": [
    {
     "name": "stdout",
     "output_type": "stream",
     "text": [
      "At Time 0, Action0_1 waiting.\n",
      "At Time 0, Action1_0 activated.\n",
      "At Time 1, Action1_0 completed.\n",
      "At Time 1, Action1_0 waiting.\n",
      "At Time 1, Action1_1 activated.\n",
      "At Time 2, Action1_1 completed.\n",
      "At Time 2, Action1_1 waiting.\n",
      "At Time 0, Action2_0 activated.\n",
      "At Time 1, Action2_0 completed.\n",
      "At Time 1, Action2_0 waiting.\n",
      "At Time 1, Action2_1 activated.\n",
      "At Time 2, Action2_1 completed.\n",
      "At Time 2, Action2_1 waiting.\n",
      "At Time 2, process_END simulation 0.\n",
      "At Time 2, Action1_0 activated.\n",
      "At Time 3, Action1_0 completed.\n",
      "At Time 3, Action1_0 waiting.\n",
      "At Time 3, Action1_1 activated.\n",
      "At Time 4, Action1_1 completed.\n",
      "At Time 4, Action1_1 waiting.\n",
      "At Time 2, Action2_0 activated.\n",
      "At Time 3, Action2_0 completed.\n",
      "At Time 3, Action2_0 waiting.\n",
      "At Time 3, Action2_1 activated.\n",
      "At Time 4, Action2_1 completed.\n",
      "At Time 4, Action2_1 waiting.\n",
      "At Time 4, process_END simulation 1.\n",
      "At Time 4, process_END simulation 2.\n",
      "At Time 4, Action0_0 activated.\n",
      "At Time 5, Action0_0 completed.\n",
      "At Time 5, Action0_0 waiting.\n",
      "At Time 5, Action0_1 activated.\n",
      "At Time 6, Action0_1 completed.\n",
      "--------- Simulation Completed ---------\n"
     ]
    }
   ],
   "source": [
    "await p.sim(until=5)"
   ]
  },
  {
   "cell_type": "markdown",
   "metadata": {},
   "source": [
    "# 5. Show Action Time Results "
   ]
  },
  {
   "cell_type": "code",
   "execution_count": 16,
   "metadata": {},
   "outputs": [
    {
     "name": "stdout",
     "output_type": "stream",
     "text": [
      "{'Action0_0': 1, 'Action0_1': 1, 'Action1_0': 2, 'Action1_1': 2, 'Action2_0': 2, 'Action2_1': 2}\n"
     ]
    }
   ],
   "source": [
    "print(p.get_action_times())"
   ]
  },
  {
   "cell_type": "markdown",
   "metadata": {},
   "source": [
    "# 6.Get all Simulation Events"
   ]
  },
  {
   "cell_type": "code",
   "execution_count": 17,
   "metadata": {},
   "outputs": [
    {
     "name": "stdout",
     "output_type": "stream",
     "text": [
      "{'class': 'Action', 'name': 'Action0_1', 'time': 0, 'event': 'waiting'}\n",
      "{'class': 'Action', 'name': 'Action1_0', 'time': 0, 'event': 'activated'}\n",
      "{'class': 'Action', 'name': 'Action1_0', 'time': 1, 'event': 'completed'}\n",
      "{'class': 'Action', 'name': 'Action1_0', 'time': 1, 'event': 'waiting'}\n",
      "{'class': 'Action', 'name': 'Action1_1', 'time': 1, 'event': 'activated'}\n",
      "{'class': 'Action', 'name': 'Action1_1', 'time': 2, 'event': 'completed'}\n",
      "{'class': 'Action', 'name': 'Action1_1', 'time': 2, 'event': 'waiting'}\n",
      "{'class': 'Action', 'name': 'Action2_0', 'time': 0, 'event': 'activated'}\n",
      "{'class': 'Action', 'name': 'Action2_0', 'time': 1, 'event': 'completed'}\n",
      "{'class': 'Action', 'name': 'Action2_0', 'time': 1, 'event': 'waiting'}\n",
      "{'class': 'Action', 'name': 'Action2_1', 'time': 1, 'event': 'activated'}\n",
      "{'class': 'Action', 'name': 'Action2_1', 'time': 2, 'event': 'completed'}\n",
      "{'class': 'Action', 'name': 'Action2_1', 'time': 2, 'event': 'waiting'}\n",
      "{'class': 'Process_END', 'name': 'process_END', 'time': 2, 'event': 'simulation 0'}\n",
      "{'class': 'Action', 'name': 'Action1_0', 'time': 2, 'event': 'activated'}\n",
      "{'class': 'Action', 'name': 'Action1_0', 'time': 3, 'event': 'completed'}\n",
      "{'class': 'Action', 'name': 'Action1_0', 'time': 3, 'event': 'waiting'}\n",
      "{'class': 'Action', 'name': 'Action1_1', 'time': 3, 'event': 'activated'}\n",
      "{'class': 'Action', 'name': 'Action1_1', 'time': 4, 'event': 'completed'}\n",
      "{'class': 'Action', 'name': 'Action1_1', 'time': 4, 'event': 'waiting'}\n",
      "{'class': 'Action', 'name': 'Action2_0', 'time': 2, 'event': 'activated'}\n",
      "{'class': 'Action', 'name': 'Action2_0', 'time': 3, 'event': 'completed'}\n",
      "{'class': 'Action', 'name': 'Action2_0', 'time': 3, 'event': 'waiting'}\n",
      "{'class': 'Action', 'name': 'Action2_1', 'time': 3, 'event': 'activated'}\n",
      "{'class': 'Action', 'name': 'Action2_1', 'time': 4, 'event': 'completed'}\n",
      "{'class': 'Action', 'name': 'Action2_1', 'time': 4, 'event': 'waiting'}\n",
      "{'class': 'Process_END', 'name': 'process_END', 'time': 4, 'event': 'simulation 1'}\n",
      "{'class': 'Process_END', 'name': 'process_END', 'time': 4, 'event': 'simulation 2'}\n",
      "{'class': 'Action', 'name': 'Action0_0', 'time': 4, 'event': 'activated'}\n",
      "{'class': 'Action', 'name': 'Action0_0', 'time': 5, 'event': 'completed'}\n",
      "{'class': 'Action', 'name': 'Action0_0', 'time': 5, 'event': 'waiting'}\n",
      "{'class': 'Action', 'name': 'Action0_1', 'time': 5, 'event': 'activated'}\n",
      "{'class': 'Action', 'name': 'Action0_1', 'time': 6, 'event': 'completed'}\n"
     ]
    }
   ],
   "source": [
    "while True:\n",
    "    q = p.get_event()\n",
    "    if q is None:\n",
    "        break\n",
    "    else:\n",
    "        print(q)"
   ]
  },
  {
   "cell_type": "code",
   "execution_count": null,
   "metadata": {},
   "outputs": [],
   "source": []
  }
 ],
 "metadata": {
  "kernelspec": {
   "display_name": "Python 3",
   "language": "python",
   "name": "python3"
  },
  "language_info": {
   "codemirror_mode": {
    "name": "ipython",
    "version": 3
   },
   "file_extension": ".py",
   "mimetype": "text/x-python",
   "name": "python",
   "nbconvert_exporter": "python",
   "pygments_lexer": "ipython3",
   "version": "3.7.4"
  }
 },
 "nbformat": 4,
 "nbformat_minor": 4
}
