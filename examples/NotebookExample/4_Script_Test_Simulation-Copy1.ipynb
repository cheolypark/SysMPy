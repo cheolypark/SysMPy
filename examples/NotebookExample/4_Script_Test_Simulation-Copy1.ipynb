{
 "cells": [
  {
   "cell_type": "markdown",
   "metadata": {},
   "source": [
    "# 1. Set Enviroments"
   ]
  },
  {
   "cell_type": "code",
   "execution_count": 1,
   "metadata": {},
   "outputs": [],
   "source": [
    "import os\n",
    "import sys \n",
    "sys.path.insert(0, os.path.abspath('..\\..\\..\\sysmpy'))  \n",
    "from sysmpy import *"
   ]
  },
  {
   "cell_type": "markdown",
   "metadata": {},
   "source": [
    "# 2. Create an Action Model"
   ]
  },
  {
   "cell_type": "code",
   "execution_count": 2,
   "metadata": {},
   "outputs": [
    {
     "data": {
      "text/plain": [
       "d4"
      ]
     },
     "execution_count": 2,
     "metadata": {},
     "output_type": "execute_result"
    }
   ],
   "source": [
    "p = Process(\"process\")\n",
    "p.Action(\"d\")\n",
    "p.Action(\"d2\")\n",
    "p.Action(\"d3\")\n",
    "p.Action(\"d4\")\n",
    "\n",
    "\n",
    "# p_con1 = p.And()\n",
    "\n",
    "# for i in range(3):\n",
    "#     p2 = p_con1.Process(f\"P{i}\")\n",
    "\n",
    "#     p_con2 = p2.Condition(f\"condition{i}_2\")\n",
    "#     p21 = p_con2.Process(f\"P{i}_1\")\n",
    "#     p22 = p_con2.Process(f\"P{i}_2\")  \n",
    "    \n",
    "#     for j in range(2):\n",
    "#         p21.Action(f\"Action{i}_{j}\") \n",
    " "
   ]
  },
  {
   "cell_type": "markdown",
   "metadata": {},
   "source": [
    "# 3. Show the Action Model"
   ]
  },
  {
   "cell_type": "code",
   "execution_count": 3,
   "metadata": {},
   "outputs": [
    {
     "data": {
      "text/html": [
       "\n",
       "           <iframe\n",
       "               width=\"960\"\n",
       "               height=\"750\"\n",
       "               src=\"http://www.sysmpy.org/view/?g=var A_process = graph.insertVertex(parent, 'A process', '', 105.0, 42.0, 30, 30, 'Process') /n var A_1_d = graph.insertVertex(parent, 'A.1 d', 'd', 80.0, 84.0, 80, 30, 'Action') /n var A_process_A_1_d = graph.insertEdge(parent, null, '', A_process, A_1_d, 'Arrow_Edge_Process' ) /n var A_2_d2 = graph.insertVertex(parent, 'A.2 d2', 'd2', 80.0, 126.0, 80, 30, 'Action') /n var A_1_d_A_2_d2 = graph.insertEdge(parent, null, '', A_1_d, A_2_d2 ) /n var A_3_d3 = graph.insertVertex(parent, 'A.3 d3', 'd3', 80.0, 168.0, 80, 30, 'Action') /n var A_2_d2_A_3_d3 = graph.insertEdge(parent, null, '', A_2_d2, A_3_d3 ) /n var A_4_d4 = graph.insertVertex(parent, 'A.4 d4', 'd4', 80.0, 210.0, 80, 30, 'Action') /n var A_3_d3_A_4_d4 = graph.insertEdge(parent, null, '', A_3_d3, A_4_d4 ) /n var A_process_END = graph.insertVertex(parent, 'A process_END', '', 105.0, 252.0, 30, 30, 'Process_END') /n var A_4_d4_A_process_END = graph.insertEdge(parent, null, '', A_4_d4, A_process_END, 'Arrow_Edge_Process' ) /n \"\n",
       "               frameborder=\"0\"\n",
       "               allowfullscreen\n",
       "           ></iframe>\n",
       "           "
      ],
      "text/plain": [
       "<IPython.core.display.HTML object>"
      ]
     },
     "metadata": {},
     "output_type": "display_data"
    }
   ],
   "source": [
    "show(p)"
   ]
  },
  {
   "cell_type": "markdown",
   "metadata": {},
   "source": [
    "# 4. Run the Simulation"
   ]
  },
  {
   "cell_type": "code",
   "execution_count": 4,
   "metadata": {},
   "outputs": [
    {
     "name": "stdout",
     "output_type": "stream",
     "text": [
      "At Time 0, d waiting.\n",
      "At Time 0, d2 waiting.\n",
      "At Time 0, d3 waiting.\n",
      "At Time 0, d4 waiting.\n",
      "At Time 0, d activated.\n",
      "At Time 1, d completed.\n",
      "At Time 1, d waiting.\n",
      "At Time 1, d2 activated.\n",
      "At Time 2, d2 completed.\n",
      "At Time 2, d2 waiting.\n",
      "At Time 2, d3 activated.\n",
      "At Time 3, d3 completed.\n",
      "At Time 3, d3 waiting.\n",
      "At Time 3, d4 activated.\n",
      "At Time 4, d4 completed.\n",
      "At Time 4, d4 waiting.\n",
      "At Time 4, process_END simulation 0.\n",
      "At Time 4, d activated.\n",
      "At Time 5, d completed.\n",
      "At Time 5, d waiting.\n",
      "At Time 5, d2 activated.\n",
      "At Time 6, d2 completed.\n",
      "--------- Simulation Completed ---------\n"
     ]
    }
   ],
   "source": [
    "await p.sim(until=5)"
   ]
  },
  {
   "cell_type": "markdown",
   "metadata": {},
   "source": [
    "# 5. Show Action Time Results "
   ]
  },
  {
   "cell_type": "code",
   "execution_count": 5,
   "metadata": {},
   "outputs": [
    {
     "name": "stdout",
     "output_type": "stream",
     "text": [
      "{'d': 2, 'd2': 2, 'd3': 1, 'd4': 1}\n"
     ]
    }
   ],
   "source": [
    "print(p.get_action_times())"
   ]
  },
  {
   "cell_type": "markdown",
   "metadata": {},
   "source": [
    "# 6.Get all Simulation Events"
   ]
  },
  {
   "cell_type": "code",
   "execution_count": 6,
   "metadata": {},
   "outputs": [
    {
     "name": "stdout",
     "output_type": "stream",
     "text": [
      "{'class': 'Action', 'name': 'd', 'time': 0, 'event': 'waiting'}\n",
      "{'class': 'Action', 'name': 'd2', 'time': 0, 'event': 'waiting'}\n",
      "{'class': 'Action', 'name': 'd3', 'time': 0, 'event': 'waiting'}\n",
      "{'class': 'Action', 'name': 'd4', 'time': 0, 'event': 'waiting'}\n",
      "{'class': 'Action', 'name': 'd', 'time': 0, 'event': 'activated'}\n",
      "{'class': 'Action', 'name': 'd', 'time': 1, 'event': 'completed'}\n",
      "{'class': 'Action', 'name': 'd', 'time': 1, 'event': 'waiting'}\n",
      "{'class': 'Action', 'name': 'd2', 'time': 1, 'event': 'activated'}\n",
      "{'class': 'Action', 'name': 'd2', 'time': 2, 'event': 'completed'}\n",
      "{'class': 'Action', 'name': 'd2', 'time': 2, 'event': 'waiting'}\n",
      "{'class': 'Action', 'name': 'd3', 'time': 2, 'event': 'activated'}\n",
      "{'class': 'Action', 'name': 'd3', 'time': 3, 'event': 'completed'}\n",
      "{'class': 'Action', 'name': 'd3', 'time': 3, 'event': 'waiting'}\n",
      "{'class': 'Action', 'name': 'd4', 'time': 3, 'event': 'activated'}\n",
      "{'class': 'Action', 'name': 'd4', 'time': 4, 'event': 'completed'}\n",
      "{'class': 'Action', 'name': 'd4', 'time': 4, 'event': 'waiting'}\n",
      "{'class': 'Process_END', 'name': 'process_END', 'time': 4, 'event': 'simulation 0'}\n",
      "{'class': 'Action', 'name': 'd', 'time': 4, 'event': 'activated'}\n",
      "{'class': 'Action', 'name': 'd', 'time': 5, 'event': 'completed'}\n",
      "{'class': 'Action', 'name': 'd', 'time': 5, 'event': 'waiting'}\n",
      "{'class': 'Action', 'name': 'd2', 'time': 5, 'event': 'activated'}\n",
      "{'class': 'Action', 'name': 'd2', 'time': 6, 'event': 'completed'}\n"
     ]
    }
   ],
   "source": [
    "while True:\n",
    "    q = p.get_event()\n",
    "    if q is None:\n",
    "        break\n",
    "    else:\n",
    "        print(q)"
   ]
  },
  {
   "cell_type": "code",
   "execution_count": null,
   "metadata": {},
   "outputs": [],
   "source": []
  }
 ],
 "metadata": {
  "kernelspec": {
   "display_name": "Python 3",
   "language": "python",
   "name": "python3"
  },
  "language_info": {
   "codemirror_mode": {
    "name": "ipython",
    "version": 3
   },
   "file_extension": ".py",
   "mimetype": "text/x-python",
   "name": "python",
   "nbconvert_exporter": "python",
   "pygments_lexer": "ipython3",
   "version": "3.7.4"
  }
 },
 "nbformat": 4,
 "nbformat_minor": 4
}
