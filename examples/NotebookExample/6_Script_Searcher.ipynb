{
 "cells": [
  {
   "cell_type": "markdown",
   "metadata": {},
   "source": [
    "# Search Scripts"
   ]
  },
  {
   "cell_type": "code",
   "execution_count": 3,
   "metadata": {},
   "outputs": [],
   "source": [
    "import os\n",
    "import sys \n",
    "sys.path.insert(0, os.path.abspath('..\\..\\..\\sysmpy'))  \n",
    "from sysmpy import *"
   ]
  },
  {
   "cell_type": "code",
   "execution_count": 4,
   "metadata": {},
   "outputs": [
    {
     "name": "stdout",
     "output_type": "stream",
     "text": [
      "Query: order 1\n",
      "[{'File': 'SteelIndustry\\\\Steelmaking.ipynb', 'Score': 0.16666667, 'Text': 'Production PlanningSteelmaking process Production Planning Prompt order processing Optimal load control Live update of furnace condition Maintaining precise temperature Ironmaking Linked information during blowing Meeting the target temperature Steelmaking and Continuous Casting Rolling Surface Treatment'}, {'File': 'SteelIndustry\\\\admodel.py', 'Score': 0.0, 'Text': 'Car p1 p2 Action1 Action2'}, {'File': 'SteelIndustry\\\\__init__.py', 'Score': 0.0, 'Text': ''}]\n"
     ]
    }
   ],
   "source": [
    "s = SMSSearcher('SteelIndustry')\n",
    "print(s.search('order 1'))"
   ]
  },
  {
   "cell_type": "code",
   "execution_count": null,
   "metadata": {},
   "outputs": [],
   "source": []
  }
 ],
 "metadata": {
  "kernelspec": {
   "display_name": "Python 3",
   "language": "python",
   "name": "python3"
  },
  "language_info": {
   "codemirror_mode": {
    "name": "ipython",
    "version": 3
   },
   "file_extension": ".py",
   "mimetype": "text/x-python",
   "name": "python",
   "nbconvert_exporter": "python",
   "pygments_lexer": "ipython3",
   "version": "3.7.4"
  }
 },
 "nbformat": 4,
 "nbformat_minor": 4
}
