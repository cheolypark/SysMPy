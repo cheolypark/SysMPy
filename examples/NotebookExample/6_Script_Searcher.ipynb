{
 "cells": [
  {
   "cell_type": "markdown",
   "metadata": {},
   "source": [
    "# Search Scripts"
   ]
  },
  {
   "cell_type": "code",
   "execution_count": 1,
   "metadata": {},
   "outputs": [],
   "source": [
    "import os\n",
    "import sys \n",
    "sys.path.insert(0, os.path.abspath('..\\..\\core')) \n",
    "sys.path.insert(0, os.path.abspath('..\\..\\code_gui')) \n",
    "from sms_searcher import *"
   ]
  },
  {
   "cell_type": "code",
   "execution_count": 2,
   "metadata": {},
   "outputs": [
    {
     "name": "stdout",
     "output_type": "stream",
     "text": [
      "Query: order 1\n",
      "[{'File': 'Steel Industry\\\\Steelmaking.ipynb', 'Score': 0.0, 'Text': 'Steelmaking process Production Planning Prompt order processing Optimal load control Live update of furnace condition Maintaining precise temperature Ironmaking Linked information during blowing Meeting the target temperature Steelmaking and Continuous Casting Rolling Surface Treatment'}, {'File': 'Steel Industry\\\\Steelmaking2.ipynb', 'Score': 0.0, 'Text': 'Steelmaking process Production Planning Prompt order processing Optimal load control Live update of furnace condition Maintaining precise temperature Ironmaking Linked information during blowing Meeting the target temperature Steelmaking and Continuous Casting Rolling Surface Treatment'}]\n"
     ]
    }
   ],
   "source": [
    "s = SMSSearcher('Steel Industry')\n",
    "print(s.search('order 1'))"
   ]
  },
  {
   "cell_type": "code",
   "execution_count": null,
   "metadata": {},
   "outputs": [],
   "source": []
  }
 ],
 "metadata": {
  "kernelspec": {
   "display_name": "Python 3",
   "language": "python",
   "name": "python3"
  },
  "language_info": {
   "codemirror_mode": {
    "name": "ipython",
    "version": 3
   },
   "file_extension": ".py",
   "mimetype": "text/x-python",
   "name": "python",
   "nbconvert_exporter": "python",
   "pygments_lexer": "ipython3",
   "version": "3.7.4"
  }
 },
 "nbformat": 4,
 "nbformat_minor": 4
}
