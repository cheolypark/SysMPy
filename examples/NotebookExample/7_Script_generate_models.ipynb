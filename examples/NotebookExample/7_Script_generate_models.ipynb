{
 "cells": [
  {
   "cell_type": "markdown",
   "metadata": {},
   "source": [
    "# Scripts to Models"
   ]
  },
  {
   "cell_type": "code",
   "execution_count": 1,
   "metadata": {},
   "outputs": [],
   "source": [
    "import os\n",
    "import sys \n",
    "sys.path.insert(0, os.path.abspath('..\\..\\..\\sysmpy'))  \n",
    "from sysmpy import *"
   ]
  },
  {
   "cell_type": "markdown",
   "metadata": {},
   "source": [
    "## Requirement Generation"
   ]
  },
  {
   "cell_type": "code",
   "execution_count": 2,
   "metadata": {},
   "outputs": [
    {
     "name": "stdout",
     "output_type": "stream",
     "text": [
      "{'WHO': SAI, 'VERB': optimize, 'WHAT': the spatial box arrangement}\n",
      "SAI {'des': 'SAI shall optimize the spatial box arrangement'}\n",
      "\n"
     ]
    }
   ],
   "source": [
    "text = \"SAI should automatically optimize the spatial box arrangement.\"\n",
    "\n",
    "# 1. Perform SystemModelExtractor\n",
    "sp = SystemModelExtractor(text)\n",
    "model_info = sp.run()\n",
    "print(model_info)\n",
    "\n",
    "# 2. Perform ModelGenerator for requirement\n",
    "mg = ModelGenerator()\n",
    "req = mg.to_requirement(model_info)\n",
    "print(req)"
   ]
  },
  {
   "cell_type": "markdown",
   "metadata": {},
   "source": [
    "## Action Model Generation"
   ]
  },
  {
   "cell_type": "code",
   "execution_count": 3,
   "metadata": {},
   "outputs": [
    {
     "name": "stdout",
     "output_type": "stream",
     "text": [
      "ID1756243530952 = Process('System')\n",
      "ID1756340927496 = ID1756243530952.Action('optimize the spatial box arrangement')\n",
      "ID1756330819848 = ID1756243530952.Action('deliver three small products')\n",
      "ID1756459032200 = ID1756243530952.Action('deliver two larger products')\n",
      "ID1756332097160 = ID1756243530952.Action('complete all product deliveries')\n",
      "\n"
     ]
    },
    {
     "data": {
      "text/html": [
       "\n",
       "           <iframe\n",
       "               width=\"150\"\n",
       "               height=\"750\"\n",
       "               src=\"http://www.sysmpy.org/view/?g=var A_System = graph.insertVertex(parent, 'A System', '', 105.0, 42.0, 30, 30, 'Process') /n var A_1_optimize_the_spatial_box_arrangement = graph.insertVertex(parent, 'A.1 optimize the spatial box arrangement', 'optimize the spatial box arrangement', 80.0, 84.0, 80, 30, 'Action') /n var A_System_A_1_optimize_the_spatial_box_arrangement = graph.insertEdge(parent, null, '', A_System, A_1_optimize_the_spatial_box_arrangement, 'Arrow_Edge_Process' ) /n var A_2_deliver_three_small_products = graph.insertVertex(parent, 'A.2 deliver three small products', 'deliver three small products', 80.0, 126.0, 80, 30, 'Action') /n var A_1_optimize_the_spatial_box_arrangement_A_2_deliver_three_small_products = graph.insertEdge(parent, null, '', A_1_optimize_the_spatial_box_arrangement, A_2_deliver_three_small_products ) /n var A_3_deliver_two_larger_products = graph.insertVertex(parent, 'A.3 deliver two larger products', 'deliver two larger products', 80.0, 168.0, 80, 30, 'Action') /n var A_2_deliver_three_small_products_A_3_deliver_two_larger_products = graph.insertEdge(parent, null, '', A_2_deliver_three_small_products, A_3_deliver_two_larger_products ) /n var A_4_complete_all_product_deliveries = graph.insertVertex(parent, 'A.4 complete all product deliveries', 'complete all product deliveries', 80.0, 210.0, 80, 30, 'Action') /n var A_3_deliver_two_larger_products_A_4_complete_all_product_deliveries = graph.insertEdge(parent, null, '', A_3_deliver_two_larger_products, A_4_complete_all_product_deliveries ) /n var A_System_END = graph.insertVertex(parent, 'A System_END', '', 105.0, 252.0, 30, 30, 'Process_END') /n var A_4_complete_all_product_deliveries_A_System_END = graph.insertEdge(parent, null, '', A_4_complete_all_product_deliveries, A_System_END, 'Arrow_Edge_Process' ) /n \"\n",
       "               frameborder=\"0\"\n",
       "               allowfullscreen\n",
       "           ></iframe>\n",
       "           "
      ],
      "text/plain": [
       "<IPython.core.display.HTML object>"
      ]
     },
     "metadata": {},
     "output_type": "display_data"
    }
   ],
   "source": [
    "\n",
    "texts = [\"System should automatically optimize the spatial box arrangement.\",\n",
    "         \"System shall deliver three small products to each green level customer.\",\n",
    "         \"System shall deliver two larger products to each gold level customer.\",\n",
    "         \"System shall complete all product deliveries between 9PM Dec 24 and 6 AM Dec 25.\"]\n",
    "\n",
    "# 1. Perform SystemModelExtractor\n",
    "for t in texts:\n",
    "    sp = SystemModelExtractor(t)\n",
    "    model_info = sp.run()\n",
    "\n",
    "    # 3. Perform ModelGenerator for action model\n",
    "    mg = ModelGenerator()\n",
    "    am = mg.to_action_model(model_info) \n",
    "\n",
    "# 2. covert the action model in the memory to an action model script\n",
    "sg = ScriptGenerator()\n",
    "script = sg.run(am)\n",
    "print(script)\n",
    "\n",
    "show(am, width=150)\n"
   ]
  },
  {
   "cell_type": "code",
   "execution_count": null,
   "metadata": {},
   "outputs": [],
   "source": []
  }
 ],
 "metadata": {
  "kernelspec": {
   "display_name": "Python 3",
   "language": "python",
   "name": "python3"
  },
  "language_info": {
   "codemirror_mode": {
    "name": "ipython",
    "version": 3
   },
   "file_extension": ".py",
   "mimetype": "text/x-python",
   "name": "python",
   "nbconvert_exporter": "python",
   "pygments_lexer": "ipython3",
   "version": "3.7.4"
  }
 },
 "nbformat": 4,
 "nbformat_minor": 4
}
