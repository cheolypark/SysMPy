{
 "cells": [
  {
   "cell_type": "code",
   "execution_count": 1,
   "metadata": {},
   "outputs": [],
   "source": [
    "import os\n",
    "import sys \n",
    "sys.path.insert(0, os.path.abspath('..\\..\\..\\..\\sysmpy'))  \n",
    "from sysmpy import *"
   ]
  },
  {
   "cell_type": "code",
   "execution_count": 3,
   "metadata": {},
   "outputs": [
    {
     "data": {
      "text/html": [
       "\n",
       "           <iframe\n",
       "               width=\"960\"\n",
       "               height=\"750\"\n",
       "               src=\"http://www.sysmpy.org/view/?g=var A_Automated_Driving_System_Test_and_Evaluation_Method_Development_Process = graph.insertVertex(parent, 'A Automated Driving System Test and Evaluation Method Development Process', '', 105.0, 42.0, 30, 30, 'Process') /n var A_1_Identify_appropriate_test_framework = graph.insertVertex(parent, 'A.1 Identify appropriate test framework', 'Identify appropriate test framework', 80.0, 84.0, 80, 30, 'Action') /n var A_Automated_Driving_System_Test_and_Evaluation_Method_Development_Process_A_1_Identify_appropriate_test_framework = graph.insertEdge(parent, null, '', A_Automated_Driving_System_Test_and_Evaluation_Method_Development_Process, A_1_Identify_appropriate_test_framework, 'Arrow_Edge_Process' ) /n var A_2_Identify_new_and_modified_test_tools = graph.insertVertex(parent, 'A.2 Identify new and modified test tools', 'Identify new and modified test tools', 80.0, 126.0, 80, 30, 'Action') /n var A_1_Identify_appropriate_test_framework_A_2_Identify_new_and_modified_test_tools = graph.insertEdge(parent, null, '', A_1_Identify_appropriate_test_framework, A_2_Identify_new_and_modified_test_tools ) /n var A_3_Identify_and_develop_test_scenario_framework = graph.insertVertex(parent, 'A.3 Identify and develop test scenario framework', 'Identify and develop test scenario framework', 80.0, 168.0, 80, 30, 'Action') /n var A_2_Identify_new_and_modified_test_tools_A_3_Identify_and_develop_test_scenario_framework = graph.insertEdge(parent, null, '', A_2_Identify_new_and_modified_test_tools, A_3_Identify_and_develop_test_scenario_framework ) /n var A_4_Develop_test_scenario_procedures = graph.insertVertex(parent, 'A.4 Develop test scenario procedures', 'Develop test scenario procedures', 80.0, 210.0, 80, 30, 'Action') /n var A_3_Identify_and_develop_test_scenario_framework_A_4_Develop_test_scenario_procedures = graph.insertEdge(parent, null, '', A_3_Identify_and_develop_test_scenario_framework, A_4_Develop_test_scenario_procedures ) /n var A_5_Identify_testing_challenges = graph.insertVertex(parent, 'A.5 Identify testing challenges', 'Identify testing challenges', 80.0, 252.0, 80, 30, 'Action') /n var A_4_Develop_test_scenario_procedures_A_5_Identify_testing_challenges = graph.insertEdge(parent, null, '', A_4_Develop_test_scenario_procedures, A_5_Identify_testing_challenges ) /n var A_Automated_Driving_System_Test_and_Evaluation_Method_Development_Process_END = graph.insertVertex(parent, 'A Automated Driving System Test and Evaluation Method Development Process_END', '', 105.0, 294.0, 30, 30, 'Process_END') /n var A_5_Identify_testing_challenges_A_Automated_Driving_System_Test_and_Evaluation_Method_Development_Process_END = graph.insertEdge(parent, null, '', A_5_Identify_testing_challenges, A_Automated_Driving_System_Test_and_Evaluation_Method_Development_Process_END, 'Arrow_Edge_Process' ) /n \"\n",
       "               frameborder=\"0\"\n",
       "               allowfullscreen\n",
       "           ></iframe>\n",
       "           "
      ],
      "text/plain": [
       "<IPython.core.display.HTML object>"
      ]
     },
     "metadata": {},
     "output_type": "display_data"
    }
   ],
   "source": [
    "# Test 1\n",
    "p = Process(\"Automated Driving System Test and Evaluation Method Development Process\")\n",
    "\n",
    "p.Action(\"Identify appropriate test framework\") \n",
    "p.Action(\"Identify new and modified test tools\") \n",
    "p.Action(\"Identify and develop test scenario framework\") \n",
    "p.Action(\"Develop test scenario procedures\") \n",
    "p.Action(\"Identify testing challenges\") \n",
    "\n",
    "show(p)"
   ]
  },
  {
   "cell_type": "code",
   "execution_count": 4,
   "metadata": {},
   "outputs": [
    {
     "data": {
      "text/html": [
       "\n",
       "           <iframe\n",
       "               width=\"960\"\n",
       "               height=\"750\"\n",
       "               src=\"http://www.sysmpy.org/view/?g=var A_Automated_Driving_System_Functions = graph.insertVertex(parent, 'A Automated Driving System Functions', '', 185.0, 42.0, 30, 30, 'Process') /n var A_1_and = graph.insertVertex(parent, 'A.1 and', 'A', 185.0, 84.0, 30, 30, 'And') /n var A_Automated_Driving_System_Functions_A_1_and = graph.insertEdge(parent, null, '', A_Automated_Driving_System_Functions, A_1_and, 'Arrow_Edge_Process' ) /n var A_1_1_p1 = graph.insertVertex(parent, 'A.1.1 p1', '', 120.0, 141.0, 0, 0, 'Process') /n var A_1_and_A_1_1_p1 = graph.insertEdge(parent, null, '', A_1_and, A_1_1_p1 ) /n var A_1_2_p2 = graph.insertVertex(parent, 'A.1.2 p2', '', 280.0, 141.0, 0, 0, 'Process') /n var A_1_and_A_1_2_p2 = graph.insertEdge(parent, null, '', A_1_and, A_1_2_p2 ) /n var A_2_Perception_and_Mapping = graph.insertVertex(parent, 'A.2 Perception and Mapping', 'Perception and Mapping', 160.0, 294.0, 80, 30, 'Action') /n var A_3_Develop_World_Model = graph.insertVertex(parent, 'A.3 Develop World Model', 'Develop World Model', 160.0, 336.0, 80, 30, 'Action') /n var A_2_Perception_and_Mapping_A_3_Develop_World_Model = graph.insertEdge(parent, null, '', A_2_Perception_and_Mapping, A_3_Develop_World_Model ) /n var A_4_Navigation_and_Planning_Decisions = graph.insertVertex(parent, 'A.4 Navigation and Planning Decisions', 'Navigation and Planning Decisions', 160.0, 378.0, 80, 30, 'Action') /n var A_3_Develop_World_Model_A_4_Navigation_and_Planning_Decisions = graph.insertEdge(parent, null, '', A_3_Develop_World_Model, A_4_Navigation_and_Planning_Decisions ) /n var A_5_Vehicle_Dynamics_and_Control = graph.insertVertex(parent, 'A.5 Vehicle Dynamics and Control', 'Vehicle Dynamics and Control', 160.0, 420.0, 80, 30, 'Action') /n var A_4_Navigation_and_Planning_Decisions_A_5_Vehicle_Dynamics_and_Control = graph.insertEdge(parent, null, '', A_4_Navigation_and_Planning_Decisions, A_5_Vehicle_Dynamics_and_Control ) /n var A_Automated_Driving_System_Functions_END = graph.insertVertex(parent, 'A Automated Driving System Functions_END', '', 185.0, 462.0, 30, 30, 'Process_END') /n var A_5_Vehicle_Dynamics_and_Control_A_Automated_Driving_System_Functions_END = graph.insertEdge(parent, null, '', A_5_Vehicle_Dynamics_and_Control, A_Automated_Driving_System_Functions_END, 'Arrow_Edge_Process' ) /n var A_1_1_1_Sensing = graph.insertVertex(parent, 'A.1.1.1 Sensing', 'Sensing', 80.0, 168.0, 80, 30, 'Action') /n var A_1_1_p1_A_1_1_1_Sensing = graph.insertEdge(parent, null, '', A_1_1_p1, A_1_1_1_Sensing ) /n var A_1_2_1_Communication = graph.insertVertex(parent, 'A.1.2.1 Communication', 'Communication', 240.0, 168.0, 80, 30, 'Action') /n var A_1_2_p2_A_1_2_1_Communication = graph.insertEdge(parent, null, '', A_1_2_p2, A_1_2_1_Communication ) /n var A_1_1_p1_END = graph.insertVertex(parent, 'A.1.1 p1_END', '', 120.0, 225.0, 0, 0, 'Process_END') /n var A_1_1_1_Sensing_A_1_1_p1_END = graph.insertEdge(parent, null, '', A_1_1_1_Sensing, A_1_1_p1_END ) /n var A_1_and_END = graph.insertVertex(parent, 'A.1 and_END', 'OR', 185.0, 252.0, 30, 30, 'And_END') /n var A_1_1_p1_END_A_1_and_END = graph.insertEdge(parent, null, '', A_1_1_p1_END, A_1_and_END ) /n var A_1_2_p2_END = graph.insertVertex(parent, 'A.1.2 p2_END', '', 280.0, 225.0, 0, 0, 'Process_END') /n var A_1_2_1_Communication_A_1_2_p2_END = graph.insertEdge(parent, null, '', A_1_2_1_Communication, A_1_2_p2_END ) /n var A_1_2_p2_END_A_1_and_END = graph.insertEdge(parent, null, '', A_1_2_p2_END, A_1_and_END ) /n var A_1_and_END_A_2_Perception_and_Mapping = graph.insertEdge(parent, null, '', A_1_and_END, A_2_Perception_and_Mapping ) /n var A_1_and_END_A_2_Perception_and_Mapping = graph.insertEdge(parent, null, '', A_1_and_END, A_2_Perception_and_Mapping ) /n \"\n",
       "               frameborder=\"0\"\n",
       "               allowfullscreen\n",
       "           ></iframe>\n",
       "           "
      ],
      "text/plain": [
       "<IPython.core.display.HTML object>"
      ]
     },
     "metadata": {},
     "output_type": "display_data"
    }
   ],
   "source": [
    "# Test 1\n",
    "p = Process(\"Automated Driving System Functions\")\n",
    "\n",
    "And = p.And()\n",
    "p1 = And.Process('p1')\n",
    "p2 = And.Process('p2')\n",
    "\n",
    "p1.Action(\"Sensing\") \n",
    "p2.Action(\"Communication\") \n",
    "p.Action(\"Perception and Mapping\") \n",
    "p.Action(\"Develop World Model\") \n",
    "p.Action(\"Navigation and Planning Decisions\") \n",
    "p.Action(\"Vehicle Dynamics and Control\") \n",
    "\n",
    "show(p)"
   ]
  },
  {
   "cell_type": "code",
   "execution_count": null,
   "metadata": {},
   "outputs": [],
   "source": []
  }
 ],
 "metadata": {
  "kernelspec": {
   "display_name": "Python 3",
   "language": "python",
   "name": "python3"
  },
  "language_info": {
   "codemirror_mode": {
    "name": "ipython",
    "version": 3
   },
   "file_extension": ".py",
   "mimetype": "text/x-python",
   "name": "python",
   "nbconvert_exporter": "python",
   "pygments_lexer": "ipython3",
   "version": "3.7.4"
  }
 },
 "nbformat": 4,
 "nbformat_minor": 4
}
