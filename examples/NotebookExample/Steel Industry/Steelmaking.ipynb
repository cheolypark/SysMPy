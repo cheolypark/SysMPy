{
 "cells": [
  {
   "cell_type": "code",
   "execution_count": 12,
   "metadata": {},
   "outputs": [],
   "source": [
    "import os\n",
    "import sys \n",
    "sys.path.insert(0, os.path.abspath('..\\..\\core')) \n",
    "sys.path.insert(0, os.path.abspath('..\\..\\code_gui')) \n",
    "from gui_main import *"
   ]
  },
  {
   "cell_type": "code",
   "execution_count": 14,
   "metadata": {},
   "outputs": [
    {
     "data": {
      "text/html": [
       "\n",
       "           <iframe\n",
       "               width=\"960\"\n",
       "               height=\"750\"\n",
       "               src=\"http://localhost:8080/AD/?g=var A_Steelmaking_process = graph.insertVertex(parent, 'A Steelmaking process', '', 185.0, 42.0, 30, 30, 'Process') /n var A_1_Production_Planning = graph.insertVertex(parent, 'A.1 Production Planning', 'Production Planning', 160.0, 84.0, 80, 30, 'Action') /n var A_Steelmaking_process_A_1_Production_Planning = graph.insertEdge(parent, null, '', A_Steelmaking_process, A_1_Production_Planning, 'Arrow_Edge_Process' ) /n var A_2_and = graph.insertVertex(parent, 'A.2 and', 'A', 185.0, 126.0, 30, 30, 'And') /n var A_1_Production_Planning_A_2_and = graph.insertEdge(parent, null, '', A_1_Production_Planning, A_2_and ) /n var A_2_1_p1 = graph.insertVertex(parent, 'A.2.1 p1', '', 120.0, 183.0, 0, 0, 'Process') /n var A_2_and_A_2_1_p1 = graph.insertEdge(parent, null, '', A_2_and, A_2_1_p1 ) /n var A_2_2_p2 = graph.insertVertex(parent, 'A.2.2 p2', '', 280.0, 183.0, 0, 0, 'Process') /n var A_2_and_A_2_2_p2 = graph.insertEdge(parent, null, '', A_2_and, A_2_2_p2 ) /n var A_3_and = graph.insertVertex(parent, 'A.3 and', 'A', 185.0, 336.0, 30, 30, 'And') /n var A_3_1_p3 = graph.insertVertex(parent, 'A.3.1 p3', '', 120.0, 393.0, 0, 0, 'Process') /n var A_3_and_A_3_1_p3 = graph.insertEdge(parent, null, '', A_3_and, A_3_1_p3 ) /n var A_3_2_p4 = graph.insertVertex(parent, 'A.3.2 p4', '', 280.0, 393.0, 0, 0, 'Process') /n var A_3_and_A_3_2_p4 = graph.insertEdge(parent, null, '', A_3_and, A_3_2_p4 ) /n var A_4_Ironmaking = graph.insertVertex(parent, 'A.4 Ironmaking', 'Ironmaking', 160.0, 546.0, 80, 30, 'Action') /n var A_5_Steelmaking_and_Continuous_Casting = graph.insertVertex(parent, 'A.5 Steelmaking and Continuous Casting', 'Steelmaking and Continuous Casting', 160.0, 588.0, 80, 30, 'Action') /n var A_4_Ironmaking_A_5_Steelmaking_and_Continuous_Casting = graph.insertEdge(parent, null, '', A_4_Ironmaking, A_5_Steelmaking_and_Continuous_Casting ) /n var A_6_Rolling = graph.insertVertex(parent, 'A.6 Rolling', 'Rolling', 160.0, 630.0, 80, 30, 'Action') /n var A_5_Steelmaking_and_Continuous_Casting_A_6_Rolling = graph.insertEdge(parent, null, '', A_5_Steelmaking_and_Continuous_Casting, A_6_Rolling ) /n var A_7_Surface_Treatment = graph.insertVertex(parent, 'A.7 Surface Treatment', 'Surface Treatment', 160.0, 672.0, 80, 30, 'Action') /n var A_6_Rolling_A_7_Surface_Treatment = graph.insertEdge(parent, null, '', A_6_Rolling, A_7_Surface_Treatment ) /n var A_Steelmaking_process_END = graph.insertVertex(parent, 'A Steelmaking process_END', '', 185.0, 714.0, 30, 30, 'Process_END') /n var A_7_Surface_Treatment_A_Steelmaking_process_END = graph.insertEdge(parent, null, '', A_7_Surface_Treatment, A_Steelmaking_process_END, 'Arrow_Edge_Process' ) /n var A_2_1_1_Prompt_order_processing = graph.insertVertex(parent, 'A.2.1.1 Prompt order processing', 'Prompt order processing', 80.0, 210.0, 80, 30, 'Action') /n var A_2_1_p1_A_2_1_1_Prompt_order_processing = graph.insertEdge(parent, null, '', A_2_1_p1, A_2_1_1_Prompt_order_processing ) /n var A_2_2_1_Optimal_load_control = graph.insertVertex(parent, 'A.2.2.1 Optimal load control', 'Optimal load control', 240.0, 210.0, 80, 30, 'Action') /n var A_2_2_p2_A_2_2_1_Optimal_load_control = graph.insertEdge(parent, null, '', A_2_2_p2, A_2_2_1_Optimal_load_control ) /n var A_2_1_p1_END = graph.insertVertex(parent, 'A.2.1 p1_END', '', 120.0, 267.0, 0, 0, 'Process_END') /n var A_2_1_1_Prompt_order_processing_A_2_1_p1_END = graph.insertEdge(parent, null, '', A_2_1_1_Prompt_order_processing, A_2_1_p1_END ) /n var A_2_and_END = graph.insertVertex(parent, 'A.2 and_END', 'OR', 185.0, 294.0, 30, 30, 'And_END') /n var A_2_1_p1_END_A_2_and_END = graph.insertEdge(parent, null, '', A_2_1_p1_END, A_2_and_END ) /n var A_2_2_p2_END = graph.insertVertex(parent, 'A.2.2 p2_END', '', 280.0, 267.0, 0, 0, 'Process_END') /n var A_2_2_1_Optimal_load_control_A_2_2_p2_END = graph.insertEdge(parent, null, '', A_2_2_1_Optimal_load_control, A_2_2_p2_END ) /n var A_2_2_p2_END_A_2_and_END = graph.insertEdge(parent, null, '', A_2_2_p2_END, A_2_and_END ) /n var A_2_and_END_A_3_and = graph.insertEdge(parent, null, '', A_2_and_END, A_3_and ) /n var A_2_and_END_A_3_and = graph.insertEdge(parent, null, '', A_2_and_END, A_3_and ) /n var A_3_1_1_Live_update_of_furnace_condition = graph.insertVertex(parent, 'A.3.1.1 Live update of furnace condition', 'Live update of furnace condition', 80.0, 420.0, 80, 30, 'Action') /n var A_3_1_p3_A_3_1_1_Live_update_of_furnace_condition = graph.insertEdge(parent, null, '', A_3_1_p3, A_3_1_1_Live_update_of_furnace_condition ) /n var A_3_2_1_Maintaining_precise_temperature = graph.insertVertex(parent, 'A.3.2.1 Maintaining precise temperature', 'Maintaining precise temperature', 240.0, 420.0, 80, 30, 'Action') /n var A_3_2_p4_A_3_2_1_Maintaining_precise_temperature = graph.insertEdge(parent, null, '', A_3_2_p4, A_3_2_1_Maintaining_precise_temperature ) /n var A_3_1_p3_END = graph.insertVertex(parent, 'A.3.1 p3_END', '', 120.0, 477.0, 0, 0, 'Process_END') /n var A_3_1_1_Live_update_of_furnace_condition_A_3_1_p3_END = graph.insertEdge(parent, null, '', A_3_1_1_Live_update_of_furnace_condition, A_3_1_p3_END ) /n var A_3_and_END = graph.insertVertex(parent, 'A.3 and_END', 'OR', 185.0, 504.0, 30, 30, 'And_END') /n var A_3_1_p3_END_A_3_and_END = graph.insertEdge(parent, null, '', A_3_1_p3_END, A_3_and_END ) /n var A_3_2_p4_END = graph.insertVertex(parent, 'A.3.2 p4_END', '', 280.0, 477.0, 0, 0, 'Process_END') /n var A_3_2_1_Maintaining_precise_temperature_A_3_2_p4_END = graph.insertEdge(parent, null, '', A_3_2_1_Maintaining_precise_temperature, A_3_2_p4_END ) /n var A_3_2_p4_END_A_3_and_END = graph.insertEdge(parent, null, '', A_3_2_p4_END, A_3_and_END ) /n var A_3_and_END_A_4_Ironmaking = graph.insertEdge(parent, null, '', A_3_and_END, A_4_Ironmaking ) /n var A_3_and_END_A_4_Ironmaking = graph.insertEdge(parent, null, '', A_3_and_END, A_4_Ironmaking ) /n \"\n",
       "               frameborder=\"0\"\n",
       "               allowfullscreen\n",
       "           ></iframe>\n",
       "           "
      ],
      "text/plain": [
       "<IPython.core.display.HTML object>"
      ]
     },
     "metadata": {},
     "output_type": "display_data"
    }
   ],
   "source": [
    "# Test 1\n",
    "p = Process(\"Steelmaking process\")\n",
    "\n",
    "p.Action(\"Production Planning\") \n",
    "\n",
    "p1, p2 = p.And('p1', 'p2')\n",
    "\n",
    "p1.Action(\"Prompt order processing\") \n",
    "p2.Action(\"Optimal load control\") \n",
    "\n",
    "p3, p4 = p.And('p3', 'p4')\n",
    "\n",
    "p3.Action(\"Live update of furnace condition\") \n",
    "p4.Action(\"Maintaining precise temperature\") \n",
    "\n",
    "p.Action(\"Ironmaking\") \n",
    "\n",
    "# p5, p6 = p.And('p5', 'p6')\n",
    "\n",
    "# p5.Action(\"Linked information during blowing\") \n",
    "# p6.Action(\"Meeting the target temperature\") \n",
    "\n",
    "\n",
    "p.Action(\"Steelmaking and Continuous Casting\") \n",
    "p.Action(\"Rolling\") \n",
    "p.Action(\"Surface Treatment\") \n",
    "\n",
    "show(p)"
   ]
  },
  {
   "cell_type": "code",
   "execution_count": null,
   "metadata": {},
   "outputs": [],
   "source": []
  }
 ],
 "metadata": {
  "kernelspec": {
   "display_name": "Python 3",
   "language": "python",
   "name": "python3"
  },
  "language_info": {
   "codemirror_mode": {
    "name": "ipython",
    "version": 3
   },
   "file_extension": ".py",
   "mimetype": "text/x-python",
   "name": "python",
   "nbconvert_exporter": "python",
   "pygments_lexer": "ipython3",
   "version": "3.7.4"
  }
 },
 "nbformat": 4,
 "nbformat_minor": 4
}
